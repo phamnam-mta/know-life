{
 "cells": [
  {
   "cell_type": "code",
   "execution_count": 1,
   "metadata": {},
   "outputs": [
    {
     "data": {
      "text/plain": [
       "696"
      ]
     },
     "execution_count": 1,
     "metadata": {},
     "output_type": "execute_result"
    }
   ],
   "source": [
    "import json\n",
    "with open(\"/Users/namph/Documents/know-life-update/know-life/data/kb/raw data/vinmec_data.json\") as file:\n",
    "    data = json.load(file)\n",
    "len(data)"
   ]
  },
  {
   "cell_type": "code",
   "execution_count": 2,
   "metadata": {},
   "outputs": [
    {
     "data": {
      "text/plain": [
       "['overview',\n",
       " 'cause',\n",
       " 'symptom',\n",
       " 'infection',\n",
       " 'riskfactor',\n",
       " 'prevention',\n",
       " 'diagnosis',\n",
       " 'treatment',\n",
       " 'main_type',\n",
       " 'severity',\n",
       " 'place']"
      ]
     },
     "execution_count": 2,
     "metadata": {},
     "output_type": "execute_result"
    }
   ],
   "source": [
    "a = []\n",
    "for d in data:\n",
    "    for v in d[\"attributes\"]:\n",
    "        if v[\"attribute\"] not in a:\n",
    "            a.append(v[\"attribute\"])\n",
    "a"
   ]
  },
  {
   "cell_type": "code",
   "execution_count": 3,
   "metadata": {},
   "outputs": [],
   "source": [
    "# vinmec disease key: ['url', 'name', 'attributes', 'faq', 'department_key', 'synonym', 'refereces']\n",
    "# vinmec attributes key: ['overview','cause','symptom','infection','riskfactor','prevention','diagnosis','treatment','main_type','severity','place']\n",
    "disease_att = ['overview','cause','symptom','infection','riskfactor','prevention','diagnosis','treatment','severity']\n",
    "diseases = []\n",
    "for d in data:\n",
    "    disease = {\n",
    "        \"name\": d.get(\"name\"),\n",
    "        \"thumbnail\": \"\",\n",
    "        \"reference\": {\n",
    "            \"source\": d.get(\"url\"),\n",
    "            \"author\": \"Vinmec\",\n",
    "            \"viewed\": \"07/01/2022\"\n",
    "        },\n",
    "        \"synonym\": d.get(\"synonym\"),\n",
    "        \"update_by\": \"\"\n",
    "    }\n",
    "    for a in disease_att:\n",
    "        temp = \"\"\n",
    "        for v_a in d[\"attributes\"]:\n",
    "            if v_a[\"attribute\"] == a:\n",
    "                disease[a] = \"<br>\".join(v_a[\"content\"])\n",
    "                break\n",
    "    diseases.append(disease)"
   ]
  },
  {
   "cell_type": "code",
   "execution_count": 4,
   "metadata": {},
   "outputs": [],
   "source": [
    "with open(\"diseases.json\", \"w\") as file:\n",
    "    json.dump(diseases, file,ensure_ascii=False)"
   ]
  },
  {
   "cell_type": "code",
   "execution_count": null,
   "metadata": {},
   "outputs": [],
   "source": []
  }
 ],
 "metadata": {
  "interpreter": {
   "hash": "9db5377f7af6b00f7a57a191b3a043bdd4a5004e19182a8a486dcfc1f4c7fb83"
  },
  "kernelspec": {
   "display_name": "Python 3.8.12 64-bit ('convo-ai': conda)",
   "language": "python",
   "name": "python3"
  },
  "language_info": {
   "codemirror_mode": {
    "name": "ipython",
    "version": 3
   },
   "file_extension": ".py",
   "mimetype": "text/x-python",
   "name": "python",
   "nbconvert_exporter": "python",
   "pygments_lexer": "ipython3",
   "version": "3.8.12"
  },
  "orig_nbformat": 4
 },
 "nbformat": 4,
 "nbformat_minor": 2
}
