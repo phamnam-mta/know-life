{
 "cells": [
  {
   "cell_type": "code",
   "execution_count": 1,
   "metadata": {},
   "outputs": [
    {
     "name": "stdout",
     "output_type": "stream",
     "text": [
      "705\n"
     ]
    }
   ],
   "source": [
    "import json\n",
    "from tqdm import tqdm\n",
    "with open('data/raw_data.json') as f:\n",
    "        data = json.load(f)\n",
    "print(len(data))"
   ]
  },
  {
   "cell_type": "code",
   "execution_count": 2,
   "metadata": {},
   "outputs": [
    {
     "name": "stdout",
     "output_type": "stream",
     "text": [
      "['disease-description', 'disease-causes', 'disease-symptoms_free', 'disease-overview', 'disease-prevention', 'disease-diagnosis', 'disease-treatment', 'disease-treatment_summary']\n",
      "8\n"
     ]
    }
   ],
   "source": [
    "# Number of attributes\n",
    "attributes = []\n",
    "\n",
    "for sample in data:\n",
    "    disease = list(sample.keys())[0]      \n",
    "    for att_obj in sample[disease]:\n",
    "        for k , v in att_obj.items():\n",
    "            if k not in attributes:\n",
    "                attributes.append(k)\n",
    "print(attributes)\n",
    "print(len(attributes)) # 8"
   ]
  },
  {
   "cell_type": "markdown",
   "metadata": {},
   "source": [
    "## Turn raw data to structured data\n",
    "- Sentences\n",
    "- Rename 'disease-overview' -> 'disease-risk-factor'\n",
    "- Get short answer for each attribute\n",
    "- Unique key\n",
    "- Synonyms"
   ]
  },
  {
   "cell_type": "code",
   "execution_count": 3,
   "metadata": {},
   "outputs": [],
   "source": [
    "# Format data to list of disease\n",
    "\n",
    "DATA = []\n",
    "for sample in data:\n",
    "    for disease, _ in sample.items():\n",
    "        \n",
    "        disease_object = {}\n",
    "        disease_object['disease'] = disease\n",
    "        for att_obj in sample[disease]:\n",
    "            for k,v in att_obj.items():\n",
    "                disease_object[k] = v\n",
    "        DATA.append(disease_object)"
   ]
  },
  {
   "cell_type": "code",
   "execution_count": 4,
   "metadata": {},
   "outputs": [],
   "source": [
    "# split into sentences and rename\n",
    "\n",
    "for disease_object in DATA:\n",
    "    for k,v in disease_object.items():\n",
    "        disease_object[k] = v.split('\\n')"
   ]
  },
  {
   "cell_type": "code",
   "execution_count": 5,
   "metadata": {},
   "outputs": [
    {
     "data": {
      "text/plain": [
       "{'disease': ['gioi leo'],\n",
       " 'disease-description': ['Giời leo là một trong những bệnh phổ biến hiện nay, hầu hết mọi người ai cũng đã từng mắc phải. Vậy giời leo là bệnh gì?',\n",
       "  'Giời leo (hay còn gọi là bệnh zona) là một bệnh thường kèm theo những đau đớn kéo dài từ 6 tháng đến vài năm. Để hạn chế nguy cơ mắc bệnh, hiện nay đã có vắc xin tiêm phòng có thể phòng được cả bệnh thủy đậu và bệnh giời leo.',\n",
       "  'Bệnh giời leo thường xuất hiện vào mùa mưa với thời tiết lạnh, độ ẩm cao kết hợp với cơ địa mệt mỏi, sức đề kháng yếu.'],\n",
       " 'disease-causes': ['Giời leo là bệnh viêm dây thần kinh do virus nhóm Herpes gây ra, có thể xuất hiện ở bất cứ đâu trên cơ thể con người nhưng thường gặp nhất là ở vùng liên sườn, gần tai và đùi trong. Ngoài ra, bệnh còn xuất hiện ở bụng, cổ, vai, mặt, lưng, nguy hiểm nhất và khó điều trị nhất là ở hố mắt.'],\n",
       " 'disease-symptoms_free': ['Bệnh giời leo có những dấu hiệu và triệu chứng bệnh như sau:',\n",
       "  'Tổn thương da đau rát như bị trầy xước hay bỏng, ngứa râm ran giống bị kim châm, thường xuất hiện ở các vùng da bị hở hoặc có nhiều trường hợp rải rác khắp người.',\n",
       "  'Xuất hiện mụn nước cấp tính ở những vùng nhiễm bệnh. Thời gian đầu các mụn sẽ nhỏ li ti sau đó lan rộng thành từng mảng.',\n",
       "  'Sốt nhẹ do mệt mỏi vì phải chịu đau đớn cả bên trong và bên ngoài.',\n",
       "  'Ngoài ra còn có các triệu chứng khác như: giảm thính lực một bên tai, mất vị giác phần trước lưỡi, chóng mặt, hoa mắt, ù tai và có thể yếu một bên mắt. Tình trạng này khiến người bệnh bị chảy nước mũi, thức ăn sẽ bị mắc kẹt ở nửa bên bị ảnh hưởng và gây ra tình trạng khô mắt.'],\n",
       " 'disease-treatment_summary': ['Bệnh giời leo có lây lan, khi dùng tay tiếp xúc vào vùng da bị bệnh rồi sờ vào những vùng da khác sẽ làm cho bệnh lây lan ra nhiều hơn. Do đó, khi xuất hiện các vệt đỏ dài dù có rất ngứa, khó chịu tuyệt đối không dùng tay để gãi.'],\n",
       " 'disease-overview': ['Các yếu tố làm tăng nguy cơ bị giời leo như:',\n",
       "  'Người cao tuổi, đặc biệt trên 60 tuổi;',\n",
       "  'Những người bị suy giảm hệ miễn dịch;',\n",
       "  'Những bệnh nhân có tiền sử bị thủy đậu.'],\n",
       " 'disease-prevention': ['Để phòng ngừa bệnh giời leo có thể gợi ý một số biện pháp sau:',\n",
       "  'Vệ sinh, giữ sạch vùng da bị phát ban; dùng băng ẩm đè lên vùng phát ban để giảm đau;',\n",
       "  'Sử dụng thuốc nhỏ mắt để dưỡng ẩm cho mắt khi có dấu hiệu khô; buổi tối dùng thuốc mỡ tra mắt hoặc dùng miếng dán che mắt;',\n",
       "  'Tiêm vắc-xin phòng ngừa thủy đậu cho trẻ;'],\n",
       " 'disease-diagnosis': ['Để chẩn đoán bệnh giời leo có thể dựa vào bệnh sử của bệnh nhân hoặc khám lâm sàng. Thông qua việc bóc lớp trên cùng của bóng nước, cạo lấy lớn đáy để xét nghiệm chẩn đoán bệnh.',\n",
       "  'Trong một số trường hợp, bác sĩ có thể phải sử dụng phương pháp chụp cộng hưởng từ để loại trừ các bệnh lý khác.'],\n",
       " 'disease-treatment': ['Để điều trị bệnh giời leo có thể sử dụng các phương pháp sau:',\n",
       "  'Điều trị bằng thuốc kháng sinh;',\n",
       "  'Thanh nhiệt giải độc cơ thể bằng việc duy trì chế độ ăn hợp lý, bổ sung đầy đủ các dưỡng chất, vitamin, khoáng chất cần thiết để tăng sức đề kháng của cơ thể. Ăn nhiều thực phẩm có chất xơ, rau củ quả có màu xanh, uống nhiều nước để giải độc cho cơ thể.',\n",
       "  'Sử dụng đỗ xanh hoặc lá khổ qua để chữa bệnh: đậu xanh hoặc lá khổ qua, gạo nếp giã nhuyễn đắp lên vị trí bị giời leo sau 3-4 ngày sẽ khỏi bệnh.',\n",
       "  'Sử dụng thuốc kháng viêm, giảm đau: thuộc nhóm sterroide điều trị tránh cảm giác khó chịu cho người bệnh; Sử dụng gạc tẩm huyết thanh hoặc dung dịch aluminin acetate 5% để giữ sạch vết thương, không bị nhiễm trùng; Sử dụng các dung dịch sát khuẩn và milian eosin; Sử dụng thuốc kháng vi rút tùy theo tình trạng bệnh và chỉ dẫn của bác sĩ.',\n",
       "  '    Xem thêm:',\n",
       "  'Có thể điều trị dứt điểm đau sau Zona không?',\n",
       "  'Làm thế nào để thủy đậu không để lại sẹo?',\n",
       "  'Viêm da cơ địa: Những điều cần biết']}"
      ]
     },
     "execution_count": 5,
     "metadata": {},
     "output_type": "execute_result"
    }
   ],
   "source": [
    "DATA[123]"
   ]
  },
  {
   "cell_type": "code",
   "execution_count": 6,
   "metadata": {},
   "outputs": [],
   "source": [
    "# get short answer and filter database\n",
    "import re\n",
    "\n",
    "def get_short_answer(li_of_sentence, att=None):\n",
    "    ''' Get short answer for definition base on att\n",
    "    Args:\n",
    "        - li_of_sentence (list) of sentences\n",
    "        - att (str) : attribute of given disease\n",
    "    Return:\n",
    "    \n",
    "    '''\n",
    "    result = li_of_sentence\n",
    "    if att == None:\n",
    "        return result\n",
    "\n",
    "    \n",
    "    if att == 'disease-description':\n",
    "        # the near-by sentence of question\n",
    "        for i, sent in enumerate(li_of_sentence):\n",
    "            # is question\n",
    "            if '?' in sent and i == 0:\n",
    "                pattern = \".+?(?= là)\"\n",
    "                disease = re.search(pattern, sent)\n",
    "                if disease == None:\n",
    "                    try:\n",
    "                        result = li_of_sentence[i+1]\n",
    "                    except:\n",
    "                        print(i)\n",
    "                        print(li_of_sentence)\n",
    "                    return result \n",
    "                \n",
    "                disease = disease.group(0).lower()\n",
    "                result = li_of_sentence[i+1:]\n",
    "                # get answer sentence\n",
    "                for sent in result:\n",
    "                    sent_ = sent.lower()\n",
    "                    if sent_.find('là')!= -1 and sent_.find(disease) != -1 and sent_.find(disease) < sent_.find('là'):\n",
    "                        result = [sent]\n",
    "                        break\n",
    "                break\n",
    "                \n",
    "    if att in ['disease-overview', 'disease-prevention','disease-causes', 'disease-symptoms_free','disease-diagnosis','disease-treatment','disease-treatment_summary']:\n",
    "        if '?' in li_of_sentence[0]:\n",
    "            result = li_of_sentence[1:]\n",
    "        else:\n",
    "            for i, sent in enumerate(li_of_sentence):\n",
    "                # is question\n",
    "                if ':' in sent:\n",
    "                    result = li_of_sentence[i:]\n",
    "                    break\n",
    "                \n",
    "    return result\n",
    "\n",
    "def filter_noise(li_of_sentence):\n",
    "    ''' Remove questions/noise sentences in given list\n",
    "    Args:\n",
    "        - li_of_sentence (list):\n",
    "    '''\n",
    "        # remove \"read more\"\n",
    "    for i, sent in enumerate(li_of_sentence):\n",
    "        # is question\n",
    "        if 'xem thêm' in sent.lower() or 'xem thêm:' in sent.lower():\n",
    "            li_of_sentence = li_of_sentence[:i]\n",
    "            break\n",
    "    return li_of_sentence"
   ]
  },
  {
   "cell_type": "code",
   "execution_count": 8,
   "metadata": {},
   "outputs": [],
   "source": [
    "FILTERED_DATA = []\n",
    "\n",
    "for disease_object in DATA:\n",
    "    d_object = {}\n",
    "    for k,v in disease_object.items():\n",
    "        d_object[k] = v\n",
    "        if k != 'disease':\n",
    "            d_object[k] = filter_noise(v)\n",
    "            d_object[k] = get_short_answer(v,k)\n",
    "           \n",
    "        \n",
    "#     # symnonym\n",
    "#     d_object['synonym'] = get_synonym(d_object['disease'][0],d_object['disease-description'])\n",
    "#     # unique key\n",
    "#     d_object['key'] = get_unique_key(d_object)\n",
    "            \n",
    "    FILTERED_DATA.append(d_object)"
   ]
  },
  {
   "cell_type": "code",
   "execution_count": 26,
   "metadata": {},
   "outputs": [
    {
     "name": "stdout",
     "output_type": "stream",
     "text": [
      "['Bệnh Basedow xảy ra ở phụ nữ nhiều hơn, chiếm tới 80% các trường hợp, thường ở độ tuổi từ 20-50 và bệnh nhân có tiền sử gia đình biểu hiện bệnh tuyến giáp.', 'Bệnh basedow rất nguy hiểm cho hệ tim mạch, nếu tình trạng bệnh kéo dài mà không được điều trị đúng cách thì bệnh dễ dẫn tới biến chứng bão giáp khiến bệnh nhân tử vong trong tình trạng suy tim.']\n"
     ]
    }
   ],
   "source": [
    "print(FILTERED_DATA[32]['disease-description'])"
   ]
  },
  {
   "cell_type": "code",
   "execution_count": 219,
   "metadata": {},
   "outputs": [
    {
     "name": "stdout",
     "output_type": "stream",
     "text": [
      "['Rối loạn tiền đình là tình trạng tổn thương dây thần kinh số 8 do nhiều nguyên nhân khác nhau khiến thông tin dẫn truyền bị sai lệch làm cho cơ thể mất khả năng kiểm soát thăng bằng, hoa mắt, chóng mặt, ù tai, buồn nôn…']\n",
      "==========================\n"
     ]
    }
   ],
   "source": [
    "print(FILTERED_DATA[0]['disease-description'])\n",
    "print('==========================')\n",
    "# print(FILTERED_DATA[0]['disease-description-short'])"
   ]
  },
  {
   "cell_type": "code",
   "execution_count": 220,
   "metadata": {},
   "outputs": [],
   "source": [
    "with open('data.json', 'w') as f:\n",
    "    json.dump(FILTERED_DATA, f, ensure_ascii=False)"
   ]
  },
  {
   "cell_type": "markdown",
   "metadata": {},
   "source": [
    "### Get disease,question,relation"
   ]
  },
  {
   "cell_type": "code",
   "execution_count": 223,
   "metadata": {},
   "outputs": [],
   "source": [
    "import pandas as pd\n",
    "\n",
    "def get_question(li_of_sentences):\n",
    "    ''' Return list of questions\n",
    "    '''\n",
    "    result = []\n",
    "    for sent in li_of_sentences:\n",
    "        if '?' in sent:\n",
    "            result.append(sent)\n",
    "    return result"
   ]
  },
  {
   "cell_type": "code",
   "execution_count": 226,
   "metadata": {},
   "outputs": [],
   "source": [
    "'''\n",
    "[\n",
    "    {\n",
    "        'disease' : (str),\n",
    "        'questions' : [\n",
    "            {\n",
    "                'question' : (list of str) \n",
    "                'relation' : (str)\n",
    "                'context' :  (str)\n",
    "            }\n",
    "        ]\n",
    "    }\n",
    "    \n",
    "]\n",
    "'''\n",
    "QUESTION_DATA = []\n",
    "\n",
    "for disease_object in DATA:\n",
    "    d_object = {}\n",
    "    d_object['disease'] = disease_object['disease']\n",
    "    d_object['questions'] = []\n",
    "    for k,v in disease_object.items():\n",
    "        if k != 'disease':\n",
    "            question = get_question(v)\n",
    "            if question != []:\n",
    "                d_object['questions'].append({\n",
    "                    'question' : question,\n",
    "                    'relation' : k,\n",
    "                    'context' : v\n",
    "                })\n",
    "    if d_object['questions'] != []:\n",
    "        QUESTION_DATA.append(d_object)"
   ]
  },
  {
   "cell_type": "code",
   "execution_count": 230,
   "metadata": {},
   "outputs": [],
   "source": [
    "with open('question_data.json', 'w') as f:\n",
    "    json.dump(QUESTION_DATA, f, ensure_ascii=False)"
   ]
  },
  {
   "cell_type": "markdown",
   "metadata": {},
   "source": [
    "## Entity Linking\n",
    "1. english\n",
    "2. main type\n",
    "3. related type"
   ]
  },
  {
   "cell_type": "code",
   "execution_count": 40,
   "metadata": {},
   "outputs": [],
   "source": [
    "def get_synonym(disease, disease_description):\n",
    "    ''' Return list of synonym\n",
    "    Args:\n",
    "        - disease (str) : non-acent\n",
    "        - disease-description (list) of sentences\n",
    "    '''\n",
    "    # get vietnamese disease\n",
    "    vi_disease = get_vi_disease(disease,disease_description)\n",
    "    \n",
    "    # get synonyms : E\n",
    "    # TODO\n",
    "    \n",
    "    return vi_disease\n",
    "\n",
    "def find_synonyms(disease):\n",
    "    '''\n",
    "    - main type\n",
    "    - related type\n",
    "    - synonym 1-1\n",
    "    - english\n",
    "    Args:\n",
    "        - disease (str)\n",
    "    '''\n",
    "def remove_accent(s):\n",
    "    s = re.sub(r'[àáạảãâầấậẩẫăằắặẳẵ]', 'a', s)\n",
    "    s = re.sub(r'[ÀÁẠẢÃĂẰẮẶẲẴÂẦẤẬẨẪ]', 'A', s)\n",
    "    s = re.sub(r'[èéẹẻẽêềếệểễ]', 'e', s)\n",
    "    s = re.sub(r'[ÈÉẸẺẼÊỀẾỆỂỄ]', 'E', s)\n",
    "    s = re.sub(r'[òóọỏõôồốộổỗơờớợởỡ]', 'o', s)\n",
    "    s = re.sub(r'[ÒÓỌỎÕÔỒỐỘỔỖƠỜỚỢỞỠ]', 'O', s)\n",
    "    s = re.sub(r'[ìíịỉĩ]', 'i', s)\n",
    "    s = re.sub(r'[ÌÍỊỈĨ]', 'I', s)\n",
    "    s = re.sub(r'[ùúụủũưừứựửữ]', 'u', s)\n",
    "    s = re.sub(r'[ƯỪỨỰỬỮÙÚỤỦŨ]', 'U', s)\n",
    "    s = re.sub(r'[ỳýỵỷỹ]', 'y', s)\n",
    "    s = re.sub(r'[ỲÝỴỶỸ]', 'Y', s)\n",
    "    s = re.sub(r'[Đ]', 'D', s)\n",
    "    s = re.sub(r'[đ]', 'd', s)\n",
    "    return s\n",
    "\n",
    "def get_vi_disease(disease,disease_description):\n",
    "    disease = disease.replace('benh ','').strip()\n",
    "    # find disease in non-accent description\n",
    "    for sent in disease_description:\n",
    "        sent_ = remove_accent(sent.lower())\n",
    "        start_idx = sent_.find(disease)\n",
    "        if start_idx != -1:\n",
    "            return sent[start_idx : start_idx + len(disease)].lower()\n",
    "    return disease"
   ]
  },
  {
   "cell_type": "code",
   "execution_count": 41,
   "metadata": {},
   "outputs": [
    {
     "name": "stdout",
     "output_type": "stream",
     "text": [
      "b3c502daa3a87688982f331e609d13df0f7243b6\n",
      "3606ce090e6a5002ab0d14985c1ef6c166b896e1\n"
     ]
    }
   ],
   "source": [
    "# Unique key\n",
    "import hashlib\n",
    "\n",
    "def get_unique_key(value):\n",
    "    ''' Return a hash for given dict\n",
    "    Args:\n",
    "        - value (dict)\n",
    "    '''\n",
    "    return hashlib.sha1(json.dumps(value, sort_keys=True).encode()).hexdigest()\n",
    "\n",
    "a = FILTERED_DATA[0]\n",
    "\n",
    "print(get_unique_key(a))\n",
    "\n",
    "b = FILTERED_DATA[1]\n",
    "\n",
    "print(get_unique_key(b))"
   ]
  },
  {
   "cell_type": "code",
   "execution_count": 42,
   "metadata": {},
   "outputs": [
    {
     "name": "stdout",
     "output_type": "stream",
     "text": [
      "705\n"
     ]
    }
   ],
   "source": [
    "DISEASE = []\n",
    "for sample in FILTERED_DATA:\n",
    "    disease = get_vi_disease(sample['disease'][0],sample['disease-description'])\n",
    "    DISEASE.append(disease)\n",
    "print(len(DISEASE))"
   ]
  },
  {
   "cell_type": "code",
   "execution_count": 43,
   "metadata": {},
   "outputs": [
    {
     "data": {
      "text/plain": [
       "['rối loạn tiền đình',\n",
       " 'lao phoi',\n",
       " 'te bi tay chan',\n",
       " 'viêm đại tràng',\n",
       " 'giời leo']"
      ]
     },
     "execution_count": 43,
     "metadata": {},
     "output_type": "execute_result"
    }
   ],
   "source": [
    "DISEASE[:5]"
   ]
  },
  {
   "cell_type": "code",
   "execution_count": 44,
   "metadata": {},
   "outputs": [
    {
     "data": {
      "text/plain": [
       "['Bệnh lao (còn gọi là TB) là một bệnh truyền nhiễm do vi trùng lao gây nên. Nếu vi trùng lao thâm nhập vào một cơ quan nào đó trong cơ thể và sinh sôi đồng thời cơ thể không thể chống lại nó, khi đó sẽ hình thành bệnh lao.']"
      ]
     },
     "execution_count": 44,
     "metadata": {},
     "output_type": "execute_result"
    }
   ],
   "source": [
    "FILTERED_DATA[1]['disease-description']"
   ]
  },
  {
   "cell_type": "code",
   "execution_count": 2,
   "metadata": {},
   "outputs": [],
   "source": [
    "from googletrans import Translator\n",
    "translator = Translator()"
   ]
  },
  {
   "cell_type": "code",
   "execution_count": 3,
   "metadata": {},
   "outputs": [
    {
     "name": "stdout",
     "output_type": "stream",
     "text": [
      "vestibular disorders\n"
     ]
    }
   ],
   "source": [
    "translation = translator.translate('rối loạn tiền đình', dest='en')\n",
    "print(translation.text)"
   ]
  },
  {
   "cell_type": "code",
   "execution_count": 1,
   "metadata": {},
   "outputs": [
    {
     "name": "stdout",
     "output_type": "stream",
     "text": [
      "/home/minh/anaconda3/lib/python3.8/site-packages/secretstorage/dhcrypto.py:16: CryptographyDeprecationWarning: int_from_bytes is deprecated, use int.from_bytes instead\n",
      "  from cryptography.utils import int_from_bytes\n",
      "/home/minh/anaconda3/lib/python3.8/site-packages/secretstorage/util.py:25: CryptographyDeprecationWarning: int_from_bytes is deprecated, use int.from_bytes instead\n",
      "  from cryptography.utils import int_from_bytes\n",
      "Collecting mtranslate\n",
      "  Downloading mtranslate-1.8.tar.gz (2.4 kB)\n",
      "Building wheels for collected packages: mtranslate\n",
      "  Building wheel for mtranslate (setup.py) ... \u001b[?25ldone\n",
      "\u001b[?25h  Created wheel for mtranslate: filename=mtranslate-1.8-py3-none-any.whl size=3698 sha256=9024245361ce6067d014a622b3e4d39421ceb75291eaff7d54a1083cc50f1aa6\n",
      "  Stored in directory: /home/minh/.cache/pip/wheels/99/49/c3/b1e6cb0d8b908238238a086ad2d0f30d4a7c692957e6cea74b\n",
      "Successfully built mtranslate\n",
      "Installing collected packages: mtranslate\n",
      "Successfully installed mtranslate-1.8\n"
     ]
    }
   ],
   "source": [
    "!pip install mtranslate"
   ]
  },
  {
   "cell_type": "code",
   "execution_count": 3,
   "metadata": {},
   "outputs": [
    {
     "name": "stdout",
     "output_type": "stream",
     "text": [
      "viêm xoang hàm trên\n"
     ]
    }
   ],
   "source": [
    "\n",
    "from mtranslate import translate\n",
    "\n",
    "\n",
    "to_translate = 'sinusitis maxillary'\n",
    "print(translate(to_translate,'vi'))"
   ]
  },
  {
   "cell_type": "code",
   "execution_count": null,
   "metadata": {},
   "outputs": [],
   "source": []
  }
 ],
 "metadata": {
  "kernelspec": {
   "display_name": "Python 3",
   "language": "python",
   "name": "python3"
  },
  "language_info": {
   "codemirror_mode": {
    "name": "ipython",
    "version": 3
   },
   "file_extension": ".py",
   "mimetype": "text/x-python",
   "name": "python",
   "nbconvert_exporter": "python",
   "pygments_lexer": "ipython3",
   "version": "3.8.3"
  }
 },
 "nbformat": 4,
 "nbformat_minor": 4
}
