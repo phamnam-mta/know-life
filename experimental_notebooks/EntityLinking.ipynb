{
 "cells": [
  {
   "cell_type": "code",
   "execution_count": 2,
   "metadata": {},
   "outputs": [
    {
     "name": "stdout",
     "output_type": "stream",
     "text": [
      "705\n"
     ]
    }
   ],
   "source": [
    "import json\n",
    "from tqdm import tqdm\n",
    "with open('data.json') as f:\n",
    "        data = json.load(f)\n",
    "print(len(data))"
   ]
  },
  {
   "cell_type": "code",
   "execution_count": 7,
   "metadata": {},
   "outputs": [],
   "source": [
    "def get_synonym(disease, disease_description):\n",
    "    ''' Return list of synonym\n",
    "    Args:\n",
    "        - disease (str) : non-acent\n",
    "        - disease-description (list) of sentences\n",
    "    '''\n",
    "    # get vietnamese disease\n",
    "    vi_disease = get_vi_disease(disease,disease_description)\n",
    "    \n",
    "    # get synonyms : E\n",
    "    # TODO\n",
    "    \n",
    "    return vi_disease\n",
    "\n",
    "def find_synonyms(disease):\n",
    "    '''\n",
    "    - main type\n",
    "    - related type\n",
    "    - synonym 1-1\n",
    "    - english\n",
    "    Args:\n",
    "        - disease (str)\n",
    "    '''\n",
    "def remove_accent(s):\n",
    "    s = re.sub(r'[àáạảãâầấậẩẫăằắặẳẵ]', 'a', s)\n",
    "    s = re.sub(r'[ÀÁẠẢÃĂẰẮẶẲẴÂẦẤẬẨẪ]', 'A', s)\n",
    "    s = re.sub(r'[èéẹẻẽêềếệểễ]', 'e', s)\n",
    "    s = re.sub(r'[ÈÉẸẺẼÊỀẾỆỂỄ]', 'E', s)\n",
    "    s = re.sub(r'[òóọỏõôồốộổỗơờớợởỡ]', 'o', s)\n",
    "    s = re.sub(r'[ÒÓỌỎÕÔỒỐỘỔỖƠỜỚỢỞỠ]', 'O', s)\n",
    "    s = re.sub(r'[ìíịỉĩ]', 'i', s)\n",
    "    s = re.sub(r'[ÌÍỊỈĨ]', 'I', s)\n",
    "    s = re.sub(r'[ùúụủũưừứựửữ]', 'u', s)\n",
    "    s = re.sub(r'[ƯỪỨỰỬỮÙÚỤỦŨ]', 'U', s)\n",
    "    s = re.sub(r'[ỳýỵỷỹ]', 'y', s)\n",
    "    s = re.sub(r'[ỲÝỴỶỸ]', 'Y', s)\n",
    "    s = re.sub(r'[Đ]', 'D', s)\n",
    "    s = re.sub(r'[đ]', 'd', s)\n",
    "    return s\n",
    "\n",
    "def get_vi_disease(disease,disease_description):\n",
    "    disease = disease.replace('benh ','').strip()\n",
    "    # find disease in non-accent description\n",
    "    for sent in disease_description:\n",
    "        sent_ = remove_accent(sent.lower())\n",
    "        start_idx = sent_.find(disease)\n",
    "        if start_idx != -1:\n",
    "            return sent[start_idx : start_idx + len(disease)].lower()\n",
    "    return disease"
   ]
  },
  {
   "cell_type": "code",
   "execution_count": 11,
   "metadata": {},
   "outputs": [],
   "source": [
    "# Unique key\n",
    "import hashlib\n",
    "import re\n",
    "\n",
    "def get_unique_key(value):\n",
    "    ''' Return a hash for given dict\n",
    "    Args:\n",
    "        - value (dict)\n",
    "    '''\n",
    "    return hashlib.sha1(json.dumps(value, sort_keys=True).encode()).hexdigest()"
   ]
  },
  {
   "cell_type": "code",
   "execution_count": 12,
   "metadata": {},
   "outputs": [
    {
     "name": "stdout",
     "output_type": "stream",
     "text": [
      "705\n"
     ]
    }
   ],
   "source": [
    "DISEASE = []\n",
    "for sample in data:\n",
    "    disease = get_vi_disease(sample['disease'][0],sample['disease-description'])\n",
    "    if disease == sample['disease'][0]\n",
    "    \n",
    "    DISEASE.append(disease)\n",
    "print(len(DISEASE))"
   ]
  },
  {
   "cell_type": "code",
   "execution_count": 13,
   "metadata": {},
   "outputs": [
    {
     "data": {
      "text/plain": [
       "['rối loạn tiền đình',\n",
       " 'lao phoi',\n",
       " 'te bi tay chan',\n",
       " 'viêm đại tràng',\n",
       " 'giời leo',\n",
       " 'uốn ván',\n",
       " 'áp xe',\n",
       " 'viêm xoang',\n",
       " 'sốt rét',\n",
       " 'suy thận']"
      ]
     },
     "execution_count": 13,
     "metadata": {},
     "output_type": "execute_result"
    }
   ],
   "source": [
    "DISEASE[:10]"
   ]
  },
  {
   "cell_type": "code",
   "execution_count": 52,
   "metadata": {},
   "outputs": [
    {
     "name": "stdout",
     "output_type": "stream",
     "text": [
      "129\n"
     ]
    }
   ],
   "source": [
    "err = []\n",
    "for i, d in enumerate(DISEASE):\n",
    "    if d == remove_accent(d):\n",
    "        err.append((i,d))\n",
    "print(len(err))\n",
    "# lao\n",
    "# tê bì chân tay\n",
    "# virus ebola\n",
    "# alzheimer\n",
    "# Addison (suy tuyến thượng thận nguyên phát)\n",
    "# alkapton niệu\n",
    "# lao phổi\n",
    "# Lang ben\n",
    "# basedow\n",
    "# Beriberi\n",
    "# Sa sút trí tuệ Dementia\n",
    "# Bệnh quai bị\n",
    "# bệnh sởi\n",
    "# bệnh Rubella\n",
    "# brucella\n",
    "# Babesia\n",
    "# Cryptosporidium\n",
    "# crohn\n",
    "# Căng cơ\n",
    "# Chấy rận , chí rận\n",
    "# chốc đầu, nấm da đầu\n",
    "# Chửa ở vết mổ"
   ]
  },
  {
   "cell_type": "code",
   "execution_count": 99,
   "metadata": {},
   "outputs": [
    {
     "data": {
      "text/plain": [
       "{'disease': ['chan an than kinh bieng an tam ly'],\n",
       " 'disease-description': ['Những người bị các chứng rối loạn ăn uống có những hành vi ăn uống rối loạn và niềm tin méo mó với những nỗi lo lắng thái quá về cân nặng, hình dáng, ăn uống và hình ảnh cơ thể. Các chứng rối loạn ăn uống là các chứng bệnh tâm thần nghiêm trọng; đó không phải là một lựa chọn về lối sống.',\n",
       "  'Các chứng rối loạn ăn uống không chỉ bao gồm sự suy sụp về tâm lý và nỗi đau khổ mà còn đi kèm với những biến chứng y tế lớn trên phạm vi rộng và nghiêm trọng mà có thể gây ảnh hưởng đến tất cả các bộ phận quan trọng trong cơ thể.',\n",
       "  'Các chứng rối loạn ăn uống xảy ra cả ở nam giới và nữ giới, người giàu và người nghèo, và từ tất cả các văn hóa. Không ai muốn mình bị rối loạn ăn uống cả. ',\n",
       "  'Chán ăn tâm thần (tên tiếng Anh là Anorexia Nervosa) thuộc 1 trong 3  chứng rối loạn cho ăn và ăn uống đã được Hướng Dẫn Chẩn Đoán và Thống Kê các Rối Loạn Tâm Thần (DSM) công nhận. Người bị mắc chứng chán ăn tâm thần có thể đặt mức hạn chế hà khắc cho lượng và loại thức ăn mà họ tiêu thụ. Họ có thể không thể duy trì cái được xem là cân nặng khỏe mạnh. Họ cũng có thể bị giảm một lượng cân nặng đáng kể trong một khoảng thời gian ngắn. Kể cả khi những người mắc chứng chán ăn tâm thần đang bị thiếu cân thì họ sẽ vẫn có nỗi sợ hãi rất lớn về việc tăng cân hoặc bị ‘béo’. Những người mắc chứng chán ăn tâm thần cũng có thể tham gia vào việc ăn uống vô độ hoặc các hành vi bù. ',\n",
       "  'Vậy để tìm hiểu bệnh chán ăn tâm thần và nguyên nhân chán ăn tâm thần, mời độc giả xem chi tiết ở nội dung bên dưới. '],\n",
       " 'disease-causes': ['Các yếu tố góp phần cho việc bắt đầu bị rối loạn ăn uống rất phức tạp. Trải nghiệm của từng người chịu ảnh hưởng của một tổng hợp độc nhất các yếu tố về sinh học và môi trường. Như hầu hết các tình trạng sức khỏe, một tổng hợp nhiều yếu tố khác nhau có thể tăng khả năng mà một người sẽ mắc phải một chứng rối loạn ăn uống tại một thời điểm nào đó trong cuộc đời họ. Những yếu tố nguy cơ góp phần vào việc mắc bệnh được biết đến bao gồm: ',\n",
       "  'Tính dễ bị tổn thương gen – Có bằng chứng chứng minh rằng các chứng rối loạn ăn uống có cơ sở di truyền. Điều này có nghĩa là một người có thể kế thừa khả năng phát triển chứng Anorexia Nervosa, Bulimia Nervosa hoặc Háu Ăn. Cũng có bằng chứng rằng ảnh hưởng di truyền này không đơn giản là do sự kế thừa của bất kỳ gien nào mà còn là do một tương tác phức tạp hơn rất nhiều giữa nhiều gen và các yếu tố gen không kế thừa gây ra. ',\n",
       "  'Các yếu tố tâm lý –Cụ thể là nghiên cứu về chứng Anorexia Nervosa và Bulimia Nervosa đã xác định nhiều đặc điểm tính cách mà có thể biểu hiện trước, trong khi, và sau khi phục hồi từ một chứng rối loạn ăn uống. Những yếu tố này bao gồm chủ nghĩa hoàn hảo, rối loạn ám ảnh cưỡng chế, chứng loạn thần kinh chức năng, chứng hay xúc động tiêu cực, sự trốn tránh tác hại và thiếu tự trọng. ',\n",
       "  'Những ảnh hưởng văn hóa-xã hội – Bằng chứng cho thấy rằng những ảnh hưởng văn hóa-xã hội có vai trò trong việc phát triển các chứng rối loạn ăn uống, cụ thể là giữa những người tiếp thu lý tưởng về vẻ đẹp của sự gầy gò. Những hình ảnh được tuyên truyền qua phương tiện truyền thông đại chúng như tivi, tạp chí và quảng cáo là phi thực tế, được tô vẽ và thay đổi để đạt được hình ảnh nhận thức văn hóa “hoàn hảo” mà thực tế là không tồn tại.'],\n",
       " 'disease-symptoms_free': ['Người mắc chứng rối loạn ăn uống có thể có các hành vi ăn uống rối loạn đi kèm với những nỗi lo lắng thái quá về cân nặng, hình dáng, việc ăn uống và hình ảnh cơ thể. Họ có thể biểu hiện tổng hợp các triệu chứng này: ',\n",
       "  'Những dấu hiệu cảnh báo về thể chất: ',\n",
       "  'Giảm cân nhanh chóng hoặc thay đổi liên tục về cân nặng',\n",
       "  'Ngất xỉu hoặc chóng mặt ',\n",
       "  'Luôn luôn cảm thấy mệt mỏi và ngủ không ngon',\n",
       "  'Hầu như lúc nào cũng cảm thấy lạnh, kể cả khi thời tiết ấm',\n",
       "  'Những dấu hiệu cảnh báo về tâm lý:',\n",
       "  'Quá bận tâm về việc ăn uống, thực phẩm, hình thể và cân nặng',\n",
       "  'Cảm thấy lo lắng về các lần ăn uống ',\n",
       "  'Cảm thấy ‘mất kiểm soát’ về thực phẩm',\n",
       "  'Có suy nghĩ méo mó về hình ảnh cơ thể',\n",
       "  'Cảm thấy bị ám ảnh về hình thể, cân nặng và diện mạo',\n",
       "  'Những suy nghĩ khắt khe về thực phẩm là ‘tốt’ hay ‘xấu’ ',\n",
       "  'Những thay đổi trong tình trạng cảm xúc và tâm lý (ví dụ: suy sụp, căng thẳng, lo lắng, cáu kỉnh, tự trọng thấp) ',\n",
       "  'Sử dụng thực phẩm làm nguồn vui (ví dụ: ăn như một cách để giải quyết sự buồn chán, căng thẳng hoặc suy sụp)',\n",
       "  'Sử dụng thực phẩm làm cách trừng phạt bản thân (ví dụ: từ chối ăn vì suy sụp, căng thẳng hoặc các lý do cảm xúc khác) ',\n",
       "  'Những dấu hiệu cảnh báo về hành vi: ',\n",
       "  'Hành vi ăn kiêng (ví dụ: nhịn ăn, tính calo, tránh các nhóm thực phẩm như chất béo và hy-đrát-các-bon) ',\n",
       "  'Ăn uống kín đáo và tránh các bữa ăn với người khác',\n",
       "  'Bằng chứng của háu ăn (ví dụ: sự biến mất của một khối lượng lớn thực phẩm)',\n",
       "  'Những thay đổi trong phong cách ăn mặc (ví dụ: mặc quần áo rộng thùng thình) ',\n",
       "  'Tập thể dục cưỡng ép hoặc quá mức (ví dụ: tập thể dục trong thời tiết xấu, bất kể ốm đau, bị thương hay các sự kiện xã hội; và cảm thấy đau khổ nếu không thể tập thể dục) • Lập các danh sách thực phẩm tốt hoặc xấu',\n",
       "  'Bỗng nhiên không thích thực phẩm mà họ đã từng luôn thích trước đây ',\n",
       "  'Những thói quen ám ảnh liên quan đến việc chuẩn bị đồ ăn và ăn uống mà các thói quen đó không phải là do truyền thống văn hóa ',\n",
       "  'Sự nhạy cảm thái quá với những bình luận về hình thể, cân nặng, việc ăn uống và tập thể dục ',\n",
       "  'Hành vi bí mật xung quanh thực phẩm (ví dụ: nói rằng họ đã ăn trong khi họ chưa ăn thực phẩm nào đó, giấu thực phẩm chưa ăn) ',\n",
       "  'Biến chứng',\n",
       "  'Chán ăn có thể có nhiều biến chứng. Ở mức nghiêm trọng nhất, nó có thể gây tử vong. Cái chết có thể xảy ra đột ngột - ngay cả khi người bệnh không bị thiếu cân trầm trọng. Điều này có thể xảy ra do nhịp tim bất thường do rối loạn nhịp tim hoặc mất cân bằng điện giải như các khoáng chất như natri, kali và canxi duy trì sự cân bằng chất lỏng trong cơ thể con người.',\n",
       "  'Các biến chứng khác của chán ăn bao gồm:',\n",
       "  'Thiếu máu',\n",
       "  'Các vấn đề về tim, chẳng hạn như hở van hai lá, nhịp tim bất thường hoặc suy tim',\n",
       "  'Loãng xương, làm tăng nguy cơ gãy xương',\n",
       "  'Mất cơ bắp',\n",
       "  'Ở nữ giới, không có kinh nguyệt',\n",
       "  'Ở nam giới, giảm testosterone',\n",
       "  'Các vấn đề về đường tiêu hóa, chẳng hạn như táo bón, đầy hơi hoặc buồn nôn',\n",
       "  'Bất thường điện giải, chẳng hạn như kali máu, natri và clorua thấp',\n",
       "  'Vấn đề về thận',\n",
       "  'Nếu một người chán ăn trở nên suy dinh dưỡng nghiêm trọng, mọi cơ quan trong cơ thể đều có thể bị tổn thương, bao gồm não, tim và thận. Tổn thương này có thể không hoàn toàn hồi phục, ngay cả khi chứng chán ăn đã được kiểm soát.',\n",
       "  'Ngoài các biến chứng về thể chất, những người mắc chứng chán ăn cũng thường bị các rối loạn sức khỏe tâm thần khác. Chúng có thể bao gồm:',\n",
       "  'Trầm cảm, lo lắng và rối loạn tâm lý khác',\n",
       "  'Rối loạn nhân cách',\n",
       "  'Rối loạn ám ảnh cưỡng chế',\n",
       "  'Lạm dụng rượu và chất gây nghiện',\n",
       "  'Tự gây thương tích, suy nghĩ tự tử hoặc cố gắng tự tử'],\n",
       " 'disease-treatment_summary': ['Chán ăn tâm thần không phải là bệnh truyền nhiễm, do đó, không có khả năng lây truyền từ người bệnh sang người khỏe mạnh. '],\n",
       " 'disease-overview': ['Một số yếu tố làm tăng nguy cơ chán ăn, bao gồm:',\n",
       "  'Di truyền. Những thay đổi trong các gen cụ thể có thể khiến một số người có nguy cơ chán ăn tâm thần cao hơn. Những người có người thân bậc 1 - cha mẹ, anh chị em hoặc con - bị rối loạn có nguy cơ chán ăn cao hơn nhiều.',\n",
       "  'Ăn kiêng và bỏ đói. Ăn kiêng là một yếu tố nguy cơ phát triển rối loạn ăn uống. Có bằng chứng mạnh mẽ cho thấy nhiều triệu chứng chán ăn thực sự là triệu chứng đói. Đói ảnh hưởng đến não và ảnh hưởng đến sự thay đổi tâm trạng, cứng nhắc trong suy nghĩ, lo lắng và giảm sự thèm ăn. Đói và giảm cân có thể thay đổi cách não làm việc ở những người dễ bị tổn thương, điều này có thể duy trì hành vi ăn uống hạn chế và gây khó khăn cho việc trở lại thói quen ăn uống bình thường.',\n",
       "  'Chuyển tiếp. Cho dù đó là một trường học mới, nhà hoặc công việc; một mối quan hệ tan vỡ; hoặc cái chết hoặc bệnh tật của người thân, những sự thay đổi này có thể mang lại căng thẳng và tăng nguy cơ chán ăn tâm thần.'],\n",
       " 'disease-prevention': ['Không có cách nào đảm bảo để ngăn ngừa hoàn toàn chứng chán ăn tâm thần. Các bác sĩ chăm sóc chính (bác sĩ nhi khoa, bác sĩ gia đình và bác sĩ nội khoa) có thể có vai trò tốt nhất để xác định các dấu hiệu sớm của chứng chán ăn và ngăn ngừa sự phát triển của bệnh toàn thân. Chẳng hạn, họ có thể đặt câu hỏi về thói quen ăn uống và sự hài lòng với ngoại hình trong các cuộc khám thông thường.',\n",
       "  'Nếu người nhà nhận thấy rằng một thành viên trong gia đình hoặc bạn bè có lòng tự trọng thấp, thói quen ăn kiêng khem quá mức và không hài lòng với ngoại hình, hãy xem xét nói chuyện với anh ấy hoặc cô ấy về những vấn đề này.'],\n",
       " 'disease-diagnosis': ['Nếu bác sĩ nghi ngờ người bệnh mắc chứng chán ăn tâm thần, bác sĩ sẽ thực hiện một số xét nghiệm để giúp xác định chẩn đoán, loại trừ nguyên nhân bệnh tật gây ra giảm cân và kiểm tra các biến chứng liên quan, bao gồm:',\n",
       "  'Khám sức khỏe, bao gồm đo chiều cao và cân nặng của người bệnh; kiểm tra các dấu hiệu sinh tồn như nhịp tim, huyết áp và nhiệt độ; kiểm tra da và móng để tìm vấn đề; nghe tim, phổi và kiểm tra bụng.',\n",
       "  'Xét nghiệm, bao gồm công thức máu toàn phần và các xét nghiệm máu chuyên biệt hơn để kiểm tra chất điện giải và protein cũng như hoạt động của gan, thận và tuyến giáp. Một xét nghiệm nước tiểu cũng có thể được thực hiện.',\n",
       "  'Đánh giá tâm lý. Bác sĩ hoặc chuyên gia sức khỏe tâm thần có thể sẽ hỏi về suy nghĩ, cảm xúc và thói quen ăn uống của người bệnh. Bên cạnh đó, người bệnh cũng có thể được yêu cầu hoàn thành bảng câu hỏi tự đánh giá tâm lý.',\n",
       "  'X-quang có thể được thực hiện để kiểm tra mật độ xương, kiểm tra gãy xương do gãy xương hoặc kiểm tra viêm phổi hoặc các vấn đề về tim. Điện tâm đồ có thể được thực hiện để tìm kiếm các bất thường của tim.',\n",
       "  'Chuyên gia sức khỏe tâm thần cũng có thể sử dụng các tiêu chuẩn chẩn đoán cho chứng chán ăn tâm thần trong cẩm nang Chẩn đoán và Thống kê Rối loạn Tâm thần, Phiên bản Thứ năm (Diagnostic and Statistical Manual of Mental Disorders, Fifth Edition, DSM-5) được xuất bản bởi Hiệp hội Tâm thần Hoa Kỳ.'],\n",
       " 'disease-treatment': ['Mục tiêu đầu tiên của điều trị là lấy lại cân nặng. Người bệnh không thể phục hồi sau khi chán ăn mà không trở lại cân nặng phù hợp. Những chuyên gia tham gia vào quá trình này có thể bao gồm:',\n",
       "  'Bác sĩ điều trị chính, người có thể cung cấp chăm sóc y tế và giám sát nhu cầu calo và tăng cân của người bệnh',\n",
       "  'Nhà tâm lý học hoặc chuyên gia sức khỏe tâm thần khác, người có thể làm việc với người bệnh để phát triển các chiến lược hành vi để giúp người bệnh trở lại cân nặng khỏe mạnh',\n",
       "  'Một chuyên gia dinh dưỡng, người có thể cung cấp hướng dẫn sử dụng các chế ăn uống thông thường, bao gồm cung cấp các kế hoạch bữa ăn cụ thể và số lượng calo giúp người bệnh đạt được mục tiêu cân nặng của mình',\n",
       "  'Gia đình, những người có khả năng sẽ tham gia giúp người bệnh duy trì thói quen ăn uống bình thường',\n",
       "  'Tâm lý trị liệu',\n",
       "  'Những loại trị liệu này có thể có lợi cho chứng chán ăn:',\n",
       "  'Trị liệu dựa trên gia đình. Đây là phương pháp điều trị dựa trên bằng chứng duy nhất cho thanh thiếu niên mắc chứng chán ăn tâm thần. Bởi vì thiếu niên chán ăn không thể đưa ra lựa chọn tốt về ăn uống và sức khỏe trong khi gặp phải tình trạng nghiêm trọng này, liệu pháp này vận động cha mẹ giúp con họ ăn lại và phục hồi cân nặng cho đến khi trẻ có thể đưa ra lựa chọn tốt về sức khỏe.',\n",
       "  'Trị liệu cá nhân. Đối với người lớn, liệu pháp hành vi nhận thức - đặc biệt là liệu pháp hành vi nhận thức được tăng cường đã được chứng minh là có ích. Mục tiêu chính là bình thường hóa các mô hình và hành vi ăn uống để hỗ trợ tăng cân. Mục tiêu thứ hai là giúp thay đổi niềm tin và suy nghĩ lệch lạc về việc chán ăn.',\n",
       "  'Thuốc',\n",
       "  'Không có thuốc nào được chấp thuận để điều trị chứng chán ăn tâm thần vì không có loại thuốc nào được tìm thấy có tác dụng rất tốt. Tuy nhiên, thuốc chống trầm cảm hoặc các loại thuốc tâm thần khác có thể giúp điều trị các rối loạn sức khỏe tâm thần khác mà người bệnh cũng có thể mắc phải, chẳng hạn như trầm cảm hoặc lo lắng.',\n",
       "  '  Xem thêm:',\n",
       "  'Phân biệt còi xương và suy dinh dưỡng',\n",
       "  'Dinh dưỡng cho người suy nhược cơ thể',\n",
       "  '“Thủ phạm” khiến bạn chán ăn, ăn không ngon miệng']}"
      ]
     },
     "execution_count": 99,
     "metadata": {},
     "output_type": "execute_result"
    }
   ],
   "source": [
    "data[err[23][0]]"
   ]
  },
  {
   "cell_type": "code",
   "execution_count": 46,
   "metadata": {},
   "outputs": [
    {
     "name": "stderr",
     "output_type": "stream",
     "text": [
      "100%|██████████| 705/705 [05:47<00:00,  2.03it/s]"
     ]
    },
    {
     "name": "stdout",
     "output_type": "stream",
     "text": [
      "705\n",
      "['vestibular disorders', 'tuberculosis', 'te bi tay chan']\n"
     ]
    },
    {
     "name": "stderr",
     "output_type": "stream",
     "text": [
      "\n"
     ]
    }
   ],
   "source": [
    "from mtranslate import translate\n",
    "EN_DISEASE = []\n",
    "for d in tqdm(DISEASE):\n",
    "    translation = translate(d, 'en')\n",
    "    EN_DISEASE.append(translation)\n",
    "print(len(EN_DISEASE))\n",
    "print(EN_DISEASE[:3])"
   ]
  },
  {
   "cell_type": "code",
   "execution_count": 17,
   "metadata": {},
   "outputs": [],
   "source": [
    "import argparse\n",
    "import os\n",
    "import pdb\n",
    "import pickle\n",
    "from BioSyn.src.biosyn import (\n",
    "    DictionaryDataset,\n",
    "    BioSyn,\n",
    "    TextPreprocess\n",
    ")\n",
    "\n",
    "class EntityLinker:\n",
    "    def __init__(self,model_name_or_path,use_cuda=False):\n",
    "        self.model_name_or_path = model_name_or_path\n",
    "        self.biosyn = BioSyn(\n",
    "            max_length=25,\n",
    "            use_cuda=use_cuda\n",
    "        )\n",
    "        self.biosyn.load_model(model_name_or_path=model_name_or_path)\n",
    "\n",
    "    def cache_or_load_dictionary(self, dictionary_path):\n",
    "        dictionary_name = os.path.splitext(os.path.basename(dictionary_path))[0]\n",
    "\n",
    "        cached_dictionary_path = os.path.join(\n",
    "            './tmp',\n",
    "            f\"cached_{self.model_name_or_path.split('/')[-1]}_{dictionary_name}.pk\"\n",
    "        )\n",
    "\n",
    "        # If exist, load the cached dictionary\n",
    "        if os.path.exists(cached_dictionary_path):\n",
    "            with open(cached_dictionary_path, 'rb') as fin:\n",
    "                cached_dictionary = pickle.load(fin)\n",
    "            print(\"Loaded dictionary from cached file {}\".format(cached_dictionary_path))\n",
    "\n",
    "            dictionary, dict_sparse_embeds, dict_dense_embeds = (\n",
    "                cached_dictionary['dictionary'],\n",
    "                cached_dictionary['dict_sparse_embeds'],\n",
    "                cached_dictionary['dict_dense_embeds'],\n",
    "            )\n",
    "\n",
    "        else:\n",
    "            dictionary = DictionaryDataset(dictionary_path = dictionary_path).data\n",
    "            dictionary_names = dictionary[:,0]\n",
    "            dict_sparse_embeds = self.biosyn.embed_sparse(names=dictionary_names, show_progress=True)\n",
    "            dict_dense_embeds = self.biosyn.embed_dense(names=dictionary_names, show_progress=True)\n",
    "            cached_dictionary = {\n",
    "                'dictionary': dictionary,\n",
    "                'dict_sparse_embeds' : dict_sparse_embeds,\n",
    "                'dict_dense_embeds' : dict_dense_embeds\n",
    "            }\n",
    "\n",
    "            if not os.path.exists('./tmp'):\n",
    "                os.mkdir('./tmp')\n",
    "            with open(cached_dictionary_path, 'wb') as fin:\n",
    "                pickle.dump(cached_dictionary, fin)\n",
    "            print(\"Saving dictionary into cached file {}\".format(cached_dictionary_path))\n",
    "\n",
    "        return dictionary, dict_sparse_embeds, dict_dense_embeds\n",
    "    \n",
    "    def __call__(self,mention,dictionary_path):\n",
    "\n",
    "        # preprocess mention\n",
    "        mention = TextPreprocess().run(mention)\n",
    "\n",
    "        # embed mention\n",
    "        mention_sparse_embeds = self.biosyn.embed_sparse(names=[mention])\n",
    "        mention_dense_embeds = self.biosyn.embed_dense(names=[mention])\n",
    "\n",
    "        output = {\n",
    "            'mention': mention,\n",
    "        }\n",
    "        # cache or load dictionary\n",
    "        dictionary, dict_sparse_embeds, dict_dense_embeds = self.cache_or_load_dictionary(dictionary_path)\n",
    "\n",
    "        # calcuate score matrix and get top 5\n",
    "        sparse_score_matrix = self.biosyn.get_score_matrix(\n",
    "            query_embeds=mention_sparse_embeds,\n",
    "            dict_embeds=dict_sparse_embeds\n",
    "        )\n",
    "        dense_score_matrix = self.biosyn.get_score_matrix(\n",
    "            query_embeds=mention_dense_embeds,\n",
    "            dict_embeds=dict_dense_embeds\n",
    "        )\n",
    "        sparse_weight = self.biosyn.get_sparse_weight().item()\n",
    "        hybrid_score_matrix = sparse_weight * sparse_score_matrix + dense_score_matrix\n",
    "        hybrid_candidate_idxs = self.biosyn.retrieve_candidate(\n",
    "            score_matrix = hybrid_score_matrix, \n",
    "            topk = 5\n",
    "        )\n",
    "\n",
    "        # get predictions from dictionary\n",
    "        predictions = dictionary[hybrid_candidate_idxs].squeeze(0)\n",
    "        output['predictions'] = []\n",
    "\n",
    "        for prediction in predictions:\n",
    "            predicted_name = prediction[0]\n",
    "            predicted_id = prediction[1]\n",
    "            output['predictions'].append({\n",
    "                'name': predicted_name,\n",
    "                'id': predicted_id\n",
    "            })\n",
    "\n",
    "        return output"
   ]
  },
  {
   "cell_type": "code",
   "execution_count": 18,
   "metadata": {},
   "outputs": [
    {
     "name": "stderr",
     "output_type": "stream",
     "text": [
      "/home/minh/anaconda3/lib/python3.8/site-packages/sklearn/base.py:310: UserWarning: Trying to unpickle estimator TfidfTransformer from version 0.24.2 when using version 0.24.0. This might lead to breaking code or invalid results. Use at your own risk.\n",
      "  warnings.warn(\n",
      "/home/minh/anaconda3/lib/python3.8/site-packages/sklearn/base.py:310: UserWarning: Trying to unpickle estimator TfidfVectorizer from version 0.24.2 when using version 0.24.0. This might lead to breaking code or invalid results. Use at your own risk.\n",
      "  warnings.warn(\n"
     ]
    }
   ],
   "source": [
    "Entity_Linker = EntityLinker(\n",
    "    model_name_or_path=\"dmis-lab/biosyn-sapbert-ncbi-disease\",\n",
    "    use_cuda=True )"
   ]
  },
  {
   "cell_type": "code",
   "execution_count": 21,
   "metadata": {},
   "outputs": [
    {
     "name": "stderr",
     "output_type": "stream",
     "text": [
      "/home/minh/work/knowledge_base_system/BioSyn/src/biosyn/biosyn.py:26: UserWarning: To copy construct from a tensor, it is recommended to use sourceTensor.clone().detach() or sourceTensor.clone().detach().requires_grad_(True), rather than torch.tensor(sourceTensor).\n",
      "  return {key: torch.tensor(val[idx]) for key, val in self.encodings.items()}\n",
      "100%|██████████| 73024/73024 [00:00<00:00, 703863.64it/s]\n",
      "100%|██████████| 72/72 [00:01<00:00, 44.98it/s]\n",
      "embedding dictionary: 100%|██████████| 72/72 [01:07<00:00,  1.07it/s]\n"
     ]
    },
    {
     "name": "stdout",
     "output_type": "stream",
     "text": [
      "Saving dictionary into cached file ./tmp/cached_biosyn-sapbert-ncbi-disease_test_dictionary.pk\n"
     ]
    }
   ],
   "source": [
    "dictionary_path = \"BioSyn/datasets/ncbi-disease/test_dictionary.txt\"\n",
    "related_entities = Entity_Linker(\"Sinusitis\",dictionary_path)"
   ]
  },
  {
   "cell_type": "code",
   "execution_count": 100,
   "metadata": {},
   "outputs": [
    {
     "data": {
      "text/plain": [
       "{'mention': 'sinusitis',\n",
       " 'predictions': [{'name': 'sinusitis', 'id': 'D012852'},\n",
       "  {'name': 'sinusitides', 'id': 'D012852'},\n",
       "  {'name': 'maxillary sinusitis', 'id': 'D015523'},\n",
       "  {'name': 'sinusitis maxillary', 'id': 'D015523'},\n",
       "  {'name': 'maxillary sinusitides', 'id': 'D015523'}]}"
      ]
     },
     "execution_count": 100,
     "metadata": {},
     "output_type": "execute_result"
    }
   ],
   "source": [
    "related_entities"
   ]
  },
  {
   "cell_type": "code",
   "execution_count": 105,
   "metadata": {},
   "outputs": [
    {
     "name": "stderr",
     "output_type": "stream",
     "text": [
      "1it [00:00,  3.86it/s]"
     ]
    },
    {
     "name": "stdout",
     "output_type": "stream",
     "text": [
      "Loaded dictionary from cached file ./tmp/cached_biosyn-sapbert-ncbi-disease_test_dictionary.pk\n"
     ]
    },
    {
     "name": "stderr",
     "output_type": "stream",
     "text": [
      "\r",
      "2it [00:00,  3.88it/s]"
     ]
    },
    {
     "name": "stdout",
     "output_type": "stream",
     "text": [
      "Loaded dictionary from cached file ./tmp/cached_biosyn-sapbert-ncbi-disease_test_dictionary.pk\n"
     ]
    },
    {
     "name": "stderr",
     "output_type": "stream",
     "text": [
      "\r",
      "3it [00:00,  3.90it/s]"
     ]
    },
    {
     "name": "stdout",
     "output_type": "stream",
     "text": [
      "Loaded dictionary from cached file ./tmp/cached_biosyn-sapbert-ncbi-disease_test_dictionary.pk\n"
     ]
    },
    {
     "name": "stderr",
     "output_type": "stream",
     "text": [
      "\r",
      "4it [00:01,  3.93it/s]"
     ]
    },
    {
     "name": "stdout",
     "output_type": "stream",
     "text": [
      "Loaded dictionary from cached file ./tmp/cached_biosyn-sapbert-ncbi-disease_test_dictionary.pk\n"
     ]
    },
    {
     "name": "stderr",
     "output_type": "stream",
     "text": [
      "\r",
      "5it [00:01,  3.88it/s]"
     ]
    },
    {
     "name": "stdout",
     "output_type": "stream",
     "text": [
      "Loaded dictionary from cached file ./tmp/cached_biosyn-sapbert-ncbi-disease_test_dictionary.pk\n"
     ]
    },
    {
     "name": "stderr",
     "output_type": "stream",
     "text": [
      "\r",
      "6it [00:01,  3.91it/s]"
     ]
    },
    {
     "name": "stdout",
     "output_type": "stream",
     "text": [
      "Loaded dictionary from cached file ./tmp/cached_biosyn-sapbert-ncbi-disease_test_dictionary.pk\n"
     ]
    },
    {
     "name": "stderr",
     "output_type": "stream",
     "text": [
      "\r",
      "7it [00:01,  3.93it/s]"
     ]
    },
    {
     "name": "stdout",
     "output_type": "stream",
     "text": [
      "Loaded dictionary from cached file ./tmp/cached_biosyn-sapbert-ncbi-disease_test_dictionary.pk\n"
     ]
    },
    {
     "name": "stderr",
     "output_type": "stream",
     "text": [
      "\r",
      "8it [00:02,  3.94it/s]"
     ]
    },
    {
     "name": "stdout",
     "output_type": "stream",
     "text": [
      "Loaded dictionary from cached file ./tmp/cached_biosyn-sapbert-ncbi-disease_test_dictionary.pk\n"
     ]
    },
    {
     "name": "stderr",
     "output_type": "stream",
     "text": [
      "\r",
      "9it [00:02,  3.95it/s]"
     ]
    },
    {
     "name": "stdout",
     "output_type": "stream",
     "text": [
      "Loaded dictionary from cached file ./tmp/cached_biosyn-sapbert-ncbi-disease_test_dictionary.pk\n"
     ]
    },
    {
     "name": "stderr",
     "output_type": "stream",
     "text": [
      "\r",
      "10it [00:02,  3.94it/s]"
     ]
    },
    {
     "name": "stdout",
     "output_type": "stream",
     "text": [
      "Loaded dictionary from cached file ./tmp/cached_biosyn-sapbert-ncbi-disease_test_dictionary.pk\n"
     ]
    },
    {
     "name": "stderr",
     "output_type": "stream",
     "text": [
      "\r",
      "11it [00:02,  3.95it/s]"
     ]
    },
    {
     "name": "stdout",
     "output_type": "stream",
     "text": [
      "Loaded dictionary from cached file ./tmp/cached_biosyn-sapbert-ncbi-disease_test_dictionary.pk\n"
     ]
    },
    {
     "name": "stderr",
     "output_type": "stream",
     "text": [
      "\r",
      "12it [00:03,  3.95it/s]"
     ]
    },
    {
     "name": "stdout",
     "output_type": "stream",
     "text": [
      "Loaded dictionary from cached file ./tmp/cached_biosyn-sapbert-ncbi-disease_test_dictionary.pk\n"
     ]
    },
    {
     "name": "stderr",
     "output_type": "stream",
     "text": [
      "\r",
      "13it [00:03,  3.95it/s]"
     ]
    },
    {
     "name": "stdout",
     "output_type": "stream",
     "text": [
      "Loaded dictionary from cached file ./tmp/cached_biosyn-sapbert-ncbi-disease_test_dictionary.pk\n"
     ]
    },
    {
     "name": "stderr",
     "output_type": "stream",
     "text": [
      "\r",
      "14it [00:03,  3.95it/s]"
     ]
    },
    {
     "name": "stdout",
     "output_type": "stream",
     "text": [
      "Loaded dictionary from cached file ./tmp/cached_biosyn-sapbert-ncbi-disease_test_dictionary.pk\n"
     ]
    },
    {
     "name": "stderr",
     "output_type": "stream",
     "text": [
      "\r",
      "15it [00:03,  3.95it/s]"
     ]
    },
    {
     "name": "stdout",
     "output_type": "stream",
     "text": [
      "Loaded dictionary from cached file ./tmp/cached_biosyn-sapbert-ncbi-disease_test_dictionary.pk\n"
     ]
    },
    {
     "name": "stderr",
     "output_type": "stream",
     "text": [
      "\r",
      "16it [00:04,  3.95it/s]"
     ]
    },
    {
     "name": "stdout",
     "output_type": "stream",
     "text": [
      "Loaded dictionary from cached file ./tmp/cached_biosyn-sapbert-ncbi-disease_test_dictionary.pk\n"
     ]
    },
    {
     "name": "stderr",
     "output_type": "stream",
     "text": [
      "\r",
      "17it [00:04,  3.94it/s]"
     ]
    },
    {
     "name": "stdout",
     "output_type": "stream",
     "text": [
      "Loaded dictionary from cached file ./tmp/cached_biosyn-sapbert-ncbi-disease_test_dictionary.pk\n"
     ]
    },
    {
     "name": "stderr",
     "output_type": "stream",
     "text": [
      "\r",
      "18it [00:04,  3.89it/s]"
     ]
    },
    {
     "name": "stdout",
     "output_type": "stream",
     "text": [
      "Loaded dictionary from cached file ./tmp/cached_biosyn-sapbert-ncbi-disease_test_dictionary.pk\n"
     ]
    },
    {
     "name": "stderr",
     "output_type": "stream",
     "text": [
      "\r",
      "19it [00:04,  3.90it/s]"
     ]
    },
    {
     "name": "stdout",
     "output_type": "stream",
     "text": [
      "Loaded dictionary from cached file ./tmp/cached_biosyn-sapbert-ncbi-disease_test_dictionary.pk\n"
     ]
    },
    {
     "name": "stderr",
     "output_type": "stream",
     "text": [
      "\r",
      "20it [00:05,  3.91it/s]"
     ]
    },
    {
     "name": "stdout",
     "output_type": "stream",
     "text": [
      "Loaded dictionary from cached file ./tmp/cached_biosyn-sapbert-ncbi-disease_test_dictionary.pk\n"
     ]
    },
    {
     "name": "stderr",
     "output_type": "stream",
     "text": [
      "\r",
      "21it [00:05,  3.81it/s]"
     ]
    },
    {
     "name": "stdout",
     "output_type": "stream",
     "text": [
      "Loaded dictionary from cached file ./tmp/cached_biosyn-sapbert-ncbi-disease_test_dictionary.pk\n"
     ]
    },
    {
     "name": "stderr",
     "output_type": "stream",
     "text": [
      "\r",
      "22it [00:05,  3.79it/s]"
     ]
    },
    {
     "name": "stdout",
     "output_type": "stream",
     "text": [
      "Loaded dictionary from cached file ./tmp/cached_biosyn-sapbert-ncbi-disease_test_dictionary.pk\n"
     ]
    },
    {
     "name": "stderr",
     "output_type": "stream",
     "text": [
      "\r",
      "23it [00:05,  3.81it/s]"
     ]
    },
    {
     "name": "stdout",
     "output_type": "stream",
     "text": [
      "Loaded dictionary from cached file ./tmp/cached_biosyn-sapbert-ncbi-disease_test_dictionary.pk\n"
     ]
    },
    {
     "name": "stderr",
     "output_type": "stream",
     "text": [
      "\r",
      "24it [00:06,  3.81it/s]"
     ]
    },
    {
     "name": "stdout",
     "output_type": "stream",
     "text": [
      "Loaded dictionary from cached file ./tmp/cached_biosyn-sapbert-ncbi-disease_test_dictionary.pk\n"
     ]
    },
    {
     "name": "stderr",
     "output_type": "stream",
     "text": [
      "\r",
      "25it [00:06,  3.74it/s]"
     ]
    },
    {
     "name": "stdout",
     "output_type": "stream",
     "text": [
      "Loaded dictionary from cached file ./tmp/cached_biosyn-sapbert-ncbi-disease_test_dictionary.pk\n"
     ]
    },
    {
     "name": "stderr",
     "output_type": "stream",
     "text": [
      "\r",
      "26it [00:06,  3.77it/s]"
     ]
    },
    {
     "name": "stdout",
     "output_type": "stream",
     "text": [
      "Loaded dictionary from cached file ./tmp/cached_biosyn-sapbert-ncbi-disease_test_dictionary.pk\n"
     ]
    },
    {
     "name": "stderr",
     "output_type": "stream",
     "text": [
      "\r",
      "27it [00:06,  3.78it/s]"
     ]
    },
    {
     "name": "stdout",
     "output_type": "stream",
     "text": [
      "Loaded dictionary from cached file ./tmp/cached_biosyn-sapbert-ncbi-disease_test_dictionary.pk\n"
     ]
    },
    {
     "name": "stderr",
     "output_type": "stream",
     "text": [
      "\r",
      "28it [00:07,  3.83it/s]"
     ]
    },
    {
     "name": "stdout",
     "output_type": "stream",
     "text": [
      "Loaded dictionary from cached file ./tmp/cached_biosyn-sapbert-ncbi-disease_test_dictionary.pk\n"
     ]
    },
    {
     "name": "stderr",
     "output_type": "stream",
     "text": [
      "\r",
      "29it [00:07,  3.83it/s]"
     ]
    },
    {
     "name": "stdout",
     "output_type": "stream",
     "text": [
      "Loaded dictionary from cached file ./tmp/cached_biosyn-sapbert-ncbi-disease_test_dictionary.pk\n"
     ]
    },
    {
     "name": "stderr",
     "output_type": "stream",
     "text": [
      "\r",
      "30it [00:07,  3.78it/s]"
     ]
    },
    {
     "name": "stdout",
     "output_type": "stream",
     "text": [
      "Loaded dictionary from cached file ./tmp/cached_biosyn-sapbert-ncbi-disease_test_dictionary.pk\n"
     ]
    },
    {
     "name": "stderr",
     "output_type": "stream",
     "text": [
      "\r",
      "31it [00:08,  3.81it/s]"
     ]
    },
    {
     "name": "stdout",
     "output_type": "stream",
     "text": [
      "Loaded dictionary from cached file ./tmp/cached_biosyn-sapbert-ncbi-disease_test_dictionary.pk\n"
     ]
    },
    {
     "name": "stderr",
     "output_type": "stream",
     "text": [
      "\r",
      "32it [00:08,  3.79it/s]"
     ]
    },
    {
     "name": "stdout",
     "output_type": "stream",
     "text": [
      "Loaded dictionary from cached file ./tmp/cached_biosyn-sapbert-ncbi-disease_test_dictionary.pk\n"
     ]
    },
    {
     "name": "stderr",
     "output_type": "stream",
     "text": [
      "\r",
      "33it [00:08,  3.79it/s]"
     ]
    },
    {
     "name": "stdout",
     "output_type": "stream",
     "text": [
      "Loaded dictionary from cached file ./tmp/cached_biosyn-sapbert-ncbi-disease_test_dictionary.pk\n"
     ]
    },
    {
     "name": "stderr",
     "output_type": "stream",
     "text": [
      "\r",
      "34it [00:08,  3.85it/s]"
     ]
    },
    {
     "name": "stdout",
     "output_type": "stream",
     "text": [
      "Loaded dictionary from cached file ./tmp/cached_biosyn-sapbert-ncbi-disease_test_dictionary.pk\n"
     ]
    },
    {
     "name": "stderr",
     "output_type": "stream",
     "text": [
      "\r",
      "35it [00:09,  3.88it/s]"
     ]
    },
    {
     "name": "stdout",
     "output_type": "stream",
     "text": [
      "Loaded dictionary from cached file ./tmp/cached_biosyn-sapbert-ncbi-disease_test_dictionary.pk\n"
     ]
    },
    {
     "name": "stderr",
     "output_type": "stream",
     "text": [
      "\r",
      "36it [00:09,  3.90it/s]"
     ]
    },
    {
     "name": "stdout",
     "output_type": "stream",
     "text": [
      "Loaded dictionary from cached file ./tmp/cached_biosyn-sapbert-ncbi-disease_test_dictionary.pk\n"
     ]
    },
    {
     "name": "stderr",
     "output_type": "stream",
     "text": [
      "\r",
      "37it [00:09,  3.92it/s]"
     ]
    },
    {
     "name": "stdout",
     "output_type": "stream",
     "text": [
      "Loaded dictionary from cached file ./tmp/cached_biosyn-sapbert-ncbi-disease_test_dictionary.pk\n"
     ]
    },
    {
     "name": "stderr",
     "output_type": "stream",
     "text": [
      "\r",
      "38it [00:09,  3.93it/s]"
     ]
    },
    {
     "name": "stdout",
     "output_type": "stream",
     "text": [
      "Loaded dictionary from cached file ./tmp/cached_biosyn-sapbert-ncbi-disease_test_dictionary.pk\n"
     ]
    },
    {
     "name": "stderr",
     "output_type": "stream",
     "text": [
      "\r",
      "39it [00:10,  3.90it/s]"
     ]
    },
    {
     "name": "stdout",
     "output_type": "stream",
     "text": [
      "Loaded dictionary from cached file ./tmp/cached_biosyn-sapbert-ncbi-disease_test_dictionary.pk\n"
     ]
    },
    {
     "name": "stderr",
     "output_type": "stream",
     "text": [
      "\r",
      "40it [00:10,  3.91it/s]"
     ]
    },
    {
     "name": "stdout",
     "output_type": "stream",
     "text": [
      "Loaded dictionary from cached file ./tmp/cached_biosyn-sapbert-ncbi-disease_test_dictionary.pk\n"
     ]
    },
    {
     "name": "stderr",
     "output_type": "stream",
     "text": [
      "\r",
      "41it [00:10,  3.92it/s]"
     ]
    },
    {
     "name": "stdout",
     "output_type": "stream",
     "text": [
      "Loaded dictionary from cached file ./tmp/cached_biosyn-sapbert-ncbi-disease_test_dictionary.pk\n"
     ]
    },
    {
     "name": "stderr",
     "output_type": "stream",
     "text": [
      "\r",
      "42it [00:10,  3.92it/s]"
     ]
    },
    {
     "name": "stdout",
     "output_type": "stream",
     "text": [
      "Loaded dictionary from cached file ./tmp/cached_biosyn-sapbert-ncbi-disease_test_dictionary.pk\n"
     ]
    },
    {
     "name": "stderr",
     "output_type": "stream",
     "text": [
      "\r",
      "43it [00:11,  3.93it/s]"
     ]
    },
    {
     "name": "stdout",
     "output_type": "stream",
     "text": [
      "Loaded dictionary from cached file ./tmp/cached_biosyn-sapbert-ncbi-disease_test_dictionary.pk\n"
     ]
    },
    {
     "name": "stderr",
     "output_type": "stream",
     "text": [
      "\r",
      "44it [00:11,  3.94it/s]"
     ]
    },
    {
     "name": "stdout",
     "output_type": "stream",
     "text": [
      "Loaded dictionary from cached file ./tmp/cached_biosyn-sapbert-ncbi-disease_test_dictionary.pk\n"
     ]
    },
    {
     "name": "stderr",
     "output_type": "stream",
     "text": [
      "\r",
      "45it [00:11,  3.96it/s]"
     ]
    },
    {
     "name": "stdout",
     "output_type": "stream",
     "text": [
      "Loaded dictionary from cached file ./tmp/cached_biosyn-sapbert-ncbi-disease_test_dictionary.pk\n"
     ]
    },
    {
     "name": "stderr",
     "output_type": "stream",
     "text": [
      "\r",
      "46it [00:11,  3.98it/s]"
     ]
    },
    {
     "name": "stdout",
     "output_type": "stream",
     "text": [
      "Loaded dictionary from cached file ./tmp/cached_biosyn-sapbert-ncbi-disease_test_dictionary.pk\n"
     ]
    },
    {
     "name": "stderr",
     "output_type": "stream",
     "text": [
      "\r",
      "47it [00:12,  3.99it/s]"
     ]
    },
    {
     "name": "stdout",
     "output_type": "stream",
     "text": [
      "Loaded dictionary from cached file ./tmp/cached_biosyn-sapbert-ncbi-disease_test_dictionary.pk\n"
     ]
    },
    {
     "name": "stderr",
     "output_type": "stream",
     "text": [
      "\r",
      "48it [00:12,  3.95it/s]"
     ]
    },
    {
     "name": "stdout",
     "output_type": "stream",
     "text": [
      "Loaded dictionary from cached file ./tmp/cached_biosyn-sapbert-ncbi-disease_test_dictionary.pk\n"
     ]
    },
    {
     "name": "stderr",
     "output_type": "stream",
     "text": [
      "\r",
      "49it [00:12,  3.96it/s]"
     ]
    },
    {
     "name": "stdout",
     "output_type": "stream",
     "text": [
      "Loaded dictionary from cached file ./tmp/cached_biosyn-sapbert-ncbi-disease_test_dictionary.pk\n"
     ]
    },
    {
     "name": "stderr",
     "output_type": "stream",
     "text": [
      "\r",
      "50it [00:12,  3.97it/s]"
     ]
    },
    {
     "name": "stdout",
     "output_type": "stream",
     "text": [
      "Loaded dictionary from cached file ./tmp/cached_biosyn-sapbert-ncbi-disease_test_dictionary.pk\n"
     ]
    },
    {
     "name": "stderr",
     "output_type": "stream",
     "text": [
      "\r",
      "51it [00:13,  3.98it/s]"
     ]
    },
    {
     "name": "stdout",
     "output_type": "stream",
     "text": [
      "Loaded dictionary from cached file ./tmp/cached_biosyn-sapbert-ncbi-disease_test_dictionary.pk\n"
     ]
    },
    {
     "name": "stderr",
     "output_type": "stream",
     "text": [
      "\r",
      "52it [00:13,  3.98it/s]"
     ]
    },
    {
     "name": "stdout",
     "output_type": "stream",
     "text": [
      "Loaded dictionary from cached file ./tmp/cached_biosyn-sapbert-ncbi-disease_test_dictionary.pk\n"
     ]
    },
    {
     "name": "stderr",
     "output_type": "stream",
     "text": [
      "\r",
      "53it [00:13,  3.99it/s]"
     ]
    },
    {
     "name": "stdout",
     "output_type": "stream",
     "text": [
      "Loaded dictionary from cached file ./tmp/cached_biosyn-sapbert-ncbi-disease_test_dictionary.pk\n"
     ]
    },
    {
     "name": "stderr",
     "output_type": "stream",
     "text": [
      "\r",
      "54it [00:13,  3.99it/s]"
     ]
    },
    {
     "name": "stdout",
     "output_type": "stream",
     "text": [
      "Loaded dictionary from cached file ./tmp/cached_biosyn-sapbert-ncbi-disease_test_dictionary.pk\n"
     ]
    },
    {
     "name": "stderr",
     "output_type": "stream",
     "text": [
      "\r",
      "55it [00:14,  3.99it/s]"
     ]
    },
    {
     "name": "stdout",
     "output_type": "stream",
     "text": [
      "Loaded dictionary from cached file ./tmp/cached_biosyn-sapbert-ncbi-disease_test_dictionary.pk\n"
     ]
    },
    {
     "name": "stderr",
     "output_type": "stream",
     "text": [
      "\r",
      "56it [00:14,  3.98it/s]"
     ]
    },
    {
     "name": "stdout",
     "output_type": "stream",
     "text": [
      "Loaded dictionary from cached file ./tmp/cached_biosyn-sapbert-ncbi-disease_test_dictionary.pk\n"
     ]
    },
    {
     "name": "stderr",
     "output_type": "stream",
     "text": [
      "\r",
      "57it [00:14,  3.99it/s]"
     ]
    },
    {
     "name": "stdout",
     "output_type": "stream",
     "text": [
      "Loaded dictionary from cached file ./tmp/cached_biosyn-sapbert-ncbi-disease_test_dictionary.pk\n"
     ]
    },
    {
     "name": "stderr",
     "output_type": "stream",
     "text": [
      "\r",
      "58it [00:14,  3.99it/s]"
     ]
    },
    {
     "name": "stdout",
     "output_type": "stream",
     "text": [
      "Loaded dictionary from cached file ./tmp/cached_biosyn-sapbert-ncbi-disease_test_dictionary.pk\n"
     ]
    },
    {
     "name": "stderr",
     "output_type": "stream",
     "text": [
      "\r",
      "59it [00:15,  3.99it/s]"
     ]
    },
    {
     "name": "stdout",
     "output_type": "stream",
     "text": [
      "Loaded dictionary from cached file ./tmp/cached_biosyn-sapbert-ncbi-disease_test_dictionary.pk\n"
     ]
    },
    {
     "name": "stderr",
     "output_type": "stream",
     "text": [
      "\r",
      "60it [00:15,  3.99it/s]"
     ]
    },
    {
     "name": "stdout",
     "output_type": "stream",
     "text": [
      "Loaded dictionary from cached file ./tmp/cached_biosyn-sapbert-ncbi-disease_test_dictionary.pk\n"
     ]
    },
    {
     "name": "stderr",
     "output_type": "stream",
     "text": [
      "\r",
      "61it [00:15,  3.99it/s]"
     ]
    },
    {
     "name": "stdout",
     "output_type": "stream",
     "text": [
      "Loaded dictionary from cached file ./tmp/cached_biosyn-sapbert-ncbi-disease_test_dictionary.pk\n"
     ]
    },
    {
     "name": "stderr",
     "output_type": "stream",
     "text": [
      "\r",
      "62it [00:15,  3.99it/s]"
     ]
    },
    {
     "name": "stdout",
     "output_type": "stream",
     "text": [
      "Loaded dictionary from cached file ./tmp/cached_biosyn-sapbert-ncbi-disease_test_dictionary.pk\n"
     ]
    },
    {
     "name": "stderr",
     "output_type": "stream",
     "text": [
      "\r",
      "63it [00:16,  3.97it/s]"
     ]
    },
    {
     "name": "stdout",
     "output_type": "stream",
     "text": [
      "Loaded dictionary from cached file ./tmp/cached_biosyn-sapbert-ncbi-disease_test_dictionary.pk\n"
     ]
    },
    {
     "name": "stderr",
     "output_type": "stream",
     "text": [
      "\r",
      "64it [00:16,  3.96it/s]"
     ]
    },
    {
     "name": "stdout",
     "output_type": "stream",
     "text": [
      "Loaded dictionary from cached file ./tmp/cached_biosyn-sapbert-ncbi-disease_test_dictionary.pk\n"
     ]
    },
    {
     "name": "stderr",
     "output_type": "stream",
     "text": [
      "\r",
      "65it [00:16,  3.83it/s]"
     ]
    },
    {
     "name": "stdout",
     "output_type": "stream",
     "text": [
      "Loaded dictionary from cached file ./tmp/cached_biosyn-sapbert-ncbi-disease_test_dictionary.pk\n"
     ]
    },
    {
     "name": "stderr",
     "output_type": "stream",
     "text": [
      "\r",
      "66it [00:16,  3.87it/s]"
     ]
    },
    {
     "name": "stdout",
     "output_type": "stream",
     "text": [
      "Loaded dictionary from cached file ./tmp/cached_biosyn-sapbert-ncbi-disease_test_dictionary.pk\n"
     ]
    },
    {
     "name": "stderr",
     "output_type": "stream",
     "text": [
      "\r",
      "67it [00:17,  3.89it/s]"
     ]
    },
    {
     "name": "stdout",
     "output_type": "stream",
     "text": [
      "Loaded dictionary from cached file ./tmp/cached_biosyn-sapbert-ncbi-disease_test_dictionary.pk\n"
     ]
    },
    {
     "name": "stderr",
     "output_type": "stream",
     "text": [
      "\r",
      "68it [00:17,  3.91it/s]"
     ]
    },
    {
     "name": "stdout",
     "output_type": "stream",
     "text": [
      "Loaded dictionary from cached file ./tmp/cached_biosyn-sapbert-ncbi-disease_test_dictionary.pk\n"
     ]
    },
    {
     "name": "stderr",
     "output_type": "stream",
     "text": [
      "\r",
      "69it [00:17,  3.93it/s]"
     ]
    },
    {
     "name": "stdout",
     "output_type": "stream",
     "text": [
      "Loaded dictionary from cached file ./tmp/cached_biosyn-sapbert-ncbi-disease_test_dictionary.pk\n"
     ]
    },
    {
     "name": "stderr",
     "output_type": "stream",
     "text": [
      "\r",
      "70it [00:17,  3.91it/s]"
     ]
    },
    {
     "name": "stdout",
     "output_type": "stream",
     "text": [
      "Loaded dictionary from cached file ./tmp/cached_biosyn-sapbert-ncbi-disease_test_dictionary.pk\n"
     ]
    },
    {
     "name": "stderr",
     "output_type": "stream",
     "text": [
      "\r",
      "71it [00:18,  3.93it/s]"
     ]
    },
    {
     "name": "stdout",
     "output_type": "stream",
     "text": [
      "Loaded dictionary from cached file ./tmp/cached_biosyn-sapbert-ncbi-disease_test_dictionary.pk\n"
     ]
    },
    {
     "name": "stderr",
     "output_type": "stream",
     "text": [
      "\r",
      "72it [00:18,  3.95it/s]"
     ]
    },
    {
     "name": "stdout",
     "output_type": "stream",
     "text": [
      "Loaded dictionary from cached file ./tmp/cached_biosyn-sapbert-ncbi-disease_test_dictionary.pk\n"
     ]
    },
    {
     "name": "stderr",
     "output_type": "stream",
     "text": [
      "\r",
      "73it [00:18,  3.96it/s]"
     ]
    },
    {
     "name": "stdout",
     "output_type": "stream",
     "text": [
      "Loaded dictionary from cached file ./tmp/cached_biosyn-sapbert-ncbi-disease_test_dictionary.pk\n"
     ]
    },
    {
     "name": "stderr",
     "output_type": "stream",
     "text": [
      "\r",
      "74it [00:18,  3.96it/s]"
     ]
    },
    {
     "name": "stdout",
     "output_type": "stream",
     "text": [
      "Loaded dictionary from cached file ./tmp/cached_biosyn-sapbert-ncbi-disease_test_dictionary.pk\n"
     ]
    },
    {
     "name": "stderr",
     "output_type": "stream",
     "text": [
      "\r",
      "75it [00:19,  3.97it/s]"
     ]
    },
    {
     "name": "stdout",
     "output_type": "stream",
     "text": [
      "Loaded dictionary from cached file ./tmp/cached_biosyn-sapbert-ncbi-disease_test_dictionary.pk\n"
     ]
    },
    {
     "name": "stderr",
     "output_type": "stream",
     "text": [
      "\r",
      "76it [00:19,  3.98it/s]"
     ]
    },
    {
     "name": "stdout",
     "output_type": "stream",
     "text": [
      "Loaded dictionary from cached file ./tmp/cached_biosyn-sapbert-ncbi-disease_test_dictionary.pk\n"
     ]
    },
    {
     "name": "stderr",
     "output_type": "stream",
     "text": [
      "\r",
      "77it [00:19,  3.98it/s]"
     ]
    },
    {
     "name": "stdout",
     "output_type": "stream",
     "text": [
      "Loaded dictionary from cached file ./tmp/cached_biosyn-sapbert-ncbi-disease_test_dictionary.pk\n"
     ]
    },
    {
     "name": "stderr",
     "output_type": "stream",
     "text": [
      "\r",
      "78it [00:19,  3.95it/s]"
     ]
    },
    {
     "name": "stdout",
     "output_type": "stream",
     "text": [
      "Loaded dictionary from cached file ./tmp/cached_biosyn-sapbert-ncbi-disease_test_dictionary.pk\n"
     ]
    },
    {
     "name": "stderr",
     "output_type": "stream",
     "text": [
      "\r",
      "79it [00:20,  3.95it/s]"
     ]
    },
    {
     "name": "stdout",
     "output_type": "stream",
     "text": [
      "Loaded dictionary from cached file ./tmp/cached_biosyn-sapbert-ncbi-disease_test_dictionary.pk\n"
     ]
    },
    {
     "name": "stderr",
     "output_type": "stream",
     "text": [
      "\r",
      "80it [00:20,  3.96it/s]"
     ]
    },
    {
     "name": "stdout",
     "output_type": "stream",
     "text": [
      "Loaded dictionary from cached file ./tmp/cached_biosyn-sapbert-ncbi-disease_test_dictionary.pk\n"
     ]
    },
    {
     "name": "stderr",
     "output_type": "stream",
     "text": [
      "\r",
      "81it [00:20,  3.97it/s]"
     ]
    },
    {
     "name": "stdout",
     "output_type": "stream",
     "text": [
      "Loaded dictionary from cached file ./tmp/cached_biosyn-sapbert-ncbi-disease_test_dictionary.pk\n"
     ]
    },
    {
     "name": "stderr",
     "output_type": "stream",
     "text": [
      "\r",
      "82it [00:20,  3.97it/s]"
     ]
    },
    {
     "name": "stdout",
     "output_type": "stream",
     "text": [
      "Loaded dictionary from cached file ./tmp/cached_biosyn-sapbert-ncbi-disease_test_dictionary.pk\n"
     ]
    },
    {
     "name": "stderr",
     "output_type": "stream",
     "text": [
      "\r",
      "83it [00:21,  3.98it/s]"
     ]
    },
    {
     "name": "stdout",
     "output_type": "stream",
     "text": [
      "Loaded dictionary from cached file ./tmp/cached_biosyn-sapbert-ncbi-disease_test_dictionary.pk\n"
     ]
    },
    {
     "name": "stderr",
     "output_type": "stream",
     "text": [
      "\r",
      "84it [00:21,  3.98it/s]"
     ]
    },
    {
     "name": "stdout",
     "output_type": "stream",
     "text": [
      "Loaded dictionary from cached file ./tmp/cached_biosyn-sapbert-ncbi-disease_test_dictionary.pk\n"
     ]
    },
    {
     "name": "stderr",
     "output_type": "stream",
     "text": [
      "\r",
      "85it [00:21,  3.97it/s]"
     ]
    },
    {
     "name": "stdout",
     "output_type": "stream",
     "text": [
      "Loaded dictionary from cached file ./tmp/cached_biosyn-sapbert-ncbi-disease_test_dictionary.pk\n"
     ]
    },
    {
     "name": "stderr",
     "output_type": "stream",
     "text": [
      "\r",
      "86it [00:21,  3.98it/s]"
     ]
    },
    {
     "name": "stdout",
     "output_type": "stream",
     "text": [
      "Loaded dictionary from cached file ./tmp/cached_biosyn-sapbert-ncbi-disease_test_dictionary.pk\n"
     ]
    },
    {
     "name": "stderr",
     "output_type": "stream",
     "text": [
      "\r",
      "87it [00:22,  3.98it/s]"
     ]
    },
    {
     "name": "stdout",
     "output_type": "stream",
     "text": [
      "Loaded dictionary from cached file ./tmp/cached_biosyn-sapbert-ncbi-disease_test_dictionary.pk\n"
     ]
    },
    {
     "name": "stderr",
     "output_type": "stream",
     "text": [
      "\r",
      "88it [00:22,  3.97it/s]"
     ]
    },
    {
     "name": "stdout",
     "output_type": "stream",
     "text": [
      "Loaded dictionary from cached file ./tmp/cached_biosyn-sapbert-ncbi-disease_test_dictionary.pk\n"
     ]
    },
    {
     "name": "stderr",
     "output_type": "stream",
     "text": [
      "\r",
      "89it [00:22,  3.97it/s]"
     ]
    },
    {
     "name": "stdout",
     "output_type": "stream",
     "text": [
      "Loaded dictionary from cached file ./tmp/cached_biosyn-sapbert-ncbi-disease_test_dictionary.pk\n"
     ]
    },
    {
     "name": "stderr",
     "output_type": "stream",
     "text": [
      "\r",
      "90it [00:22,  3.96it/s]"
     ]
    },
    {
     "name": "stdout",
     "output_type": "stream",
     "text": [
      "Loaded dictionary from cached file ./tmp/cached_biosyn-sapbert-ncbi-disease_test_dictionary.pk\n"
     ]
    },
    {
     "name": "stderr",
     "output_type": "stream",
     "text": [
      "\r",
      "91it [00:23,  3.97it/s]"
     ]
    },
    {
     "name": "stdout",
     "output_type": "stream",
     "text": [
      "Loaded dictionary from cached file ./tmp/cached_biosyn-sapbert-ncbi-disease_test_dictionary.pk\n"
     ]
    },
    {
     "name": "stderr",
     "output_type": "stream",
     "text": [
      "\r",
      "92it [00:23,  3.96it/s]"
     ]
    },
    {
     "name": "stdout",
     "output_type": "stream",
     "text": [
      "Loaded dictionary from cached file ./tmp/cached_biosyn-sapbert-ncbi-disease_test_dictionary.pk\n"
     ]
    },
    {
     "name": "stderr",
     "output_type": "stream",
     "text": [
      "\r",
      "93it [00:23,  3.97it/s]"
     ]
    },
    {
     "name": "stdout",
     "output_type": "stream",
     "text": [
      "Loaded dictionary from cached file ./tmp/cached_biosyn-sapbert-ncbi-disease_test_dictionary.pk\n"
     ]
    },
    {
     "name": "stderr",
     "output_type": "stream",
     "text": [
      "\r",
      "94it [00:23,  3.97it/s]"
     ]
    },
    {
     "name": "stdout",
     "output_type": "stream",
     "text": [
      "Loaded dictionary from cached file ./tmp/cached_biosyn-sapbert-ncbi-disease_test_dictionary.pk\n"
     ]
    },
    {
     "name": "stderr",
     "output_type": "stream",
     "text": [
      "\r",
      "95it [00:24,  3.97it/s]"
     ]
    },
    {
     "name": "stdout",
     "output_type": "stream",
     "text": [
      "Loaded dictionary from cached file ./tmp/cached_biosyn-sapbert-ncbi-disease_test_dictionary.pk\n"
     ]
    },
    {
     "name": "stderr",
     "output_type": "stream",
     "text": [
      "\r",
      "96it [00:24,  3.97it/s]"
     ]
    },
    {
     "name": "stdout",
     "output_type": "stream",
     "text": [
      "Loaded dictionary from cached file ./tmp/cached_biosyn-sapbert-ncbi-disease_test_dictionary.pk\n"
     ]
    },
    {
     "name": "stderr",
     "output_type": "stream",
     "text": [
      "\r",
      "97it [00:24,  3.96it/s]"
     ]
    },
    {
     "name": "stdout",
     "output_type": "stream",
     "text": [
      "Loaded dictionary from cached file ./tmp/cached_biosyn-sapbert-ncbi-disease_test_dictionary.pk\n"
     ]
    },
    {
     "name": "stderr",
     "output_type": "stream",
     "text": [
      "\r",
      "98it [00:24,  3.96it/s]"
     ]
    },
    {
     "name": "stdout",
     "output_type": "stream",
     "text": [
      "Loaded dictionary from cached file ./tmp/cached_biosyn-sapbert-ncbi-disease_test_dictionary.pk\n"
     ]
    },
    {
     "name": "stderr",
     "output_type": "stream",
     "text": [
      "\r",
      "99it [00:25,  3.96it/s]"
     ]
    },
    {
     "name": "stdout",
     "output_type": "stream",
     "text": [
      "Loaded dictionary from cached file ./tmp/cached_biosyn-sapbert-ncbi-disease_test_dictionary.pk\n"
     ]
    },
    {
     "name": "stderr",
     "output_type": "stream",
     "text": [
      "\r",
      "100it [00:25,  3.97it/s]"
     ]
    },
    {
     "name": "stdout",
     "output_type": "stream",
     "text": [
      "Loaded dictionary from cached file ./tmp/cached_biosyn-sapbert-ncbi-disease_test_dictionary.pk\n"
     ]
    },
    {
     "name": "stderr",
     "output_type": "stream",
     "text": [
      "\r",
      "101it [00:25,  3.98it/s]"
     ]
    },
    {
     "name": "stdout",
     "output_type": "stream",
     "text": [
      "Loaded dictionary from cached file ./tmp/cached_biosyn-sapbert-ncbi-disease_test_dictionary.pk\n"
     ]
    },
    {
     "name": "stderr",
     "output_type": "stream",
     "text": [
      "\r",
      "102it [00:25,  3.97it/s]"
     ]
    },
    {
     "name": "stdout",
     "output_type": "stream",
     "text": [
      "Loaded dictionary from cached file ./tmp/cached_biosyn-sapbert-ncbi-disease_test_dictionary.pk\n"
     ]
    },
    {
     "name": "stderr",
     "output_type": "stream",
     "text": [
      "\r",
      "103it [00:26,  3.98it/s]"
     ]
    },
    {
     "name": "stdout",
     "output_type": "stream",
     "text": [
      "Loaded dictionary from cached file ./tmp/cached_biosyn-sapbert-ncbi-disease_test_dictionary.pk\n"
     ]
    },
    {
     "name": "stderr",
     "output_type": "stream",
     "text": [
      "\r",
      "104it [00:26,  3.98it/s]"
     ]
    },
    {
     "name": "stdout",
     "output_type": "stream",
     "text": [
      "Loaded dictionary from cached file ./tmp/cached_biosyn-sapbert-ncbi-disease_test_dictionary.pk\n"
     ]
    },
    {
     "name": "stderr",
     "output_type": "stream",
     "text": [
      "\r",
      "105it [00:26,  3.98it/s]"
     ]
    },
    {
     "name": "stdout",
     "output_type": "stream",
     "text": [
      "Loaded dictionary from cached file ./tmp/cached_biosyn-sapbert-ncbi-disease_test_dictionary.pk\n"
     ]
    },
    {
     "name": "stderr",
     "output_type": "stream",
     "text": [
      "\r",
      "106it [00:26,  3.97it/s]"
     ]
    },
    {
     "name": "stdout",
     "output_type": "stream",
     "text": [
      "Loaded dictionary from cached file ./tmp/cached_biosyn-sapbert-ncbi-disease_test_dictionary.pk\n"
     ]
    },
    {
     "name": "stderr",
     "output_type": "stream",
     "text": [
      "\r",
      "107it [00:27,  3.97it/s]"
     ]
    },
    {
     "name": "stdout",
     "output_type": "stream",
     "text": [
      "Loaded dictionary from cached file ./tmp/cached_biosyn-sapbert-ncbi-disease_test_dictionary.pk\n"
     ]
    },
    {
     "name": "stderr",
     "output_type": "stream",
     "text": [
      "\r",
      "108it [00:27,  3.97it/s]"
     ]
    },
    {
     "name": "stdout",
     "output_type": "stream",
     "text": [
      "Loaded dictionary from cached file ./tmp/cached_biosyn-sapbert-ncbi-disease_test_dictionary.pk\n"
     ]
    },
    {
     "name": "stderr",
     "output_type": "stream",
     "text": [
      "\r",
      "109it [00:27,  3.97it/s]"
     ]
    },
    {
     "name": "stdout",
     "output_type": "stream",
     "text": [
      "Loaded dictionary from cached file ./tmp/cached_biosyn-sapbert-ncbi-disease_test_dictionary.pk\n"
     ]
    },
    {
     "name": "stderr",
     "output_type": "stream",
     "text": [
      "\r",
      "110it [00:27,  3.97it/s]"
     ]
    },
    {
     "name": "stdout",
     "output_type": "stream",
     "text": [
      "Loaded dictionary from cached file ./tmp/cached_biosyn-sapbert-ncbi-disease_test_dictionary.pk\n"
     ]
    },
    {
     "name": "stderr",
     "output_type": "stream",
     "text": [
      "\r",
      "111it [00:28,  3.97it/s]"
     ]
    },
    {
     "name": "stdout",
     "output_type": "stream",
     "text": [
      "Loaded dictionary from cached file ./tmp/cached_biosyn-sapbert-ncbi-disease_test_dictionary.pk\n"
     ]
    },
    {
     "name": "stderr",
     "output_type": "stream",
     "text": [
      "\r",
      "112it [00:28,  3.97it/s]"
     ]
    },
    {
     "name": "stdout",
     "output_type": "stream",
     "text": [
      "Loaded dictionary from cached file ./tmp/cached_biosyn-sapbert-ncbi-disease_test_dictionary.pk\n"
     ]
    },
    {
     "name": "stderr",
     "output_type": "stream",
     "text": [
      "\r",
      "113it [00:28,  3.97it/s]"
     ]
    },
    {
     "name": "stdout",
     "output_type": "stream",
     "text": [
      "Loaded dictionary from cached file ./tmp/cached_biosyn-sapbert-ncbi-disease_test_dictionary.pk\n"
     ]
    },
    {
     "name": "stderr",
     "output_type": "stream",
     "text": [
      "\r",
      "114it [00:28,  3.97it/s]"
     ]
    },
    {
     "name": "stdout",
     "output_type": "stream",
     "text": [
      "Loaded dictionary from cached file ./tmp/cached_biosyn-sapbert-ncbi-disease_test_dictionary.pk\n"
     ]
    },
    {
     "name": "stderr",
     "output_type": "stream",
     "text": [
      "\r",
      "115it [00:29,  3.96it/s]"
     ]
    },
    {
     "name": "stdout",
     "output_type": "stream",
     "text": [
      "Loaded dictionary from cached file ./tmp/cached_biosyn-sapbert-ncbi-disease_test_dictionary.pk\n"
     ]
    },
    {
     "name": "stderr",
     "output_type": "stream",
     "text": [
      "\r",
      "116it [00:29,  3.97it/s]"
     ]
    },
    {
     "name": "stdout",
     "output_type": "stream",
     "text": [
      "Loaded dictionary from cached file ./tmp/cached_biosyn-sapbert-ncbi-disease_test_dictionary.pk\n"
     ]
    },
    {
     "name": "stderr",
     "output_type": "stream",
     "text": [
      "\r",
      "117it [00:29,  3.97it/s]"
     ]
    },
    {
     "name": "stdout",
     "output_type": "stream",
     "text": [
      "Loaded dictionary from cached file ./tmp/cached_biosyn-sapbert-ncbi-disease_test_dictionary.pk\n"
     ]
    },
    {
     "name": "stderr",
     "output_type": "stream",
     "text": [
      "\r",
      "118it [00:29,  3.98it/s]"
     ]
    },
    {
     "name": "stdout",
     "output_type": "stream",
     "text": [
      "Loaded dictionary from cached file ./tmp/cached_biosyn-sapbert-ncbi-disease_test_dictionary.pk\n"
     ]
    },
    {
     "name": "stderr",
     "output_type": "stream",
     "text": [
      "\r",
      "119it [00:30,  3.96it/s]"
     ]
    },
    {
     "name": "stdout",
     "output_type": "stream",
     "text": [
      "Loaded dictionary from cached file ./tmp/cached_biosyn-sapbert-ncbi-disease_test_dictionary.pk\n"
     ]
    },
    {
     "name": "stderr",
     "output_type": "stream",
     "text": [
      "\r",
      "120it [00:30,  3.97it/s]"
     ]
    },
    {
     "name": "stdout",
     "output_type": "stream",
     "text": [
      "Loaded dictionary from cached file ./tmp/cached_biosyn-sapbert-ncbi-disease_test_dictionary.pk\n"
     ]
    },
    {
     "name": "stderr",
     "output_type": "stream",
     "text": [
      "\r",
      "121it [00:30,  3.97it/s]"
     ]
    },
    {
     "name": "stdout",
     "output_type": "stream",
     "text": [
      "Loaded dictionary from cached file ./tmp/cached_biosyn-sapbert-ncbi-disease_test_dictionary.pk\n"
     ]
    },
    {
     "name": "stderr",
     "output_type": "stream",
     "text": [
      "\r",
      "122it [00:30,  3.96it/s]"
     ]
    },
    {
     "name": "stdout",
     "output_type": "stream",
     "text": [
      "Loaded dictionary from cached file ./tmp/cached_biosyn-sapbert-ncbi-disease_test_dictionary.pk\n"
     ]
    },
    {
     "name": "stderr",
     "output_type": "stream",
     "text": [
      "\r",
      "123it [00:31,  3.96it/s]"
     ]
    },
    {
     "name": "stdout",
     "output_type": "stream",
     "text": [
      "Loaded dictionary from cached file ./tmp/cached_biosyn-sapbert-ncbi-disease_test_dictionary.pk\n"
     ]
    },
    {
     "name": "stderr",
     "output_type": "stream",
     "text": [
      "\r",
      "124it [00:31,  3.97it/s]"
     ]
    },
    {
     "name": "stdout",
     "output_type": "stream",
     "text": [
      "Loaded dictionary from cached file ./tmp/cached_biosyn-sapbert-ncbi-disease_test_dictionary.pk\n"
     ]
    },
    {
     "name": "stderr",
     "output_type": "stream",
     "text": [
      "\r",
      "125it [00:31,  3.97it/s]"
     ]
    },
    {
     "name": "stdout",
     "output_type": "stream",
     "text": [
      "Loaded dictionary from cached file ./tmp/cached_biosyn-sapbert-ncbi-disease_test_dictionary.pk\n"
     ]
    },
    {
     "name": "stderr",
     "output_type": "stream",
     "text": [
      "\r",
      "126it [00:32,  3.96it/s]"
     ]
    },
    {
     "name": "stdout",
     "output_type": "stream",
     "text": [
      "Loaded dictionary from cached file ./tmp/cached_biosyn-sapbert-ncbi-disease_test_dictionary.pk\n"
     ]
    },
    {
     "name": "stderr",
     "output_type": "stream",
     "text": [
      "\r",
      "127it [00:32,  3.97it/s]"
     ]
    },
    {
     "name": "stdout",
     "output_type": "stream",
     "text": [
      "Loaded dictionary from cached file ./tmp/cached_biosyn-sapbert-ncbi-disease_test_dictionary.pk\n"
     ]
    },
    {
     "name": "stderr",
     "output_type": "stream",
     "text": [
      "\r",
      "128it [00:32,  3.93it/s]"
     ]
    },
    {
     "name": "stdout",
     "output_type": "stream",
     "text": [
      "Loaded dictionary from cached file ./tmp/cached_biosyn-sapbert-ncbi-disease_test_dictionary.pk\n"
     ]
    },
    {
     "name": "stderr",
     "output_type": "stream",
     "text": [
      "\r",
      "129it [00:32,  3.92it/s]"
     ]
    },
    {
     "name": "stdout",
     "output_type": "stream",
     "text": [
      "Loaded dictionary from cached file ./tmp/cached_biosyn-sapbert-ncbi-disease_test_dictionary.pk\n"
     ]
    },
    {
     "name": "stderr",
     "output_type": "stream",
     "text": [
      "\r",
      "130it [00:33,  3.90it/s]"
     ]
    },
    {
     "name": "stdout",
     "output_type": "stream",
     "text": [
      "Loaded dictionary from cached file ./tmp/cached_biosyn-sapbert-ncbi-disease_test_dictionary.pk\n"
     ]
    },
    {
     "name": "stderr",
     "output_type": "stream",
     "text": [
      "\r",
      "131it [00:33,  3.85it/s]"
     ]
    },
    {
     "name": "stdout",
     "output_type": "stream",
     "text": [
      "Loaded dictionary from cached file ./tmp/cached_biosyn-sapbert-ncbi-disease_test_dictionary.pk\n"
     ]
    },
    {
     "name": "stderr",
     "output_type": "stream",
     "text": [
      "\r",
      "132it [00:33,  3.88it/s]"
     ]
    },
    {
     "name": "stdout",
     "output_type": "stream",
     "text": [
      "Loaded dictionary from cached file ./tmp/cached_biosyn-sapbert-ncbi-disease_test_dictionary.pk\n"
     ]
    },
    {
     "name": "stderr",
     "output_type": "stream",
     "text": [
      "\r",
      "133it [00:33,  3.87it/s]"
     ]
    },
    {
     "name": "stdout",
     "output_type": "stream",
     "text": [
      "Loaded dictionary from cached file ./tmp/cached_biosyn-sapbert-ncbi-disease_test_dictionary.pk\n"
     ]
    },
    {
     "name": "stderr",
     "output_type": "stream",
     "text": [
      "\r",
      "134it [00:34,  3.88it/s]"
     ]
    },
    {
     "name": "stdout",
     "output_type": "stream",
     "text": [
      "Loaded dictionary from cached file ./tmp/cached_biosyn-sapbert-ncbi-disease_test_dictionary.pk\n"
     ]
    },
    {
     "name": "stderr",
     "output_type": "stream",
     "text": [
      "\r",
      "135it [00:34,  3.91it/s]"
     ]
    },
    {
     "name": "stdout",
     "output_type": "stream",
     "text": [
      "Loaded dictionary from cached file ./tmp/cached_biosyn-sapbert-ncbi-disease_test_dictionary.pk\n"
     ]
    },
    {
     "name": "stderr",
     "output_type": "stream",
     "text": [
      "\r",
      "136it [00:34,  3.92it/s]"
     ]
    },
    {
     "name": "stdout",
     "output_type": "stream",
     "text": [
      "Loaded dictionary from cached file ./tmp/cached_biosyn-sapbert-ncbi-disease_test_dictionary.pk\n"
     ]
    },
    {
     "name": "stderr",
     "output_type": "stream",
     "text": [
      "\r",
      "137it [00:34,  3.93it/s]"
     ]
    },
    {
     "name": "stdout",
     "output_type": "stream",
     "text": [
      "Loaded dictionary from cached file ./tmp/cached_biosyn-sapbert-ncbi-disease_test_dictionary.pk\n"
     ]
    },
    {
     "name": "stderr",
     "output_type": "stream",
     "text": [
      "\r",
      "138it [00:35,  3.94it/s]"
     ]
    },
    {
     "name": "stdout",
     "output_type": "stream",
     "text": [
      "Loaded dictionary from cached file ./tmp/cached_biosyn-sapbert-ncbi-disease_test_dictionary.pk\n"
     ]
    },
    {
     "name": "stderr",
     "output_type": "stream",
     "text": [
      "\r",
      "139it [00:35,  3.94it/s]"
     ]
    },
    {
     "name": "stdout",
     "output_type": "stream",
     "text": [
      "Loaded dictionary from cached file ./tmp/cached_biosyn-sapbert-ncbi-disease_test_dictionary.pk\n"
     ]
    },
    {
     "name": "stderr",
     "output_type": "stream",
     "text": [
      "\r",
      "140it [00:35,  3.91it/s]"
     ]
    },
    {
     "name": "stdout",
     "output_type": "stream",
     "text": [
      "Loaded dictionary from cached file ./tmp/cached_biosyn-sapbert-ncbi-disease_test_dictionary.pk\n"
     ]
    },
    {
     "name": "stderr",
     "output_type": "stream",
     "text": [
      "\r",
      "141it [00:35,  3.92it/s]"
     ]
    },
    {
     "name": "stdout",
     "output_type": "stream",
     "text": [
      "Loaded dictionary from cached file ./tmp/cached_biosyn-sapbert-ncbi-disease_test_dictionary.pk\n"
     ]
    },
    {
     "name": "stderr",
     "output_type": "stream",
     "text": [
      "\r",
      "142it [00:36,  3.91it/s]"
     ]
    },
    {
     "name": "stdout",
     "output_type": "stream",
     "text": [
      "Loaded dictionary from cached file ./tmp/cached_biosyn-sapbert-ncbi-disease_test_dictionary.pk\n"
     ]
    },
    {
     "name": "stderr",
     "output_type": "stream",
     "text": [
      "\r",
      "143it [00:36,  3.92it/s]"
     ]
    },
    {
     "name": "stdout",
     "output_type": "stream",
     "text": [
      "Loaded dictionary from cached file ./tmp/cached_biosyn-sapbert-ncbi-disease_test_dictionary.pk\n"
     ]
    },
    {
     "name": "stderr",
     "output_type": "stream",
     "text": [
      "\r",
      "144it [00:36,  3.90it/s]"
     ]
    },
    {
     "name": "stdout",
     "output_type": "stream",
     "text": [
      "Loaded dictionary from cached file ./tmp/cached_biosyn-sapbert-ncbi-disease_test_dictionary.pk\n"
     ]
    },
    {
     "name": "stderr",
     "output_type": "stream",
     "text": [
      "\r",
      "145it [00:36,  3.91it/s]"
     ]
    },
    {
     "name": "stdout",
     "output_type": "stream",
     "text": [
      "Loaded dictionary from cached file ./tmp/cached_biosyn-sapbert-ncbi-disease_test_dictionary.pk\n"
     ]
    },
    {
     "name": "stderr",
     "output_type": "stream",
     "text": [
      "\r",
      "146it [00:37,  3.89it/s]"
     ]
    },
    {
     "name": "stdout",
     "output_type": "stream",
     "text": [
      "Loaded dictionary from cached file ./tmp/cached_biosyn-sapbert-ncbi-disease_test_dictionary.pk\n"
     ]
    },
    {
     "name": "stderr",
     "output_type": "stream",
     "text": [
      "\r",
      "147it [00:37,  3.90it/s]"
     ]
    },
    {
     "name": "stdout",
     "output_type": "stream",
     "text": [
      "Loaded dictionary from cached file ./tmp/cached_biosyn-sapbert-ncbi-disease_test_dictionary.pk\n"
     ]
    },
    {
     "name": "stderr",
     "output_type": "stream",
     "text": [
      "\r",
      "148it [00:37,  3.91it/s]"
     ]
    },
    {
     "name": "stdout",
     "output_type": "stream",
     "text": [
      "Loaded dictionary from cached file ./tmp/cached_biosyn-sapbert-ncbi-disease_test_dictionary.pk\n"
     ]
    },
    {
     "name": "stderr",
     "output_type": "stream",
     "text": [
      "\r",
      "149it [00:37,  3.92it/s]"
     ]
    },
    {
     "name": "stdout",
     "output_type": "stream",
     "text": [
      "Loaded dictionary from cached file ./tmp/cached_biosyn-sapbert-ncbi-disease_test_dictionary.pk\n"
     ]
    },
    {
     "name": "stderr",
     "output_type": "stream",
     "text": [
      "\r",
      "150it [00:38,  3.92it/s]"
     ]
    },
    {
     "name": "stdout",
     "output_type": "stream",
     "text": [
      "Loaded dictionary from cached file ./tmp/cached_biosyn-sapbert-ncbi-disease_test_dictionary.pk\n"
     ]
    },
    {
     "name": "stderr",
     "output_type": "stream",
     "text": [
      "\r",
      "151it [00:38,  3.89it/s]"
     ]
    },
    {
     "name": "stdout",
     "output_type": "stream",
     "text": [
      "Loaded dictionary from cached file ./tmp/cached_biosyn-sapbert-ncbi-disease_test_dictionary.pk\n"
     ]
    },
    {
     "name": "stderr",
     "output_type": "stream",
     "text": [
      "\r",
      "152it [00:38,  3.90it/s]"
     ]
    },
    {
     "name": "stdout",
     "output_type": "stream",
     "text": [
      "Loaded dictionary from cached file ./tmp/cached_biosyn-sapbert-ncbi-disease_test_dictionary.pk\n"
     ]
    },
    {
     "name": "stderr",
     "output_type": "stream",
     "text": [
      "\r",
      "153it [00:38,  3.92it/s]"
     ]
    },
    {
     "name": "stdout",
     "output_type": "stream",
     "text": [
      "Loaded dictionary from cached file ./tmp/cached_biosyn-sapbert-ncbi-disease_test_dictionary.pk\n"
     ]
    },
    {
     "name": "stderr",
     "output_type": "stream",
     "text": [
      "\r",
      "154it [00:39,  3.89it/s]"
     ]
    },
    {
     "name": "stdout",
     "output_type": "stream",
     "text": [
      "Loaded dictionary from cached file ./tmp/cached_biosyn-sapbert-ncbi-disease_test_dictionary.pk\n"
     ]
    },
    {
     "name": "stderr",
     "output_type": "stream",
     "text": [
      "\r",
      "155it [00:39,  3.91it/s]"
     ]
    },
    {
     "name": "stdout",
     "output_type": "stream",
     "text": [
      "Loaded dictionary from cached file ./tmp/cached_biosyn-sapbert-ncbi-disease_test_dictionary.pk\n"
     ]
    },
    {
     "name": "stderr",
     "output_type": "stream",
     "text": [
      "\r",
      "156it [00:39,  3.92it/s]"
     ]
    },
    {
     "name": "stdout",
     "output_type": "stream",
     "text": [
      "Loaded dictionary from cached file ./tmp/cached_biosyn-sapbert-ncbi-disease_test_dictionary.pk\n"
     ]
    },
    {
     "name": "stderr",
     "output_type": "stream",
     "text": [
      "\r",
      "157it [00:39,  3.90it/s]"
     ]
    },
    {
     "name": "stdout",
     "output_type": "stream",
     "text": [
      "Loaded dictionary from cached file ./tmp/cached_biosyn-sapbert-ncbi-disease_test_dictionary.pk\n"
     ]
    },
    {
     "name": "stderr",
     "output_type": "stream",
     "text": [
      "\r",
      "158it [00:40,  3.90it/s]"
     ]
    },
    {
     "name": "stdout",
     "output_type": "stream",
     "text": [
      "Loaded dictionary from cached file ./tmp/cached_biosyn-sapbert-ncbi-disease_test_dictionary.pk\n"
     ]
    },
    {
     "name": "stderr",
     "output_type": "stream",
     "text": [
      "\r",
      "159it [00:40,  3.91it/s]"
     ]
    },
    {
     "name": "stdout",
     "output_type": "stream",
     "text": [
      "Loaded dictionary from cached file ./tmp/cached_biosyn-sapbert-ncbi-disease_test_dictionary.pk\n"
     ]
    },
    {
     "name": "stderr",
     "output_type": "stream",
     "text": [
      "\r",
      "160it [00:40,  3.91it/s]"
     ]
    },
    {
     "name": "stdout",
     "output_type": "stream",
     "text": [
      "Loaded dictionary from cached file ./tmp/cached_biosyn-sapbert-ncbi-disease_test_dictionary.pk\n"
     ]
    },
    {
     "name": "stderr",
     "output_type": "stream",
     "text": [
      "\r",
      "161it [00:40,  3.92it/s]"
     ]
    },
    {
     "name": "stdout",
     "output_type": "stream",
     "text": [
      "Loaded dictionary from cached file ./tmp/cached_biosyn-sapbert-ncbi-disease_test_dictionary.pk\n"
     ]
    },
    {
     "name": "stderr",
     "output_type": "stream",
     "text": [
      "\r",
      "162it [00:41,  3.93it/s]"
     ]
    },
    {
     "name": "stdout",
     "output_type": "stream",
     "text": [
      "Loaded dictionary from cached file ./tmp/cached_biosyn-sapbert-ncbi-disease_test_dictionary.pk\n"
     ]
    },
    {
     "name": "stderr",
     "output_type": "stream",
     "text": [
      "\r",
      "163it [00:41,  3.94it/s]"
     ]
    },
    {
     "name": "stdout",
     "output_type": "stream",
     "text": [
      "Loaded dictionary from cached file ./tmp/cached_biosyn-sapbert-ncbi-disease_test_dictionary.pk\n"
     ]
    },
    {
     "name": "stderr",
     "output_type": "stream",
     "text": [
      "\r",
      "164it [00:41,  3.94it/s]"
     ]
    },
    {
     "name": "stdout",
     "output_type": "stream",
     "text": [
      "Loaded dictionary from cached file ./tmp/cached_biosyn-sapbert-ncbi-disease_test_dictionary.pk\n"
     ]
    },
    {
     "name": "stderr",
     "output_type": "stream",
     "text": [
      "\r",
      "165it [00:41,  3.94it/s]"
     ]
    },
    {
     "name": "stdout",
     "output_type": "stream",
     "text": [
      "Loaded dictionary from cached file ./tmp/cached_biosyn-sapbert-ncbi-disease_test_dictionary.pk\n"
     ]
    },
    {
     "name": "stderr",
     "output_type": "stream",
     "text": [
      "\r",
      "166it [00:42,  3.94it/s]"
     ]
    },
    {
     "name": "stdout",
     "output_type": "stream",
     "text": [
      "Loaded dictionary from cached file ./tmp/cached_biosyn-sapbert-ncbi-disease_test_dictionary.pk\n"
     ]
    },
    {
     "name": "stderr",
     "output_type": "stream",
     "text": [
      "\r",
      "167it [00:42,  3.94it/s]"
     ]
    },
    {
     "name": "stdout",
     "output_type": "stream",
     "text": [
      "Loaded dictionary from cached file ./tmp/cached_biosyn-sapbert-ncbi-disease_test_dictionary.pk\n"
     ]
    },
    {
     "name": "stderr",
     "output_type": "stream",
     "text": [
      "\r",
      "168it [00:42,  3.95it/s]"
     ]
    },
    {
     "name": "stdout",
     "output_type": "stream",
     "text": [
      "Loaded dictionary from cached file ./tmp/cached_biosyn-sapbert-ncbi-disease_test_dictionary.pk\n"
     ]
    },
    {
     "name": "stderr",
     "output_type": "stream",
     "text": [
      "\r",
      "169it [00:42,  3.96it/s]"
     ]
    },
    {
     "name": "stdout",
     "output_type": "stream",
     "text": [
      "Loaded dictionary from cached file ./tmp/cached_biosyn-sapbert-ncbi-disease_test_dictionary.pk\n"
     ]
    },
    {
     "name": "stderr",
     "output_type": "stream",
     "text": [
      "\r",
      "170it [00:43,  3.95it/s]"
     ]
    },
    {
     "name": "stdout",
     "output_type": "stream",
     "text": [
      "Loaded dictionary from cached file ./tmp/cached_biosyn-sapbert-ncbi-disease_test_dictionary.pk\n"
     ]
    },
    {
     "name": "stderr",
     "output_type": "stream",
     "text": [
      "\r",
      "171it [00:43,  3.94it/s]"
     ]
    },
    {
     "name": "stdout",
     "output_type": "stream",
     "text": [
      "Loaded dictionary from cached file ./tmp/cached_biosyn-sapbert-ncbi-disease_test_dictionary.pk\n"
     ]
    },
    {
     "name": "stderr",
     "output_type": "stream",
     "text": [
      "\r",
      "172it [00:43,  3.94it/s]"
     ]
    },
    {
     "name": "stdout",
     "output_type": "stream",
     "text": [
      "Loaded dictionary from cached file ./tmp/cached_biosyn-sapbert-ncbi-disease_test_dictionary.pk\n"
     ]
    },
    {
     "name": "stderr",
     "output_type": "stream",
     "text": [
      "\r",
      "173it [00:44,  3.94it/s]"
     ]
    },
    {
     "name": "stdout",
     "output_type": "stream",
     "text": [
      "Loaded dictionary from cached file ./tmp/cached_biosyn-sapbert-ncbi-disease_test_dictionary.pk\n"
     ]
    },
    {
     "name": "stderr",
     "output_type": "stream",
     "text": [
      "\r",
      "174it [00:44,  3.94it/s]"
     ]
    },
    {
     "name": "stdout",
     "output_type": "stream",
     "text": [
      "Loaded dictionary from cached file ./tmp/cached_biosyn-sapbert-ncbi-disease_test_dictionary.pk\n"
     ]
    },
    {
     "name": "stderr",
     "output_type": "stream",
     "text": [
      "\r",
      "175it [00:44,  3.94it/s]"
     ]
    },
    {
     "name": "stdout",
     "output_type": "stream",
     "text": [
      "Loaded dictionary from cached file ./tmp/cached_biosyn-sapbert-ncbi-disease_test_dictionary.pk\n"
     ]
    },
    {
     "name": "stderr",
     "output_type": "stream",
     "text": [
      "\r",
      "176it [00:44,  3.94it/s]"
     ]
    },
    {
     "name": "stdout",
     "output_type": "stream",
     "text": [
      "Loaded dictionary from cached file ./tmp/cached_biosyn-sapbert-ncbi-disease_test_dictionary.pk\n"
     ]
    },
    {
     "name": "stderr",
     "output_type": "stream",
     "text": [
      "\r",
      "177it [00:45,  3.94it/s]"
     ]
    },
    {
     "name": "stdout",
     "output_type": "stream",
     "text": [
      "Loaded dictionary from cached file ./tmp/cached_biosyn-sapbert-ncbi-disease_test_dictionary.pk\n"
     ]
    },
    {
     "name": "stderr",
     "output_type": "stream",
     "text": [
      "\r",
      "178it [00:45,  3.91it/s]"
     ]
    },
    {
     "name": "stdout",
     "output_type": "stream",
     "text": [
      "Loaded dictionary from cached file ./tmp/cached_biosyn-sapbert-ncbi-disease_test_dictionary.pk\n"
     ]
    },
    {
     "name": "stderr",
     "output_type": "stream",
     "text": [
      "\r",
      "179it [00:45,  3.88it/s]"
     ]
    },
    {
     "name": "stdout",
     "output_type": "stream",
     "text": [
      "Loaded dictionary from cached file ./tmp/cached_biosyn-sapbert-ncbi-disease_test_dictionary.pk\n"
     ]
    },
    {
     "name": "stderr",
     "output_type": "stream",
     "text": [
      "\r",
      "180it [00:45,  3.90it/s]"
     ]
    },
    {
     "name": "stdout",
     "output_type": "stream",
     "text": [
      "Loaded dictionary from cached file ./tmp/cached_biosyn-sapbert-ncbi-disease_test_dictionary.pk\n"
     ]
    },
    {
     "name": "stderr",
     "output_type": "stream",
     "text": [
      "\r",
      "181it [00:46,  3.90it/s]"
     ]
    },
    {
     "name": "stdout",
     "output_type": "stream",
     "text": [
      "Loaded dictionary from cached file ./tmp/cached_biosyn-sapbert-ncbi-disease_test_dictionary.pk\n"
     ]
    },
    {
     "name": "stderr",
     "output_type": "stream",
     "text": [
      "\r",
      "182it [00:46,  3.87it/s]"
     ]
    },
    {
     "name": "stdout",
     "output_type": "stream",
     "text": [
      "Loaded dictionary from cached file ./tmp/cached_biosyn-sapbert-ncbi-disease_test_dictionary.pk\n"
     ]
    },
    {
     "name": "stderr",
     "output_type": "stream",
     "text": [
      "\r",
      "183it [00:46,  3.86it/s]"
     ]
    },
    {
     "name": "stdout",
     "output_type": "stream",
     "text": [
      "Loaded dictionary from cached file ./tmp/cached_biosyn-sapbert-ncbi-disease_test_dictionary.pk\n"
     ]
    },
    {
     "name": "stderr",
     "output_type": "stream",
     "text": [
      "\r",
      "184it [00:46,  3.87it/s]"
     ]
    },
    {
     "name": "stdout",
     "output_type": "stream",
     "text": [
      "Loaded dictionary from cached file ./tmp/cached_biosyn-sapbert-ncbi-disease_test_dictionary.pk\n"
     ]
    },
    {
     "name": "stderr",
     "output_type": "stream",
     "text": [
      "\r",
      "185it [00:47,  3.86it/s]"
     ]
    },
    {
     "name": "stdout",
     "output_type": "stream",
     "text": [
      "Loaded dictionary from cached file ./tmp/cached_biosyn-sapbert-ncbi-disease_test_dictionary.pk\n"
     ]
    },
    {
     "name": "stderr",
     "output_type": "stream",
     "text": [
      "\r",
      "186it [00:47,  3.88it/s]"
     ]
    },
    {
     "name": "stdout",
     "output_type": "stream",
     "text": [
      "Loaded dictionary from cached file ./tmp/cached_biosyn-sapbert-ncbi-disease_test_dictionary.pk\n"
     ]
    },
    {
     "name": "stderr",
     "output_type": "stream",
     "text": [
      "\r",
      "187it [00:47,  3.89it/s]"
     ]
    },
    {
     "name": "stdout",
     "output_type": "stream",
     "text": [
      "Loaded dictionary from cached file ./tmp/cached_biosyn-sapbert-ncbi-disease_test_dictionary.pk\n"
     ]
    },
    {
     "name": "stderr",
     "output_type": "stream",
     "text": [
      "\r",
      "188it [00:47,  3.90it/s]"
     ]
    },
    {
     "name": "stdout",
     "output_type": "stream",
     "text": [
      "Loaded dictionary from cached file ./tmp/cached_biosyn-sapbert-ncbi-disease_test_dictionary.pk\n"
     ]
    },
    {
     "name": "stderr",
     "output_type": "stream",
     "text": [
      "\r",
      "189it [00:48,  3.90it/s]"
     ]
    },
    {
     "name": "stdout",
     "output_type": "stream",
     "text": [
      "Loaded dictionary from cached file ./tmp/cached_biosyn-sapbert-ncbi-disease_test_dictionary.pk\n"
     ]
    },
    {
     "name": "stderr",
     "output_type": "stream",
     "text": [
      "\r",
      "190it [00:48,  3.91it/s]"
     ]
    },
    {
     "name": "stdout",
     "output_type": "stream",
     "text": [
      "Loaded dictionary from cached file ./tmp/cached_biosyn-sapbert-ncbi-disease_test_dictionary.pk\n"
     ]
    },
    {
     "name": "stderr",
     "output_type": "stream",
     "text": [
      "\r",
      "191it [00:48,  3.90it/s]"
     ]
    },
    {
     "name": "stdout",
     "output_type": "stream",
     "text": [
      "Loaded dictionary from cached file ./tmp/cached_biosyn-sapbert-ncbi-disease_test_dictionary.pk\n"
     ]
    },
    {
     "name": "stderr",
     "output_type": "stream",
     "text": [
      "\r",
      "192it [00:48,  3.90it/s]"
     ]
    },
    {
     "name": "stdout",
     "output_type": "stream",
     "text": [
      "Loaded dictionary from cached file ./tmp/cached_biosyn-sapbert-ncbi-disease_test_dictionary.pk\n"
     ]
    },
    {
     "name": "stderr",
     "output_type": "stream",
     "text": [
      "\r",
      "193it [00:49,  3.91it/s]"
     ]
    },
    {
     "name": "stdout",
     "output_type": "stream",
     "text": [
      "Loaded dictionary from cached file ./tmp/cached_biosyn-sapbert-ncbi-disease_test_dictionary.pk\n"
     ]
    },
    {
     "name": "stderr",
     "output_type": "stream",
     "text": [
      "\r",
      "194it [00:49,  3.90it/s]"
     ]
    },
    {
     "name": "stdout",
     "output_type": "stream",
     "text": [
      "Loaded dictionary from cached file ./tmp/cached_biosyn-sapbert-ncbi-disease_test_dictionary.pk\n"
     ]
    },
    {
     "name": "stderr",
     "output_type": "stream",
     "text": [
      "\r",
      "195it [00:49,  3.91it/s]"
     ]
    },
    {
     "name": "stdout",
     "output_type": "stream",
     "text": [
      "Loaded dictionary from cached file ./tmp/cached_biosyn-sapbert-ncbi-disease_test_dictionary.pk\n"
     ]
    },
    {
     "name": "stderr",
     "output_type": "stream",
     "text": [
      "\r",
      "196it [00:49,  3.91it/s]"
     ]
    },
    {
     "name": "stdout",
     "output_type": "stream",
     "text": [
      "Loaded dictionary from cached file ./tmp/cached_biosyn-sapbert-ncbi-disease_test_dictionary.pk\n"
     ]
    },
    {
     "name": "stderr",
     "output_type": "stream",
     "text": [
      "\r",
      "197it [00:50,  3.91it/s]"
     ]
    },
    {
     "name": "stdout",
     "output_type": "stream",
     "text": [
      "Loaded dictionary from cached file ./tmp/cached_biosyn-sapbert-ncbi-disease_test_dictionary.pk\n"
     ]
    },
    {
     "name": "stderr",
     "output_type": "stream",
     "text": [
      "\r",
      "198it [00:50,  3.92it/s]"
     ]
    },
    {
     "name": "stdout",
     "output_type": "stream",
     "text": [
      "Loaded dictionary from cached file ./tmp/cached_biosyn-sapbert-ncbi-disease_test_dictionary.pk\n"
     ]
    },
    {
     "name": "stderr",
     "output_type": "stream",
     "text": [
      "\r",
      "199it [00:50,  3.93it/s]"
     ]
    },
    {
     "name": "stdout",
     "output_type": "stream",
     "text": [
      "Loaded dictionary from cached file ./tmp/cached_biosyn-sapbert-ncbi-disease_test_dictionary.pk\n"
     ]
    },
    {
     "name": "stderr",
     "output_type": "stream",
     "text": [
      "\r",
      "200it [00:50,  3.93it/s]"
     ]
    },
    {
     "name": "stdout",
     "output_type": "stream",
     "text": [
      "Loaded dictionary from cached file ./tmp/cached_biosyn-sapbert-ncbi-disease_test_dictionary.pk\n"
     ]
    },
    {
     "name": "stderr",
     "output_type": "stream",
     "text": [
      "\r",
      "201it [00:51,  3.93it/s]"
     ]
    },
    {
     "name": "stdout",
     "output_type": "stream",
     "text": [
      "Loaded dictionary from cached file ./tmp/cached_biosyn-sapbert-ncbi-disease_test_dictionary.pk\n"
     ]
    },
    {
     "name": "stderr",
     "output_type": "stream",
     "text": [
      "\r",
      "202it [00:51,  3.79it/s]"
     ]
    },
    {
     "name": "stdout",
     "output_type": "stream",
     "text": [
      "Loaded dictionary from cached file ./tmp/cached_biosyn-sapbert-ncbi-disease_test_dictionary.pk\n"
     ]
    },
    {
     "name": "stderr",
     "output_type": "stream",
     "text": [
      "\r",
      "203it [00:51,  3.83it/s]"
     ]
    },
    {
     "name": "stdout",
     "output_type": "stream",
     "text": [
      "Loaded dictionary from cached file ./tmp/cached_biosyn-sapbert-ncbi-disease_test_dictionary.pk\n"
     ]
    },
    {
     "name": "stderr",
     "output_type": "stream",
     "text": [
      "\r",
      "204it [00:51,  3.84it/s]"
     ]
    },
    {
     "name": "stdout",
     "output_type": "stream",
     "text": [
      "Loaded dictionary from cached file ./tmp/cached_biosyn-sapbert-ncbi-disease_test_dictionary.pk\n"
     ]
    },
    {
     "name": "stderr",
     "output_type": "stream",
     "text": [
      "\r",
      "205it [00:52,  3.82it/s]"
     ]
    },
    {
     "name": "stdout",
     "output_type": "stream",
     "text": [
      "Loaded dictionary from cached file ./tmp/cached_biosyn-sapbert-ncbi-disease_test_dictionary.pk\n"
     ]
    },
    {
     "name": "stderr",
     "output_type": "stream",
     "text": [
      "\r",
      "206it [00:52,  3.81it/s]"
     ]
    },
    {
     "name": "stdout",
     "output_type": "stream",
     "text": [
      "Loaded dictionary from cached file ./tmp/cached_biosyn-sapbert-ncbi-disease_test_dictionary.pk\n"
     ]
    },
    {
     "name": "stderr",
     "output_type": "stream",
     "text": [
      "\r",
      "207it [00:52,  3.84it/s]"
     ]
    },
    {
     "name": "stdout",
     "output_type": "stream",
     "text": [
      "Loaded dictionary from cached file ./tmp/cached_biosyn-sapbert-ncbi-disease_test_dictionary.pk\n"
     ]
    },
    {
     "name": "stderr",
     "output_type": "stream",
     "text": [
      "\r",
      "208it [00:53,  3.87it/s]"
     ]
    },
    {
     "name": "stdout",
     "output_type": "stream",
     "text": [
      "Loaded dictionary from cached file ./tmp/cached_biosyn-sapbert-ncbi-disease_test_dictionary.pk\n"
     ]
    },
    {
     "name": "stderr",
     "output_type": "stream",
     "text": [
      "\r",
      "209it [00:53,  3.92it/s]"
     ]
    },
    {
     "name": "stdout",
     "output_type": "stream",
     "text": [
      "Loaded dictionary from cached file ./tmp/cached_biosyn-sapbert-ncbi-disease_test_dictionary.pk\n"
     ]
    },
    {
     "name": "stderr",
     "output_type": "stream",
     "text": [
      "\r",
      "210it [00:53,  3.94it/s]"
     ]
    },
    {
     "name": "stdout",
     "output_type": "stream",
     "text": [
      "Loaded dictionary from cached file ./tmp/cached_biosyn-sapbert-ncbi-disease_test_dictionary.pk\n"
     ]
    },
    {
     "name": "stderr",
     "output_type": "stream",
     "text": [
      "\r",
      "211it [00:53,  3.97it/s]"
     ]
    },
    {
     "name": "stdout",
     "output_type": "stream",
     "text": [
      "Loaded dictionary from cached file ./tmp/cached_biosyn-sapbert-ncbi-disease_test_dictionary.pk\n"
     ]
    },
    {
     "name": "stderr",
     "output_type": "stream",
     "text": [
      "\r",
      "212it [00:54,  3.98it/s]"
     ]
    },
    {
     "name": "stdout",
     "output_type": "stream",
     "text": [
      "Loaded dictionary from cached file ./tmp/cached_biosyn-sapbert-ncbi-disease_test_dictionary.pk\n"
     ]
    },
    {
     "name": "stderr",
     "output_type": "stream",
     "text": [
      "\r",
      "213it [00:54,  4.00it/s]"
     ]
    },
    {
     "name": "stdout",
     "output_type": "stream",
     "text": [
      "Loaded dictionary from cached file ./tmp/cached_biosyn-sapbert-ncbi-disease_test_dictionary.pk\n"
     ]
    },
    {
     "name": "stderr",
     "output_type": "stream",
     "text": [
      "\r",
      "214it [00:54,  4.01it/s]"
     ]
    },
    {
     "name": "stdout",
     "output_type": "stream",
     "text": [
      "Loaded dictionary from cached file ./tmp/cached_biosyn-sapbert-ncbi-disease_test_dictionary.pk\n"
     ]
    },
    {
     "name": "stderr",
     "output_type": "stream",
     "text": [
      "\r",
      "215it [00:54,  4.01it/s]"
     ]
    },
    {
     "name": "stdout",
     "output_type": "stream",
     "text": [
      "Loaded dictionary from cached file ./tmp/cached_biosyn-sapbert-ncbi-disease_test_dictionary.pk\n"
     ]
    },
    {
     "name": "stderr",
     "output_type": "stream",
     "text": [
      "\r",
      "216it [00:55,  4.00it/s]"
     ]
    },
    {
     "name": "stdout",
     "output_type": "stream",
     "text": [
      "Loaded dictionary from cached file ./tmp/cached_biosyn-sapbert-ncbi-disease_test_dictionary.pk\n"
     ]
    },
    {
     "name": "stderr",
     "output_type": "stream",
     "text": [
      "\r",
      "217it [00:55,  4.01it/s]"
     ]
    },
    {
     "name": "stdout",
     "output_type": "stream",
     "text": [
      "Loaded dictionary from cached file ./tmp/cached_biosyn-sapbert-ncbi-disease_test_dictionary.pk\n"
     ]
    },
    {
     "name": "stderr",
     "output_type": "stream",
     "text": [
      "\r",
      "218it [00:55,  4.01it/s]"
     ]
    },
    {
     "name": "stdout",
     "output_type": "stream",
     "text": [
      "Loaded dictionary from cached file ./tmp/cached_biosyn-sapbert-ncbi-disease_test_dictionary.pk\n"
     ]
    },
    {
     "name": "stderr",
     "output_type": "stream",
     "text": [
      "\r",
      "219it [00:55,  4.02it/s]"
     ]
    },
    {
     "name": "stdout",
     "output_type": "stream",
     "text": [
      "Loaded dictionary from cached file ./tmp/cached_biosyn-sapbert-ncbi-disease_test_dictionary.pk\n"
     ]
    },
    {
     "name": "stderr",
     "output_type": "stream",
     "text": [
      "\r",
      "220it [00:56,  4.02it/s]"
     ]
    },
    {
     "name": "stdout",
     "output_type": "stream",
     "text": [
      "Loaded dictionary from cached file ./tmp/cached_biosyn-sapbert-ncbi-disease_test_dictionary.pk\n"
     ]
    },
    {
     "name": "stderr",
     "output_type": "stream",
     "text": [
      "\r",
      "221it [00:56,  4.02it/s]"
     ]
    },
    {
     "name": "stdout",
     "output_type": "stream",
     "text": [
      "Loaded dictionary from cached file ./tmp/cached_biosyn-sapbert-ncbi-disease_test_dictionary.pk\n"
     ]
    },
    {
     "name": "stderr",
     "output_type": "stream",
     "text": [
      "\r",
      "222it [00:56,  3.96it/s]"
     ]
    },
    {
     "name": "stdout",
     "output_type": "stream",
     "text": [
      "Loaded dictionary from cached file ./tmp/cached_biosyn-sapbert-ncbi-disease_test_dictionary.pk\n"
     ]
    },
    {
     "name": "stderr",
     "output_type": "stream",
     "text": [
      "\r",
      "223it [00:56,  3.91it/s]"
     ]
    },
    {
     "name": "stdout",
     "output_type": "stream",
     "text": [
      "Loaded dictionary from cached file ./tmp/cached_biosyn-sapbert-ncbi-disease_test_dictionary.pk\n"
     ]
    },
    {
     "name": "stderr",
     "output_type": "stream",
     "text": [
      "\r",
      "224it [00:57,  3.90it/s]"
     ]
    },
    {
     "name": "stdout",
     "output_type": "stream",
     "text": [
      "Loaded dictionary from cached file ./tmp/cached_biosyn-sapbert-ncbi-disease_test_dictionary.pk\n"
     ]
    },
    {
     "name": "stderr",
     "output_type": "stream",
     "text": [
      "\r",
      "225it [00:57,  3.88it/s]"
     ]
    },
    {
     "name": "stdout",
     "output_type": "stream",
     "text": [
      "Loaded dictionary from cached file ./tmp/cached_biosyn-sapbert-ncbi-disease_test_dictionary.pk\n"
     ]
    },
    {
     "name": "stderr",
     "output_type": "stream",
     "text": [
      "\r",
      "226it [00:57,  3.85it/s]"
     ]
    },
    {
     "name": "stdout",
     "output_type": "stream",
     "text": [
      "Loaded dictionary from cached file ./tmp/cached_biosyn-sapbert-ncbi-disease_test_dictionary.pk\n"
     ]
    },
    {
     "name": "stderr",
     "output_type": "stream",
     "text": [
      "\r",
      "227it [00:57,  3.84it/s]"
     ]
    },
    {
     "name": "stdout",
     "output_type": "stream",
     "text": [
      "Loaded dictionary from cached file ./tmp/cached_biosyn-sapbert-ncbi-disease_test_dictionary.pk\n"
     ]
    },
    {
     "name": "stderr",
     "output_type": "stream",
     "text": [
      "\r",
      "228it [00:58,  3.84it/s]"
     ]
    },
    {
     "name": "stdout",
     "output_type": "stream",
     "text": [
      "Loaded dictionary from cached file ./tmp/cached_biosyn-sapbert-ncbi-disease_test_dictionary.pk\n"
     ]
    },
    {
     "name": "stderr",
     "output_type": "stream",
     "text": [
      "\r",
      "229it [00:58,  3.85it/s]"
     ]
    },
    {
     "name": "stdout",
     "output_type": "stream",
     "text": [
      "Loaded dictionary from cached file ./tmp/cached_biosyn-sapbert-ncbi-disease_test_dictionary.pk\n"
     ]
    },
    {
     "name": "stderr",
     "output_type": "stream",
     "text": [
      "\r",
      "230it [00:58,  3.79it/s]"
     ]
    },
    {
     "name": "stdout",
     "output_type": "stream",
     "text": [
      "Loaded dictionary from cached file ./tmp/cached_biosyn-sapbert-ncbi-disease_test_dictionary.pk\n"
     ]
    },
    {
     "name": "stderr",
     "output_type": "stream",
     "text": [
      "\r",
      "231it [00:58,  3.82it/s]"
     ]
    },
    {
     "name": "stdout",
     "output_type": "stream",
     "text": [
      "Loaded dictionary from cached file ./tmp/cached_biosyn-sapbert-ncbi-disease_test_dictionary.pk\n"
     ]
    },
    {
     "name": "stderr",
     "output_type": "stream",
     "text": [
      "\r",
      "232it [00:59,  3.82it/s]"
     ]
    },
    {
     "name": "stdout",
     "output_type": "stream",
     "text": [
      "Loaded dictionary from cached file ./tmp/cached_biosyn-sapbert-ncbi-disease_test_dictionary.pk\n"
     ]
    },
    {
     "name": "stderr",
     "output_type": "stream",
     "text": [
      "\r",
      "233it [00:59,  3.83it/s]"
     ]
    },
    {
     "name": "stdout",
     "output_type": "stream",
     "text": [
      "Loaded dictionary from cached file ./tmp/cached_biosyn-sapbert-ncbi-disease_test_dictionary.pk\n"
     ]
    },
    {
     "name": "stderr",
     "output_type": "stream",
     "text": [
      "\r",
      "234it [00:59,  3.84it/s]"
     ]
    },
    {
     "name": "stdout",
     "output_type": "stream",
     "text": [
      "Loaded dictionary from cached file ./tmp/cached_biosyn-sapbert-ncbi-disease_test_dictionary.pk\n"
     ]
    },
    {
     "name": "stderr",
     "output_type": "stream",
     "text": [
      "\r",
      "235it [00:59,  3.86it/s]"
     ]
    },
    {
     "name": "stdout",
     "output_type": "stream",
     "text": [
      "Loaded dictionary from cached file ./tmp/cached_biosyn-sapbert-ncbi-disease_test_dictionary.pk\n"
     ]
    },
    {
     "name": "stderr",
     "output_type": "stream",
     "text": [
      "\r",
      "236it [01:00,  3.86it/s]"
     ]
    },
    {
     "name": "stdout",
     "output_type": "stream",
     "text": [
      "Loaded dictionary from cached file ./tmp/cached_biosyn-sapbert-ncbi-disease_test_dictionary.pk\n"
     ]
    },
    {
     "name": "stderr",
     "output_type": "stream",
     "text": [
      "\r",
      "237it [01:00,  3.87it/s]"
     ]
    },
    {
     "name": "stdout",
     "output_type": "stream",
     "text": [
      "Loaded dictionary from cached file ./tmp/cached_biosyn-sapbert-ncbi-disease_test_dictionary.pk\n"
     ]
    },
    {
     "name": "stderr",
     "output_type": "stream",
     "text": [
      "\r",
      "238it [01:00,  3.86it/s]"
     ]
    },
    {
     "name": "stdout",
     "output_type": "stream",
     "text": [
      "Loaded dictionary from cached file ./tmp/cached_biosyn-sapbert-ncbi-disease_test_dictionary.pk\n"
     ]
    },
    {
     "name": "stderr",
     "output_type": "stream",
     "text": [
      "\r",
      "239it [01:00,  3.86it/s]"
     ]
    },
    {
     "name": "stdout",
     "output_type": "stream",
     "text": [
      "Loaded dictionary from cached file ./tmp/cached_biosyn-sapbert-ncbi-disease_test_dictionary.pk\n"
     ]
    },
    {
     "name": "stderr",
     "output_type": "stream",
     "text": [
      "\r",
      "240it [01:01,  3.85it/s]"
     ]
    },
    {
     "name": "stdout",
     "output_type": "stream",
     "text": [
      "Loaded dictionary from cached file ./tmp/cached_biosyn-sapbert-ncbi-disease_test_dictionary.pk\n"
     ]
    },
    {
     "name": "stderr",
     "output_type": "stream",
     "text": [
      "\r",
      "241it [01:01,  3.82it/s]"
     ]
    },
    {
     "name": "stdout",
     "output_type": "stream",
     "text": [
      "Loaded dictionary from cached file ./tmp/cached_biosyn-sapbert-ncbi-disease_test_dictionary.pk\n"
     ]
    },
    {
     "name": "stderr",
     "output_type": "stream",
     "text": [
      "\r",
      "242it [01:01,  3.77it/s]"
     ]
    },
    {
     "name": "stdout",
     "output_type": "stream",
     "text": [
      "Loaded dictionary from cached file ./tmp/cached_biosyn-sapbert-ncbi-disease_test_dictionary.pk\n"
     ]
    },
    {
     "name": "stderr",
     "output_type": "stream",
     "text": [
      "\r",
      "243it [01:01,  3.81it/s]"
     ]
    },
    {
     "name": "stdout",
     "output_type": "stream",
     "text": [
      "Loaded dictionary from cached file ./tmp/cached_biosyn-sapbert-ncbi-disease_test_dictionary.pk\n"
     ]
    },
    {
     "name": "stderr",
     "output_type": "stream",
     "text": [
      "\r",
      "244it [01:02,  3.84it/s]"
     ]
    },
    {
     "name": "stdout",
     "output_type": "stream",
     "text": [
      "Loaded dictionary from cached file ./tmp/cached_biosyn-sapbert-ncbi-disease_test_dictionary.pk\n"
     ]
    },
    {
     "name": "stderr",
     "output_type": "stream",
     "text": [
      "\r",
      "245it [01:02,  3.82it/s]"
     ]
    },
    {
     "name": "stdout",
     "output_type": "stream",
     "text": [
      "Loaded dictionary from cached file ./tmp/cached_biosyn-sapbert-ncbi-disease_test_dictionary.pk\n"
     ]
    },
    {
     "name": "stderr",
     "output_type": "stream",
     "text": [
      "\r",
      "246it [01:02,  3.84it/s]"
     ]
    },
    {
     "name": "stdout",
     "output_type": "stream",
     "text": [
      "Loaded dictionary from cached file ./tmp/cached_biosyn-sapbert-ncbi-disease_test_dictionary.pk\n"
     ]
    },
    {
     "name": "stderr",
     "output_type": "stream",
     "text": [
      "\r",
      "247it [01:03,  3.83it/s]"
     ]
    },
    {
     "name": "stdout",
     "output_type": "stream",
     "text": [
      "Loaded dictionary from cached file ./tmp/cached_biosyn-sapbert-ncbi-disease_test_dictionary.pk\n"
     ]
    },
    {
     "name": "stderr",
     "output_type": "stream",
     "text": [
      "\r",
      "248it [01:03,  3.84it/s]"
     ]
    },
    {
     "name": "stdout",
     "output_type": "stream",
     "text": [
      "Loaded dictionary from cached file ./tmp/cached_biosyn-sapbert-ncbi-disease_test_dictionary.pk\n"
     ]
    },
    {
     "name": "stderr",
     "output_type": "stream",
     "text": [
      "\r",
      "249it [01:03,  3.82it/s]"
     ]
    },
    {
     "name": "stdout",
     "output_type": "stream",
     "text": [
      "Loaded dictionary from cached file ./tmp/cached_biosyn-sapbert-ncbi-disease_test_dictionary.pk\n"
     ]
    },
    {
     "name": "stderr",
     "output_type": "stream",
     "text": [
      "\r",
      "250it [01:03,  3.83it/s]"
     ]
    },
    {
     "name": "stdout",
     "output_type": "stream",
     "text": [
      "Loaded dictionary from cached file ./tmp/cached_biosyn-sapbert-ncbi-disease_test_dictionary.pk\n"
     ]
    },
    {
     "name": "stderr",
     "output_type": "stream",
     "text": [
      "\r",
      "251it [01:04,  3.85it/s]"
     ]
    },
    {
     "name": "stdout",
     "output_type": "stream",
     "text": [
      "Loaded dictionary from cached file ./tmp/cached_biosyn-sapbert-ncbi-disease_test_dictionary.pk\n"
     ]
    },
    {
     "name": "stderr",
     "output_type": "stream",
     "text": [
      "\r",
      "252it [01:04,  3.85it/s]"
     ]
    },
    {
     "name": "stdout",
     "output_type": "stream",
     "text": [
      "Loaded dictionary from cached file ./tmp/cached_biosyn-sapbert-ncbi-disease_test_dictionary.pk\n"
     ]
    },
    {
     "name": "stderr",
     "output_type": "stream",
     "text": [
      "\r",
      "253it [01:04,  3.86it/s]"
     ]
    },
    {
     "name": "stdout",
     "output_type": "stream",
     "text": [
      "Loaded dictionary from cached file ./tmp/cached_biosyn-sapbert-ncbi-disease_test_dictionary.pk\n"
     ]
    },
    {
     "name": "stderr",
     "output_type": "stream",
     "text": [
      "\r",
      "254it [01:04,  3.87it/s]"
     ]
    },
    {
     "name": "stdout",
     "output_type": "stream",
     "text": [
      "Loaded dictionary from cached file ./tmp/cached_biosyn-sapbert-ncbi-disease_test_dictionary.pk\n"
     ]
    },
    {
     "name": "stderr",
     "output_type": "stream",
     "text": [
      "\r",
      "255it [01:05,  3.87it/s]"
     ]
    },
    {
     "name": "stdout",
     "output_type": "stream",
     "text": [
      "Loaded dictionary from cached file ./tmp/cached_biosyn-sapbert-ncbi-disease_test_dictionary.pk\n"
     ]
    },
    {
     "name": "stderr",
     "output_type": "stream",
     "text": [
      "\r",
      "256it [01:05,  3.86it/s]"
     ]
    },
    {
     "name": "stdout",
     "output_type": "stream",
     "text": [
      "Loaded dictionary from cached file ./tmp/cached_biosyn-sapbert-ncbi-disease_test_dictionary.pk\n"
     ]
    },
    {
     "name": "stderr",
     "output_type": "stream",
     "text": [
      "\r",
      "257it [01:05,  3.82it/s]"
     ]
    },
    {
     "name": "stdout",
     "output_type": "stream",
     "text": [
      "Loaded dictionary from cached file ./tmp/cached_biosyn-sapbert-ncbi-disease_test_dictionary.pk\n"
     ]
    },
    {
     "name": "stderr",
     "output_type": "stream",
     "text": [
      "\r",
      "258it [01:05,  3.78it/s]"
     ]
    },
    {
     "name": "stdout",
     "output_type": "stream",
     "text": [
      "Loaded dictionary from cached file ./tmp/cached_biosyn-sapbert-ncbi-disease_test_dictionary.pk\n"
     ]
    },
    {
     "name": "stderr",
     "output_type": "stream",
     "text": [
      "\r",
      "259it [01:06,  3.76it/s]"
     ]
    },
    {
     "name": "stdout",
     "output_type": "stream",
     "text": [
      "Loaded dictionary from cached file ./tmp/cached_biosyn-sapbert-ncbi-disease_test_dictionary.pk\n"
     ]
    },
    {
     "name": "stderr",
     "output_type": "stream",
     "text": [
      "\r",
      "260it [01:06,  3.79it/s]"
     ]
    },
    {
     "name": "stdout",
     "output_type": "stream",
     "text": [
      "Loaded dictionary from cached file ./tmp/cached_biosyn-sapbert-ncbi-disease_test_dictionary.pk\n"
     ]
    },
    {
     "name": "stderr",
     "output_type": "stream",
     "text": [
      "\r",
      "261it [01:06,  3.77it/s]"
     ]
    },
    {
     "name": "stdout",
     "output_type": "stream",
     "text": [
      "Loaded dictionary from cached file ./tmp/cached_biosyn-sapbert-ncbi-disease_test_dictionary.pk\n"
     ]
    },
    {
     "name": "stderr",
     "output_type": "stream",
     "text": [
      "\r",
      "262it [01:06,  3.77it/s]"
     ]
    },
    {
     "name": "stdout",
     "output_type": "stream",
     "text": [
      "Loaded dictionary from cached file ./tmp/cached_biosyn-sapbert-ncbi-disease_test_dictionary.pk\n"
     ]
    },
    {
     "name": "stderr",
     "output_type": "stream",
     "text": [
      "\r",
      "263it [01:07,  3.77it/s]"
     ]
    },
    {
     "name": "stdout",
     "output_type": "stream",
     "text": [
      "Loaded dictionary from cached file ./tmp/cached_biosyn-sapbert-ncbi-disease_test_dictionary.pk\n"
     ]
    },
    {
     "name": "stderr",
     "output_type": "stream",
     "text": [
      "\r",
      "264it [01:07,  3.77it/s]"
     ]
    },
    {
     "name": "stdout",
     "output_type": "stream",
     "text": [
      "Loaded dictionary from cached file ./tmp/cached_biosyn-sapbert-ncbi-disease_test_dictionary.pk\n"
     ]
    },
    {
     "name": "stderr",
     "output_type": "stream",
     "text": [
      "\r",
      "265it [01:07,  3.76it/s]"
     ]
    },
    {
     "name": "stdout",
     "output_type": "stream",
     "text": [
      "Loaded dictionary from cached file ./tmp/cached_biosyn-sapbert-ncbi-disease_test_dictionary.pk\n"
     ]
    },
    {
     "name": "stderr",
     "output_type": "stream",
     "text": [
      "\r",
      "266it [01:08,  3.76it/s]"
     ]
    },
    {
     "name": "stdout",
     "output_type": "stream",
     "text": [
      "Loaded dictionary from cached file ./tmp/cached_biosyn-sapbert-ncbi-disease_test_dictionary.pk\n"
     ]
    },
    {
     "name": "stderr",
     "output_type": "stream",
     "text": [
      "\r",
      "267it [01:08,  3.73it/s]"
     ]
    },
    {
     "name": "stdout",
     "output_type": "stream",
     "text": [
      "Loaded dictionary from cached file ./tmp/cached_biosyn-sapbert-ncbi-disease_test_dictionary.pk\n"
     ]
    },
    {
     "name": "stderr",
     "output_type": "stream",
     "text": [
      "\r",
      "268it [01:08,  3.72it/s]"
     ]
    },
    {
     "name": "stdout",
     "output_type": "stream",
     "text": [
      "Loaded dictionary from cached file ./tmp/cached_biosyn-sapbert-ncbi-disease_test_dictionary.pk\n"
     ]
    },
    {
     "name": "stderr",
     "output_type": "stream",
     "text": [
      "\r",
      "269it [01:08,  3.76it/s]"
     ]
    },
    {
     "name": "stdout",
     "output_type": "stream",
     "text": [
      "Loaded dictionary from cached file ./tmp/cached_biosyn-sapbert-ncbi-disease_test_dictionary.pk\n"
     ]
    },
    {
     "name": "stderr",
     "output_type": "stream",
     "text": [
      "\r",
      "270it [01:09,  3.78it/s]"
     ]
    },
    {
     "name": "stdout",
     "output_type": "stream",
     "text": [
      "Loaded dictionary from cached file ./tmp/cached_biosyn-sapbert-ncbi-disease_test_dictionary.pk\n"
     ]
    },
    {
     "name": "stderr",
     "output_type": "stream",
     "text": [
      "\r",
      "271it [01:09,  3.80it/s]"
     ]
    },
    {
     "name": "stdout",
     "output_type": "stream",
     "text": [
      "Loaded dictionary from cached file ./tmp/cached_biosyn-sapbert-ncbi-disease_test_dictionary.pk\n"
     ]
    },
    {
     "name": "stderr",
     "output_type": "stream",
     "text": [
      "\r",
      "272it [01:09,  3.80it/s]"
     ]
    },
    {
     "name": "stdout",
     "output_type": "stream",
     "text": [
      "Loaded dictionary from cached file ./tmp/cached_biosyn-sapbert-ncbi-disease_test_dictionary.pk\n"
     ]
    },
    {
     "name": "stderr",
     "output_type": "stream",
     "text": [
      "\r",
      "273it [01:09,  3.77it/s]"
     ]
    },
    {
     "name": "stdout",
     "output_type": "stream",
     "text": [
      "Loaded dictionary from cached file ./tmp/cached_biosyn-sapbert-ncbi-disease_test_dictionary.pk\n"
     ]
    },
    {
     "name": "stderr",
     "output_type": "stream",
     "text": [
      "\r",
      "274it [01:10,  3.79it/s]"
     ]
    },
    {
     "name": "stdout",
     "output_type": "stream",
     "text": [
      "Loaded dictionary from cached file ./tmp/cached_biosyn-sapbert-ncbi-disease_test_dictionary.pk\n"
     ]
    },
    {
     "name": "stderr",
     "output_type": "stream",
     "text": [
      "\r",
      "275it [01:10,  3.76it/s]"
     ]
    },
    {
     "name": "stdout",
     "output_type": "stream",
     "text": [
      "Loaded dictionary from cached file ./tmp/cached_biosyn-sapbert-ncbi-disease_test_dictionary.pk\n"
     ]
    },
    {
     "name": "stderr",
     "output_type": "stream",
     "text": [
      "\r",
      "276it [01:10,  3.77it/s]"
     ]
    },
    {
     "name": "stdout",
     "output_type": "stream",
     "text": [
      "Loaded dictionary from cached file ./tmp/cached_biosyn-sapbert-ncbi-disease_test_dictionary.pk\n"
     ]
    },
    {
     "name": "stderr",
     "output_type": "stream",
     "text": [
      "\r",
      "277it [01:10,  3.79it/s]"
     ]
    },
    {
     "name": "stdout",
     "output_type": "stream",
     "text": [
      "Loaded dictionary from cached file ./tmp/cached_biosyn-sapbert-ncbi-disease_test_dictionary.pk\n"
     ]
    },
    {
     "name": "stderr",
     "output_type": "stream",
     "text": [
      "\r",
      "278it [01:11,  3.78it/s]"
     ]
    },
    {
     "name": "stdout",
     "output_type": "stream",
     "text": [
      "Loaded dictionary from cached file ./tmp/cached_biosyn-sapbert-ncbi-disease_test_dictionary.pk\n"
     ]
    },
    {
     "name": "stderr",
     "output_type": "stream",
     "text": [
      "\r",
      "279it [01:11,  3.80it/s]"
     ]
    },
    {
     "name": "stdout",
     "output_type": "stream",
     "text": [
      "Loaded dictionary from cached file ./tmp/cached_biosyn-sapbert-ncbi-disease_test_dictionary.pk\n"
     ]
    },
    {
     "name": "stderr",
     "output_type": "stream",
     "text": [
      "\r",
      "280it [01:11,  3.81it/s]"
     ]
    },
    {
     "name": "stdout",
     "output_type": "stream",
     "text": [
      "Loaded dictionary from cached file ./tmp/cached_biosyn-sapbert-ncbi-disease_test_dictionary.pk\n"
     ]
    },
    {
     "name": "stderr",
     "output_type": "stream",
     "text": [
      "\r",
      "281it [01:11,  3.82it/s]"
     ]
    },
    {
     "name": "stdout",
     "output_type": "stream",
     "text": [
      "Loaded dictionary from cached file ./tmp/cached_biosyn-sapbert-ncbi-disease_test_dictionary.pk\n"
     ]
    },
    {
     "name": "stderr",
     "output_type": "stream",
     "text": [
      "\r",
      "282it [01:12,  3.82it/s]"
     ]
    },
    {
     "name": "stdout",
     "output_type": "stream",
     "text": [
      "Loaded dictionary from cached file ./tmp/cached_biosyn-sapbert-ncbi-disease_test_dictionary.pk\n"
     ]
    },
    {
     "name": "stderr",
     "output_type": "stream",
     "text": [
      "\r",
      "283it [01:12,  3.80it/s]"
     ]
    },
    {
     "name": "stdout",
     "output_type": "stream",
     "text": [
      "Loaded dictionary from cached file ./tmp/cached_biosyn-sapbert-ncbi-disease_test_dictionary.pk\n"
     ]
    },
    {
     "name": "stderr",
     "output_type": "stream",
     "text": [
      "\r",
      "284it [01:12,  3.80it/s]"
     ]
    },
    {
     "name": "stdout",
     "output_type": "stream",
     "text": [
      "Loaded dictionary from cached file ./tmp/cached_biosyn-sapbert-ncbi-disease_test_dictionary.pk\n"
     ]
    },
    {
     "name": "stderr",
     "output_type": "stream",
     "text": [
      "\r",
      "285it [01:13,  3.80it/s]"
     ]
    },
    {
     "name": "stdout",
     "output_type": "stream",
     "text": [
      "Loaded dictionary from cached file ./tmp/cached_biosyn-sapbert-ncbi-disease_test_dictionary.pk\n"
     ]
    },
    {
     "name": "stderr",
     "output_type": "stream",
     "text": [
      "\r",
      "286it [01:13,  3.78it/s]"
     ]
    },
    {
     "name": "stdout",
     "output_type": "stream",
     "text": [
      "Loaded dictionary from cached file ./tmp/cached_biosyn-sapbert-ncbi-disease_test_dictionary.pk\n"
     ]
    },
    {
     "name": "stderr",
     "output_type": "stream",
     "text": [
      "\r",
      "287it [01:13,  3.73it/s]"
     ]
    },
    {
     "name": "stdout",
     "output_type": "stream",
     "text": [
      "Loaded dictionary from cached file ./tmp/cached_biosyn-sapbert-ncbi-disease_test_dictionary.pk\n"
     ]
    },
    {
     "name": "stderr",
     "output_type": "stream",
     "text": [
      "\r",
      "288it [01:13,  3.74it/s]"
     ]
    },
    {
     "name": "stdout",
     "output_type": "stream",
     "text": [
      "Loaded dictionary from cached file ./tmp/cached_biosyn-sapbert-ncbi-disease_test_dictionary.pk\n"
     ]
    },
    {
     "name": "stderr",
     "output_type": "stream",
     "text": [
      "\r",
      "289it [01:14,  3.75it/s]"
     ]
    },
    {
     "name": "stdout",
     "output_type": "stream",
     "text": [
      "Loaded dictionary from cached file ./tmp/cached_biosyn-sapbert-ncbi-disease_test_dictionary.pk\n"
     ]
    },
    {
     "name": "stderr",
     "output_type": "stream",
     "text": [
      "\r",
      "290it [01:14,  3.77it/s]"
     ]
    },
    {
     "name": "stdout",
     "output_type": "stream",
     "text": [
      "Loaded dictionary from cached file ./tmp/cached_biosyn-sapbert-ncbi-disease_test_dictionary.pk\n"
     ]
    },
    {
     "name": "stderr",
     "output_type": "stream",
     "text": [
      "\r",
      "291it [01:14,  3.76it/s]"
     ]
    },
    {
     "name": "stdout",
     "output_type": "stream",
     "text": [
      "Loaded dictionary from cached file ./tmp/cached_biosyn-sapbert-ncbi-disease_test_dictionary.pk\n"
     ]
    },
    {
     "name": "stderr",
     "output_type": "stream",
     "text": [
      "\r",
      "292it [01:14,  3.66it/s]"
     ]
    },
    {
     "name": "stdout",
     "output_type": "stream",
     "text": [
      "Loaded dictionary from cached file ./tmp/cached_biosyn-sapbert-ncbi-disease_test_dictionary.pk\n"
     ]
    },
    {
     "name": "stderr",
     "output_type": "stream",
     "text": [
      "\r",
      "293it [01:15,  3.65it/s]"
     ]
    },
    {
     "name": "stdout",
     "output_type": "stream",
     "text": [
      "Loaded dictionary from cached file ./tmp/cached_biosyn-sapbert-ncbi-disease_test_dictionary.pk\n"
     ]
    },
    {
     "name": "stderr",
     "output_type": "stream",
     "text": [
      "\r",
      "294it [01:15,  3.67it/s]"
     ]
    },
    {
     "name": "stdout",
     "output_type": "stream",
     "text": [
      "Loaded dictionary from cached file ./tmp/cached_biosyn-sapbert-ncbi-disease_test_dictionary.pk\n"
     ]
    },
    {
     "name": "stderr",
     "output_type": "stream",
     "text": [
      "\r",
      "295it [01:15,  3.67it/s]"
     ]
    },
    {
     "name": "stdout",
     "output_type": "stream",
     "text": [
      "Loaded dictionary from cached file ./tmp/cached_biosyn-sapbert-ncbi-disease_test_dictionary.pk\n"
     ]
    },
    {
     "name": "stderr",
     "output_type": "stream",
     "text": [
      "\r",
      "296it [01:16,  3.67it/s]"
     ]
    },
    {
     "name": "stdout",
     "output_type": "stream",
     "text": [
      "Loaded dictionary from cached file ./tmp/cached_biosyn-sapbert-ncbi-disease_test_dictionary.pk\n"
     ]
    },
    {
     "name": "stderr",
     "output_type": "stream",
     "text": [
      "\r",
      "297it [01:16,  3.64it/s]"
     ]
    },
    {
     "name": "stdout",
     "output_type": "stream",
     "text": [
      "Loaded dictionary from cached file ./tmp/cached_biosyn-sapbert-ncbi-disease_test_dictionary.pk\n"
     ]
    },
    {
     "name": "stderr",
     "output_type": "stream",
     "text": [
      "\r",
      "298it [01:16,  3.63it/s]"
     ]
    },
    {
     "name": "stdout",
     "output_type": "stream",
     "text": [
      "Loaded dictionary from cached file ./tmp/cached_biosyn-sapbert-ncbi-disease_test_dictionary.pk\n"
     ]
    },
    {
     "name": "stderr",
     "output_type": "stream",
     "text": [
      "\r",
      "299it [01:16,  3.68it/s]"
     ]
    },
    {
     "name": "stdout",
     "output_type": "stream",
     "text": [
      "Loaded dictionary from cached file ./tmp/cached_biosyn-sapbert-ncbi-disease_test_dictionary.pk\n"
     ]
    },
    {
     "name": "stderr",
     "output_type": "stream",
     "text": [
      "\r",
      "300it [01:17,  3.71it/s]"
     ]
    },
    {
     "name": "stdout",
     "output_type": "stream",
     "text": [
      "Loaded dictionary from cached file ./tmp/cached_biosyn-sapbert-ncbi-disease_test_dictionary.pk\n"
     ]
    },
    {
     "name": "stderr",
     "output_type": "stream",
     "text": [
      "\r",
      "301it [01:17,  3.72it/s]"
     ]
    },
    {
     "name": "stdout",
     "output_type": "stream",
     "text": [
      "Loaded dictionary from cached file ./tmp/cached_biosyn-sapbert-ncbi-disease_test_dictionary.pk\n"
     ]
    },
    {
     "name": "stderr",
     "output_type": "stream",
     "text": [
      "\r",
      "302it [01:17,  3.75it/s]"
     ]
    },
    {
     "name": "stdout",
     "output_type": "stream",
     "text": [
      "Loaded dictionary from cached file ./tmp/cached_biosyn-sapbert-ncbi-disease_test_dictionary.pk\n"
     ]
    },
    {
     "name": "stderr",
     "output_type": "stream",
     "text": [
      "\r",
      "303it [01:17,  3.77it/s]"
     ]
    },
    {
     "name": "stdout",
     "output_type": "stream",
     "text": [
      "Loaded dictionary from cached file ./tmp/cached_biosyn-sapbert-ncbi-disease_test_dictionary.pk\n"
     ]
    },
    {
     "name": "stderr",
     "output_type": "stream",
     "text": [
      "\r",
      "304it [01:18,  3.81it/s]"
     ]
    },
    {
     "name": "stdout",
     "output_type": "stream",
     "text": [
      "Loaded dictionary from cached file ./tmp/cached_biosyn-sapbert-ncbi-disease_test_dictionary.pk\n"
     ]
    },
    {
     "name": "stderr",
     "output_type": "stream",
     "text": [
      "\r",
      "305it [01:18,  3.80it/s]"
     ]
    },
    {
     "name": "stdout",
     "output_type": "stream",
     "text": [
      "Loaded dictionary from cached file ./tmp/cached_biosyn-sapbert-ncbi-disease_test_dictionary.pk\n"
     ]
    },
    {
     "name": "stderr",
     "output_type": "stream",
     "text": [
      "\r",
      "306it [01:18,  3.78it/s]"
     ]
    },
    {
     "name": "stdout",
     "output_type": "stream",
     "text": [
      "Loaded dictionary from cached file ./tmp/cached_biosyn-sapbert-ncbi-disease_test_dictionary.pk\n"
     ]
    },
    {
     "name": "stderr",
     "output_type": "stream",
     "text": [
      "\r",
      "307it [01:18,  3.81it/s]"
     ]
    },
    {
     "name": "stdout",
     "output_type": "stream",
     "text": [
      "Loaded dictionary from cached file ./tmp/cached_biosyn-sapbert-ncbi-disease_test_dictionary.pk\n"
     ]
    },
    {
     "name": "stderr",
     "output_type": "stream",
     "text": [
      "\r",
      "308it [01:19,  3.82it/s]"
     ]
    },
    {
     "name": "stdout",
     "output_type": "stream",
     "text": [
      "Loaded dictionary from cached file ./tmp/cached_biosyn-sapbert-ncbi-disease_test_dictionary.pk\n"
     ]
    },
    {
     "name": "stderr",
     "output_type": "stream",
     "text": [
      "\r",
      "309it [01:19,  3.82it/s]"
     ]
    },
    {
     "name": "stdout",
     "output_type": "stream",
     "text": [
      "Loaded dictionary from cached file ./tmp/cached_biosyn-sapbert-ncbi-disease_test_dictionary.pk\n"
     ]
    },
    {
     "name": "stderr",
     "output_type": "stream",
     "text": [
      "\r",
      "310it [01:19,  3.82it/s]"
     ]
    },
    {
     "name": "stdout",
     "output_type": "stream",
     "text": [
      "Loaded dictionary from cached file ./tmp/cached_biosyn-sapbert-ncbi-disease_test_dictionary.pk\n"
     ]
    },
    {
     "name": "stderr",
     "output_type": "stream",
     "text": [
      "\r",
      "311it [01:20,  3.79it/s]"
     ]
    },
    {
     "name": "stdout",
     "output_type": "stream",
     "text": [
      "Loaded dictionary from cached file ./tmp/cached_biosyn-sapbert-ncbi-disease_test_dictionary.pk\n"
     ]
    },
    {
     "name": "stderr",
     "output_type": "stream",
     "text": [
      "\r",
      "312it [01:20,  3.76it/s]"
     ]
    },
    {
     "name": "stdout",
     "output_type": "stream",
     "text": [
      "Loaded dictionary from cached file ./tmp/cached_biosyn-sapbert-ncbi-disease_test_dictionary.pk\n"
     ]
    },
    {
     "name": "stderr",
     "output_type": "stream",
     "text": [
      "\r",
      "313it [01:20,  3.78it/s]"
     ]
    },
    {
     "name": "stdout",
     "output_type": "stream",
     "text": [
      "Loaded dictionary from cached file ./tmp/cached_biosyn-sapbert-ncbi-disease_test_dictionary.pk\n"
     ]
    },
    {
     "name": "stderr",
     "output_type": "stream",
     "text": [
      "\r",
      "314it [01:20,  3.81it/s]"
     ]
    },
    {
     "name": "stdout",
     "output_type": "stream",
     "text": [
      "Loaded dictionary from cached file ./tmp/cached_biosyn-sapbert-ncbi-disease_test_dictionary.pk\n"
     ]
    },
    {
     "name": "stderr",
     "output_type": "stream",
     "text": [
      "\r",
      "315it [01:21,  3.82it/s]"
     ]
    },
    {
     "name": "stdout",
     "output_type": "stream",
     "text": [
      "Loaded dictionary from cached file ./tmp/cached_biosyn-sapbert-ncbi-disease_test_dictionary.pk\n"
     ]
    },
    {
     "name": "stderr",
     "output_type": "stream",
     "text": [
      "\r",
      "316it [01:21,  3.84it/s]"
     ]
    },
    {
     "name": "stdout",
     "output_type": "stream",
     "text": [
      "Loaded dictionary from cached file ./tmp/cached_biosyn-sapbert-ncbi-disease_test_dictionary.pk\n"
     ]
    },
    {
     "name": "stderr",
     "output_type": "stream",
     "text": [
      "\r",
      "317it [01:21,  3.81it/s]"
     ]
    },
    {
     "name": "stdout",
     "output_type": "stream",
     "text": [
      "Loaded dictionary from cached file ./tmp/cached_biosyn-sapbert-ncbi-disease_test_dictionary.pk\n"
     ]
    },
    {
     "name": "stderr",
     "output_type": "stream",
     "text": [
      "\r",
      "318it [01:21,  3.81it/s]"
     ]
    },
    {
     "name": "stdout",
     "output_type": "stream",
     "text": [
      "Loaded dictionary from cached file ./tmp/cached_biosyn-sapbert-ncbi-disease_test_dictionary.pk\n"
     ]
    },
    {
     "name": "stderr",
     "output_type": "stream",
     "text": [
      "\r",
      "319it [01:22,  3.79it/s]"
     ]
    },
    {
     "name": "stdout",
     "output_type": "stream",
     "text": [
      "Loaded dictionary from cached file ./tmp/cached_biosyn-sapbert-ncbi-disease_test_dictionary.pk\n"
     ]
    },
    {
     "name": "stderr",
     "output_type": "stream",
     "text": [
      "\r",
      "320it [01:22,  3.77it/s]"
     ]
    },
    {
     "name": "stdout",
     "output_type": "stream",
     "text": [
      "Loaded dictionary from cached file ./tmp/cached_biosyn-sapbert-ncbi-disease_test_dictionary.pk\n"
     ]
    },
    {
     "name": "stderr",
     "output_type": "stream",
     "text": [
      "\r",
      "321it [01:22,  3.76it/s]"
     ]
    },
    {
     "name": "stdout",
     "output_type": "stream",
     "text": [
      "Loaded dictionary from cached file ./tmp/cached_biosyn-sapbert-ncbi-disease_test_dictionary.pk\n"
     ]
    },
    {
     "name": "stderr",
     "output_type": "stream",
     "text": [
      "\r",
      "322it [01:22,  3.78it/s]"
     ]
    },
    {
     "name": "stdout",
     "output_type": "stream",
     "text": [
      "Loaded dictionary from cached file ./tmp/cached_biosyn-sapbert-ncbi-disease_test_dictionary.pk\n"
     ]
    },
    {
     "name": "stderr",
     "output_type": "stream",
     "text": [
      "\r",
      "323it [01:23,  3.78it/s]"
     ]
    },
    {
     "name": "stdout",
     "output_type": "stream",
     "text": [
      "Loaded dictionary from cached file ./tmp/cached_biosyn-sapbert-ncbi-disease_test_dictionary.pk\n"
     ]
    },
    {
     "name": "stderr",
     "output_type": "stream",
     "text": [
      "\r",
      "324it [01:23,  3.79it/s]"
     ]
    },
    {
     "name": "stdout",
     "output_type": "stream",
     "text": [
      "Loaded dictionary from cached file ./tmp/cached_biosyn-sapbert-ncbi-disease_test_dictionary.pk\n"
     ]
    },
    {
     "name": "stderr",
     "output_type": "stream",
     "text": [
      "\r",
      "325it [01:23,  3.79it/s]"
     ]
    },
    {
     "name": "stdout",
     "output_type": "stream",
     "text": [
      "Loaded dictionary from cached file ./tmp/cached_biosyn-sapbert-ncbi-disease_test_dictionary.pk\n"
     ]
    },
    {
     "name": "stderr",
     "output_type": "stream",
     "text": [
      "\r",
      "326it [01:23,  3.80it/s]"
     ]
    },
    {
     "name": "stdout",
     "output_type": "stream",
     "text": [
      "Loaded dictionary from cached file ./tmp/cached_biosyn-sapbert-ncbi-disease_test_dictionary.pk\n"
     ]
    },
    {
     "name": "stderr",
     "output_type": "stream",
     "text": [
      "\r",
      "327it [01:24,  3.74it/s]"
     ]
    },
    {
     "name": "stdout",
     "output_type": "stream",
     "text": [
      "Loaded dictionary from cached file ./tmp/cached_biosyn-sapbert-ncbi-disease_test_dictionary.pk\n"
     ]
    },
    {
     "name": "stderr",
     "output_type": "stream",
     "text": [
      "\r",
      "328it [01:24,  3.73it/s]"
     ]
    },
    {
     "name": "stdout",
     "output_type": "stream",
     "text": [
      "Loaded dictionary from cached file ./tmp/cached_biosyn-sapbert-ncbi-disease_test_dictionary.pk\n"
     ]
    },
    {
     "name": "stderr",
     "output_type": "stream",
     "text": [
      "\r",
      "329it [01:24,  3.72it/s]"
     ]
    },
    {
     "name": "stdout",
     "output_type": "stream",
     "text": [
      "Loaded dictionary from cached file ./tmp/cached_biosyn-sapbert-ncbi-disease_test_dictionary.pk\n"
     ]
    },
    {
     "name": "stderr",
     "output_type": "stream",
     "text": [
      "\r",
      "330it [01:25,  3.76it/s]"
     ]
    },
    {
     "name": "stdout",
     "output_type": "stream",
     "text": [
      "Loaded dictionary from cached file ./tmp/cached_biosyn-sapbert-ncbi-disease_test_dictionary.pk\n"
     ]
    },
    {
     "name": "stderr",
     "output_type": "stream",
     "text": [
      "\r",
      "331it [01:25,  3.79it/s]"
     ]
    },
    {
     "name": "stdout",
     "output_type": "stream",
     "text": [
      "Loaded dictionary from cached file ./tmp/cached_biosyn-sapbert-ncbi-disease_test_dictionary.pk\n"
     ]
    },
    {
     "name": "stderr",
     "output_type": "stream",
     "text": [
      "\r",
      "332it [01:25,  3.81it/s]"
     ]
    },
    {
     "name": "stdout",
     "output_type": "stream",
     "text": [
      "Loaded dictionary from cached file ./tmp/cached_biosyn-sapbert-ncbi-disease_test_dictionary.pk\n"
     ]
    },
    {
     "name": "stderr",
     "output_type": "stream",
     "text": [
      "\r",
      "333it [01:25,  3.81it/s]"
     ]
    },
    {
     "name": "stdout",
     "output_type": "stream",
     "text": [
      "Loaded dictionary from cached file ./tmp/cached_biosyn-sapbert-ncbi-disease_test_dictionary.pk\n"
     ]
    },
    {
     "name": "stderr",
     "output_type": "stream",
     "text": [
      "\r",
      "334it [01:26,  3.81it/s]"
     ]
    },
    {
     "name": "stdout",
     "output_type": "stream",
     "text": [
      "Loaded dictionary from cached file ./tmp/cached_biosyn-sapbert-ncbi-disease_test_dictionary.pk\n"
     ]
    },
    {
     "name": "stderr",
     "output_type": "stream",
     "text": [
      "\r",
      "335it [01:26,  3.79it/s]"
     ]
    },
    {
     "name": "stdout",
     "output_type": "stream",
     "text": [
      "Loaded dictionary from cached file ./tmp/cached_biosyn-sapbert-ncbi-disease_test_dictionary.pk\n"
     ]
    },
    {
     "name": "stderr",
     "output_type": "stream",
     "text": [
      "\r",
      "336it [01:26,  3.79it/s]"
     ]
    },
    {
     "name": "stdout",
     "output_type": "stream",
     "text": [
      "Loaded dictionary from cached file ./tmp/cached_biosyn-sapbert-ncbi-disease_test_dictionary.pk\n"
     ]
    },
    {
     "name": "stderr",
     "output_type": "stream",
     "text": [
      "\r",
      "337it [01:26,  3.73it/s]"
     ]
    },
    {
     "name": "stdout",
     "output_type": "stream",
     "text": [
      "Loaded dictionary from cached file ./tmp/cached_biosyn-sapbert-ncbi-disease_test_dictionary.pk\n"
     ]
    },
    {
     "name": "stderr",
     "output_type": "stream",
     "text": [
      "\r",
      "338it [01:27,  3.71it/s]"
     ]
    },
    {
     "name": "stdout",
     "output_type": "stream",
     "text": [
      "Loaded dictionary from cached file ./tmp/cached_biosyn-sapbert-ncbi-disease_test_dictionary.pk\n"
     ]
    },
    {
     "name": "stderr",
     "output_type": "stream",
     "text": [
      "\r",
      "339it [01:27,  3.72it/s]"
     ]
    },
    {
     "name": "stdout",
     "output_type": "stream",
     "text": [
      "Loaded dictionary from cached file ./tmp/cached_biosyn-sapbert-ncbi-disease_test_dictionary.pk\n"
     ]
    },
    {
     "name": "stderr",
     "output_type": "stream",
     "text": [
      "\r",
      "340it [01:27,  3.76it/s]"
     ]
    },
    {
     "name": "stdout",
     "output_type": "stream",
     "text": [
      "Loaded dictionary from cached file ./tmp/cached_biosyn-sapbert-ncbi-disease_test_dictionary.pk\n"
     ]
    },
    {
     "name": "stderr",
     "output_type": "stream",
     "text": [
      "\r",
      "341it [01:27,  3.77it/s]"
     ]
    },
    {
     "name": "stdout",
     "output_type": "stream",
     "text": [
      "Loaded dictionary from cached file ./tmp/cached_biosyn-sapbert-ncbi-disease_test_dictionary.pk\n"
     ]
    },
    {
     "name": "stderr",
     "output_type": "stream",
     "text": [
      "\r",
      "342it [01:28,  3.77it/s]"
     ]
    },
    {
     "name": "stdout",
     "output_type": "stream",
     "text": [
      "Loaded dictionary from cached file ./tmp/cached_biosyn-sapbert-ncbi-disease_test_dictionary.pk\n"
     ]
    },
    {
     "name": "stderr",
     "output_type": "stream",
     "text": [
      "\r",
      "343it [01:28,  3.77it/s]"
     ]
    },
    {
     "name": "stdout",
     "output_type": "stream",
     "text": [
      "Loaded dictionary from cached file ./tmp/cached_biosyn-sapbert-ncbi-disease_test_dictionary.pk\n"
     ]
    },
    {
     "name": "stderr",
     "output_type": "stream",
     "text": [
      "\r",
      "344it [01:28,  3.79it/s]"
     ]
    },
    {
     "name": "stdout",
     "output_type": "stream",
     "text": [
      "Loaded dictionary from cached file ./tmp/cached_biosyn-sapbert-ncbi-disease_test_dictionary.pk\n"
     ]
    },
    {
     "name": "stderr",
     "output_type": "stream",
     "text": [
      "\r",
      "345it [01:29,  3.79it/s]"
     ]
    },
    {
     "name": "stdout",
     "output_type": "stream",
     "text": [
      "Loaded dictionary from cached file ./tmp/cached_biosyn-sapbert-ncbi-disease_test_dictionary.pk\n"
     ]
    },
    {
     "name": "stderr",
     "output_type": "stream",
     "text": [
      "\r",
      "346it [01:29,  3.72it/s]"
     ]
    },
    {
     "name": "stdout",
     "output_type": "stream",
     "text": [
      "Loaded dictionary from cached file ./tmp/cached_biosyn-sapbert-ncbi-disease_test_dictionary.pk\n"
     ]
    },
    {
     "name": "stderr",
     "output_type": "stream",
     "text": [
      "\r",
      "347it [01:29,  3.69it/s]"
     ]
    },
    {
     "name": "stdout",
     "output_type": "stream",
     "text": [
      "Loaded dictionary from cached file ./tmp/cached_biosyn-sapbert-ncbi-disease_test_dictionary.pk\n"
     ]
    },
    {
     "name": "stderr",
     "output_type": "stream",
     "text": [
      "\r",
      "348it [01:29,  3.74it/s]"
     ]
    },
    {
     "name": "stdout",
     "output_type": "stream",
     "text": [
      "Loaded dictionary from cached file ./tmp/cached_biosyn-sapbert-ncbi-disease_test_dictionary.pk\n"
     ]
    },
    {
     "name": "stderr",
     "output_type": "stream",
     "text": [
      "\r",
      "349it [01:30,  3.78it/s]"
     ]
    },
    {
     "name": "stdout",
     "output_type": "stream",
     "text": [
      "Loaded dictionary from cached file ./tmp/cached_biosyn-sapbert-ncbi-disease_test_dictionary.pk\n"
     ]
    },
    {
     "name": "stderr",
     "output_type": "stream",
     "text": [
      "\r",
      "350it [01:30,  3.81it/s]"
     ]
    },
    {
     "name": "stdout",
     "output_type": "stream",
     "text": [
      "Loaded dictionary from cached file ./tmp/cached_biosyn-sapbert-ncbi-disease_test_dictionary.pk\n"
     ]
    },
    {
     "name": "stderr",
     "output_type": "stream",
     "text": [
      "\r",
      "351it [01:30,  3.82it/s]"
     ]
    },
    {
     "name": "stdout",
     "output_type": "stream",
     "text": [
      "Loaded dictionary from cached file ./tmp/cached_biosyn-sapbert-ncbi-disease_test_dictionary.pk\n"
     ]
    },
    {
     "name": "stderr",
     "output_type": "stream",
     "text": [
      "\r",
      "352it [01:30,  3.83it/s]"
     ]
    },
    {
     "name": "stdout",
     "output_type": "stream",
     "text": [
      "Loaded dictionary from cached file ./tmp/cached_biosyn-sapbert-ncbi-disease_test_dictionary.pk\n"
     ]
    },
    {
     "name": "stderr",
     "output_type": "stream",
     "text": [
      "\r",
      "353it [01:31,  3.84it/s]"
     ]
    },
    {
     "name": "stdout",
     "output_type": "stream",
     "text": [
      "Loaded dictionary from cached file ./tmp/cached_biosyn-sapbert-ncbi-disease_test_dictionary.pk\n"
     ]
    },
    {
     "name": "stderr",
     "output_type": "stream",
     "text": [
      "\r",
      "354it [01:31,  3.83it/s]"
     ]
    },
    {
     "name": "stdout",
     "output_type": "stream",
     "text": [
      "Loaded dictionary from cached file ./tmp/cached_biosyn-sapbert-ncbi-disease_test_dictionary.pk\n"
     ]
    },
    {
     "name": "stderr",
     "output_type": "stream",
     "text": [
      "\r",
      "355it [01:31,  3.84it/s]"
     ]
    },
    {
     "name": "stdout",
     "output_type": "stream",
     "text": [
      "Loaded dictionary from cached file ./tmp/cached_biosyn-sapbert-ncbi-disease_test_dictionary.pk\n"
     ]
    },
    {
     "name": "stderr",
     "output_type": "stream",
     "text": [
      "\r",
      "356it [01:31,  3.84it/s]"
     ]
    },
    {
     "name": "stdout",
     "output_type": "stream",
     "text": [
      "Loaded dictionary from cached file ./tmp/cached_biosyn-sapbert-ncbi-disease_test_dictionary.pk\n"
     ]
    },
    {
     "name": "stderr",
     "output_type": "stream",
     "text": [
      "\r",
      "357it [01:32,  3.85it/s]"
     ]
    },
    {
     "name": "stdout",
     "output_type": "stream",
     "text": [
      "Loaded dictionary from cached file ./tmp/cached_biosyn-sapbert-ncbi-disease_test_dictionary.pk\n"
     ]
    },
    {
     "name": "stderr",
     "output_type": "stream",
     "text": [
      "\r",
      "358it [01:32,  3.85it/s]"
     ]
    },
    {
     "name": "stdout",
     "output_type": "stream",
     "text": [
      "Loaded dictionary from cached file ./tmp/cached_biosyn-sapbert-ncbi-disease_test_dictionary.pk\n"
     ]
    },
    {
     "name": "stderr",
     "output_type": "stream",
     "text": [
      "\r",
      "359it [01:32,  3.83it/s]"
     ]
    },
    {
     "name": "stdout",
     "output_type": "stream",
     "text": [
      "Loaded dictionary from cached file ./tmp/cached_biosyn-sapbert-ncbi-disease_test_dictionary.pk\n"
     ]
    },
    {
     "name": "stderr",
     "output_type": "stream",
     "text": [
      "\r",
      "360it [01:32,  3.84it/s]"
     ]
    },
    {
     "name": "stdout",
     "output_type": "stream",
     "text": [
      "Loaded dictionary from cached file ./tmp/cached_biosyn-sapbert-ncbi-disease_test_dictionary.pk\n"
     ]
    },
    {
     "name": "stderr",
     "output_type": "stream",
     "text": [
      "\r",
      "361it [01:33,  3.85it/s]"
     ]
    },
    {
     "name": "stdout",
     "output_type": "stream",
     "text": [
      "Loaded dictionary from cached file ./tmp/cached_biosyn-sapbert-ncbi-disease_test_dictionary.pk\n"
     ]
    },
    {
     "name": "stderr",
     "output_type": "stream",
     "text": [
      "\r",
      "362it [01:33,  3.86it/s]"
     ]
    },
    {
     "name": "stdout",
     "output_type": "stream",
     "text": [
      "Loaded dictionary from cached file ./tmp/cached_biosyn-sapbert-ncbi-disease_test_dictionary.pk\n"
     ]
    },
    {
     "name": "stderr",
     "output_type": "stream",
     "text": [
      "\r",
      "363it [01:33,  3.86it/s]"
     ]
    },
    {
     "name": "stdout",
     "output_type": "stream",
     "text": [
      "Loaded dictionary from cached file ./tmp/cached_biosyn-sapbert-ncbi-disease_test_dictionary.pk\n"
     ]
    },
    {
     "name": "stderr",
     "output_type": "stream",
     "text": [
      "\r",
      "364it [01:33,  3.86it/s]"
     ]
    },
    {
     "name": "stdout",
     "output_type": "stream",
     "text": [
      "Loaded dictionary from cached file ./tmp/cached_biosyn-sapbert-ncbi-disease_test_dictionary.pk\n"
     ]
    },
    {
     "name": "stderr",
     "output_type": "stream",
     "text": [
      "\r",
      "365it [01:34,  3.84it/s]"
     ]
    },
    {
     "name": "stdout",
     "output_type": "stream",
     "text": [
      "Loaded dictionary from cached file ./tmp/cached_biosyn-sapbert-ncbi-disease_test_dictionary.pk\n"
     ]
    },
    {
     "name": "stderr",
     "output_type": "stream",
     "text": [
      "\r",
      "366it [01:34,  3.82it/s]"
     ]
    },
    {
     "name": "stdout",
     "output_type": "stream",
     "text": [
      "Loaded dictionary from cached file ./tmp/cached_biosyn-sapbert-ncbi-disease_test_dictionary.pk\n"
     ]
    },
    {
     "name": "stderr",
     "output_type": "stream",
     "text": [
      "\r",
      "367it [01:34,  3.82it/s]"
     ]
    },
    {
     "name": "stdout",
     "output_type": "stream",
     "text": [
      "Loaded dictionary from cached file ./tmp/cached_biosyn-sapbert-ncbi-disease_test_dictionary.pk\n"
     ]
    },
    {
     "name": "stderr",
     "output_type": "stream",
     "text": [
      "\r",
      "368it [01:35,  3.83it/s]"
     ]
    },
    {
     "name": "stdout",
     "output_type": "stream",
     "text": [
      "Loaded dictionary from cached file ./tmp/cached_biosyn-sapbert-ncbi-disease_test_dictionary.pk\n"
     ]
    },
    {
     "name": "stderr",
     "output_type": "stream",
     "text": [
      "\r",
      "369it [01:35,  3.85it/s]"
     ]
    },
    {
     "name": "stdout",
     "output_type": "stream",
     "text": [
      "Loaded dictionary from cached file ./tmp/cached_biosyn-sapbert-ncbi-disease_test_dictionary.pk\n"
     ]
    },
    {
     "name": "stderr",
     "output_type": "stream",
     "text": [
      "\r",
      "370it [01:35,  3.84it/s]"
     ]
    },
    {
     "name": "stdout",
     "output_type": "stream",
     "text": [
      "Loaded dictionary from cached file ./tmp/cached_biosyn-sapbert-ncbi-disease_test_dictionary.pk\n"
     ]
    },
    {
     "name": "stderr",
     "output_type": "stream",
     "text": [
      "\r",
      "371it [01:35,  3.85it/s]"
     ]
    },
    {
     "name": "stdout",
     "output_type": "stream",
     "text": [
      "Loaded dictionary from cached file ./tmp/cached_biosyn-sapbert-ncbi-disease_test_dictionary.pk\n"
     ]
    },
    {
     "name": "stderr",
     "output_type": "stream",
     "text": [
      "\r",
      "372it [01:36,  3.85it/s]"
     ]
    },
    {
     "name": "stdout",
     "output_type": "stream",
     "text": [
      "Loaded dictionary from cached file ./tmp/cached_biosyn-sapbert-ncbi-disease_test_dictionary.pk\n"
     ]
    },
    {
     "name": "stderr",
     "output_type": "stream",
     "text": [
      "\r",
      "373it [01:36,  3.84it/s]"
     ]
    },
    {
     "name": "stdout",
     "output_type": "stream",
     "text": [
      "Loaded dictionary from cached file ./tmp/cached_biosyn-sapbert-ncbi-disease_test_dictionary.pk\n"
     ]
    },
    {
     "name": "stderr",
     "output_type": "stream",
     "text": [
      "\r",
      "374it [01:36,  3.85it/s]"
     ]
    },
    {
     "name": "stdout",
     "output_type": "stream",
     "text": [
      "Loaded dictionary from cached file ./tmp/cached_biosyn-sapbert-ncbi-disease_test_dictionary.pk\n"
     ]
    },
    {
     "name": "stderr",
     "output_type": "stream",
     "text": [
      "\r",
      "375it [01:36,  3.86it/s]"
     ]
    },
    {
     "name": "stdout",
     "output_type": "stream",
     "text": [
      "Loaded dictionary from cached file ./tmp/cached_biosyn-sapbert-ncbi-disease_test_dictionary.pk\n"
     ]
    },
    {
     "name": "stderr",
     "output_type": "stream",
     "text": [
      "\r",
      "376it [01:37,  3.85it/s]"
     ]
    },
    {
     "name": "stdout",
     "output_type": "stream",
     "text": [
      "Loaded dictionary from cached file ./tmp/cached_biosyn-sapbert-ncbi-disease_test_dictionary.pk\n"
     ]
    },
    {
     "name": "stderr",
     "output_type": "stream",
     "text": [
      "\r",
      "377it [01:37,  3.85it/s]"
     ]
    },
    {
     "name": "stdout",
     "output_type": "stream",
     "text": [
      "Loaded dictionary from cached file ./tmp/cached_biosyn-sapbert-ncbi-disease_test_dictionary.pk\n"
     ]
    },
    {
     "name": "stderr",
     "output_type": "stream",
     "text": [
      "\r",
      "378it [01:37,  3.85it/s]"
     ]
    },
    {
     "name": "stdout",
     "output_type": "stream",
     "text": [
      "Loaded dictionary from cached file ./tmp/cached_biosyn-sapbert-ncbi-disease_test_dictionary.pk\n"
     ]
    },
    {
     "name": "stderr",
     "output_type": "stream",
     "text": [
      "\r",
      "379it [01:37,  3.82it/s]"
     ]
    },
    {
     "name": "stdout",
     "output_type": "stream",
     "text": [
      "Loaded dictionary from cached file ./tmp/cached_biosyn-sapbert-ncbi-disease_test_dictionary.pk\n"
     ]
    },
    {
     "name": "stderr",
     "output_type": "stream",
     "text": [
      "\r",
      "380it [01:38,  3.83it/s]"
     ]
    },
    {
     "name": "stdout",
     "output_type": "stream",
     "text": [
      "Loaded dictionary from cached file ./tmp/cached_biosyn-sapbert-ncbi-disease_test_dictionary.pk\n"
     ]
    },
    {
     "name": "stderr",
     "output_type": "stream",
     "text": [
      "\r",
      "381it [01:38,  3.81it/s]"
     ]
    },
    {
     "name": "stdout",
     "output_type": "stream",
     "text": [
      "Loaded dictionary from cached file ./tmp/cached_biosyn-sapbert-ncbi-disease_test_dictionary.pk\n"
     ]
    },
    {
     "name": "stderr",
     "output_type": "stream",
     "text": [
      "\r",
      "382it [01:38,  3.77it/s]"
     ]
    },
    {
     "name": "stdout",
     "output_type": "stream",
     "text": [
      "Loaded dictionary from cached file ./tmp/cached_biosyn-sapbert-ncbi-disease_test_dictionary.pk\n"
     ]
    },
    {
     "name": "stderr",
     "output_type": "stream",
     "text": [
      "\r",
      "383it [01:38,  3.76it/s]"
     ]
    },
    {
     "name": "stdout",
     "output_type": "stream",
     "text": [
      "Loaded dictionary from cached file ./tmp/cached_biosyn-sapbert-ncbi-disease_test_dictionary.pk\n"
     ]
    },
    {
     "name": "stderr",
     "output_type": "stream",
     "text": [
      "\r",
      "384it [01:39,  3.77it/s]"
     ]
    },
    {
     "name": "stdout",
     "output_type": "stream",
     "text": [
      "Loaded dictionary from cached file ./tmp/cached_biosyn-sapbert-ncbi-disease_test_dictionary.pk\n"
     ]
    },
    {
     "name": "stderr",
     "output_type": "stream",
     "text": [
      "\r",
      "385it [01:39,  3.73it/s]"
     ]
    },
    {
     "name": "stdout",
     "output_type": "stream",
     "text": [
      "Loaded dictionary from cached file ./tmp/cached_biosyn-sapbert-ncbi-disease_test_dictionary.pk\n"
     ]
    },
    {
     "name": "stderr",
     "output_type": "stream",
     "text": [
      "\r",
      "386it [01:39,  3.74it/s]"
     ]
    },
    {
     "name": "stdout",
     "output_type": "stream",
     "text": [
      "Loaded dictionary from cached file ./tmp/cached_biosyn-sapbert-ncbi-disease_test_dictionary.pk\n"
     ]
    },
    {
     "name": "stderr",
     "output_type": "stream",
     "text": [
      "\r",
      "387it [01:40,  3.73it/s]"
     ]
    },
    {
     "name": "stdout",
     "output_type": "stream",
     "text": [
      "Loaded dictionary from cached file ./tmp/cached_biosyn-sapbert-ncbi-disease_test_dictionary.pk\n"
     ]
    },
    {
     "name": "stderr",
     "output_type": "stream",
     "text": [
      "\r",
      "388it [01:40,  3.74it/s]"
     ]
    },
    {
     "name": "stdout",
     "output_type": "stream",
     "text": [
      "Loaded dictionary from cached file ./tmp/cached_biosyn-sapbert-ncbi-disease_test_dictionary.pk\n"
     ]
    },
    {
     "name": "stderr",
     "output_type": "stream",
     "text": [
      "\r",
      "389it [01:40,  3.78it/s]"
     ]
    },
    {
     "name": "stdout",
     "output_type": "stream",
     "text": [
      "Loaded dictionary from cached file ./tmp/cached_biosyn-sapbert-ncbi-disease_test_dictionary.pk\n"
     ]
    },
    {
     "name": "stderr",
     "output_type": "stream",
     "text": [
      "\r",
      "390it [01:40,  3.80it/s]"
     ]
    },
    {
     "name": "stdout",
     "output_type": "stream",
     "text": [
      "Loaded dictionary from cached file ./tmp/cached_biosyn-sapbert-ncbi-disease_test_dictionary.pk\n"
     ]
    },
    {
     "name": "stderr",
     "output_type": "stream",
     "text": [
      "\r",
      "391it [01:41,  3.82it/s]"
     ]
    },
    {
     "name": "stdout",
     "output_type": "stream",
     "text": [
      "Loaded dictionary from cached file ./tmp/cached_biosyn-sapbert-ncbi-disease_test_dictionary.pk\n"
     ]
    },
    {
     "name": "stderr",
     "output_type": "stream",
     "text": [
      "\r",
      "392it [01:41,  3.83it/s]"
     ]
    },
    {
     "name": "stdout",
     "output_type": "stream",
     "text": [
      "Loaded dictionary from cached file ./tmp/cached_biosyn-sapbert-ncbi-disease_test_dictionary.pk\n"
     ]
    },
    {
     "name": "stderr",
     "output_type": "stream",
     "text": [
      "\r",
      "393it [01:41,  3.83it/s]"
     ]
    },
    {
     "name": "stdout",
     "output_type": "stream",
     "text": [
      "Loaded dictionary from cached file ./tmp/cached_biosyn-sapbert-ncbi-disease_test_dictionary.pk\n"
     ]
    },
    {
     "name": "stderr",
     "output_type": "stream",
     "text": [
      "\r",
      "394it [01:41,  3.84it/s]"
     ]
    },
    {
     "name": "stdout",
     "output_type": "stream",
     "text": [
      "Loaded dictionary from cached file ./tmp/cached_biosyn-sapbert-ncbi-disease_test_dictionary.pk\n"
     ]
    },
    {
     "name": "stderr",
     "output_type": "stream",
     "text": [
      "\r",
      "395it [01:42,  3.84it/s]"
     ]
    },
    {
     "name": "stdout",
     "output_type": "stream",
     "text": [
      "Loaded dictionary from cached file ./tmp/cached_biosyn-sapbert-ncbi-disease_test_dictionary.pk\n"
     ]
    },
    {
     "name": "stderr",
     "output_type": "stream",
     "text": [
      "\r",
      "396it [01:42,  3.84it/s]"
     ]
    },
    {
     "name": "stdout",
     "output_type": "stream",
     "text": [
      "Loaded dictionary from cached file ./tmp/cached_biosyn-sapbert-ncbi-disease_test_dictionary.pk\n"
     ]
    },
    {
     "name": "stderr",
     "output_type": "stream",
     "text": [
      "\r",
      "397it [01:42,  3.84it/s]"
     ]
    },
    {
     "name": "stdout",
     "output_type": "stream",
     "text": [
      "Loaded dictionary from cached file ./tmp/cached_biosyn-sapbert-ncbi-disease_test_dictionary.pk\n"
     ]
    },
    {
     "name": "stderr",
     "output_type": "stream",
     "text": [
      "\r",
      "398it [01:42,  3.84it/s]"
     ]
    },
    {
     "name": "stdout",
     "output_type": "stream",
     "text": [
      "Loaded dictionary from cached file ./tmp/cached_biosyn-sapbert-ncbi-disease_test_dictionary.pk\n"
     ]
    },
    {
     "name": "stderr",
     "output_type": "stream",
     "text": [
      "\r",
      "399it [01:43,  3.81it/s]"
     ]
    },
    {
     "name": "stdout",
     "output_type": "stream",
     "text": [
      "Loaded dictionary from cached file ./tmp/cached_biosyn-sapbert-ncbi-disease_test_dictionary.pk\n"
     ]
    },
    {
     "name": "stderr",
     "output_type": "stream",
     "text": [
      "\r",
      "400it [01:43,  3.80it/s]"
     ]
    },
    {
     "name": "stdout",
     "output_type": "stream",
     "text": [
      "Loaded dictionary from cached file ./tmp/cached_biosyn-sapbert-ncbi-disease_test_dictionary.pk\n"
     ]
    },
    {
     "name": "stderr",
     "output_type": "stream",
     "text": [
      "\r",
      "401it [01:43,  3.78it/s]"
     ]
    },
    {
     "name": "stdout",
     "output_type": "stream",
     "text": [
      "Loaded dictionary from cached file ./tmp/cached_biosyn-sapbert-ncbi-disease_test_dictionary.pk\n"
     ]
    },
    {
     "name": "stderr",
     "output_type": "stream",
     "text": [
      "\r",
      "402it [01:43,  3.79it/s]"
     ]
    },
    {
     "name": "stdout",
     "output_type": "stream",
     "text": [
      "Loaded dictionary from cached file ./tmp/cached_biosyn-sapbert-ncbi-disease_test_dictionary.pk\n"
     ]
    },
    {
     "name": "stderr",
     "output_type": "stream",
     "text": [
      "\r",
      "403it [01:44,  3.79it/s]"
     ]
    },
    {
     "name": "stdout",
     "output_type": "stream",
     "text": [
      "Loaded dictionary from cached file ./tmp/cached_biosyn-sapbert-ncbi-disease_test_dictionary.pk\n"
     ]
    },
    {
     "name": "stderr",
     "output_type": "stream",
     "text": [
      "\r",
      "404it [01:44,  3.79it/s]"
     ]
    },
    {
     "name": "stdout",
     "output_type": "stream",
     "text": [
      "Loaded dictionary from cached file ./tmp/cached_biosyn-sapbert-ncbi-disease_test_dictionary.pk\n"
     ]
    },
    {
     "name": "stderr",
     "output_type": "stream",
     "text": [
      "\r",
      "405it [01:44,  3.80it/s]"
     ]
    },
    {
     "name": "stdout",
     "output_type": "stream",
     "text": [
      "Loaded dictionary from cached file ./tmp/cached_biosyn-sapbert-ncbi-disease_test_dictionary.pk\n"
     ]
    },
    {
     "name": "stderr",
     "output_type": "stream",
     "text": [
      "\r",
      "406it [01:45,  3.80it/s]"
     ]
    },
    {
     "name": "stdout",
     "output_type": "stream",
     "text": [
      "Loaded dictionary from cached file ./tmp/cached_biosyn-sapbert-ncbi-disease_test_dictionary.pk\n"
     ]
    },
    {
     "name": "stderr",
     "output_type": "stream",
     "text": [
      "\r",
      "407it [01:45,  3.77it/s]"
     ]
    },
    {
     "name": "stdout",
     "output_type": "stream",
     "text": [
      "Loaded dictionary from cached file ./tmp/cached_biosyn-sapbert-ncbi-disease_test_dictionary.pk\n"
     ]
    },
    {
     "name": "stderr",
     "output_type": "stream",
     "text": [
      "\r",
      "408it [01:45,  3.75it/s]"
     ]
    },
    {
     "name": "stdout",
     "output_type": "stream",
     "text": [
      "Loaded dictionary from cached file ./tmp/cached_biosyn-sapbert-ncbi-disease_test_dictionary.pk\n"
     ]
    },
    {
     "name": "stderr",
     "output_type": "stream",
     "text": [
      "\r",
      "409it [01:45,  3.77it/s]"
     ]
    },
    {
     "name": "stdout",
     "output_type": "stream",
     "text": [
      "Loaded dictionary from cached file ./tmp/cached_biosyn-sapbert-ncbi-disease_test_dictionary.pk\n"
     ]
    },
    {
     "name": "stderr",
     "output_type": "stream",
     "text": [
      "\r",
      "410it [01:46,  3.73it/s]"
     ]
    },
    {
     "name": "stdout",
     "output_type": "stream",
     "text": [
      "Loaded dictionary from cached file ./tmp/cached_biosyn-sapbert-ncbi-disease_test_dictionary.pk\n"
     ]
    },
    {
     "name": "stderr",
     "output_type": "stream",
     "text": [
      "\r",
      "411it [01:46,  3.73it/s]"
     ]
    },
    {
     "name": "stdout",
     "output_type": "stream",
     "text": [
      "Loaded dictionary from cached file ./tmp/cached_biosyn-sapbert-ncbi-disease_test_dictionary.pk\n"
     ]
    },
    {
     "name": "stderr",
     "output_type": "stream",
     "text": [
      "\r",
      "412it [01:46,  3.72it/s]"
     ]
    },
    {
     "name": "stdout",
     "output_type": "stream",
     "text": [
      "Loaded dictionary from cached file ./tmp/cached_biosyn-sapbert-ncbi-disease_test_dictionary.pk\n"
     ]
    },
    {
     "name": "stderr",
     "output_type": "stream",
     "text": [
      "\r",
      "413it [01:46,  3.65it/s]"
     ]
    },
    {
     "name": "stdout",
     "output_type": "stream",
     "text": [
      "Loaded dictionary from cached file ./tmp/cached_biosyn-sapbert-ncbi-disease_test_dictionary.pk\n"
     ]
    },
    {
     "name": "stderr",
     "output_type": "stream",
     "text": [
      "\r",
      "414it [01:47,  3.68it/s]"
     ]
    },
    {
     "name": "stdout",
     "output_type": "stream",
     "text": [
      "Loaded dictionary from cached file ./tmp/cached_biosyn-sapbert-ncbi-disease_test_dictionary.pk\n"
     ]
    },
    {
     "name": "stderr",
     "output_type": "stream",
     "text": [
      "\r",
      "415it [01:47,  3.58it/s]"
     ]
    },
    {
     "name": "stdout",
     "output_type": "stream",
     "text": [
      "Loaded dictionary from cached file ./tmp/cached_biosyn-sapbert-ncbi-disease_test_dictionary.pk\n"
     ]
    },
    {
     "name": "stderr",
     "output_type": "stream",
     "text": [
      "\r",
      "416it [01:47,  3.56it/s]"
     ]
    },
    {
     "name": "stdout",
     "output_type": "stream",
     "text": [
      "Loaded dictionary from cached file ./tmp/cached_biosyn-sapbert-ncbi-disease_test_dictionary.pk\n"
     ]
    },
    {
     "name": "stderr",
     "output_type": "stream",
     "text": [
      "\r",
      "417it [01:48,  3.65it/s]"
     ]
    },
    {
     "name": "stdout",
     "output_type": "stream",
     "text": [
      "Loaded dictionary from cached file ./tmp/cached_biosyn-sapbert-ncbi-disease_test_dictionary.pk\n"
     ]
    },
    {
     "name": "stderr",
     "output_type": "stream",
     "text": [
      "\r",
      "418it [01:48,  3.69it/s]"
     ]
    },
    {
     "name": "stdout",
     "output_type": "stream",
     "text": [
      "Loaded dictionary from cached file ./tmp/cached_biosyn-sapbert-ncbi-disease_test_dictionary.pk\n"
     ]
    },
    {
     "name": "stderr",
     "output_type": "stream",
     "text": [
      "\r",
      "419it [01:48,  3.73it/s]"
     ]
    },
    {
     "name": "stdout",
     "output_type": "stream",
     "text": [
      "Loaded dictionary from cached file ./tmp/cached_biosyn-sapbert-ncbi-disease_test_dictionary.pk\n"
     ]
    },
    {
     "name": "stderr",
     "output_type": "stream",
     "text": [
      "\r",
      "420it [01:48,  3.75it/s]"
     ]
    },
    {
     "name": "stdout",
     "output_type": "stream",
     "text": [
      "Loaded dictionary from cached file ./tmp/cached_biosyn-sapbert-ncbi-disease_test_dictionary.pk\n"
     ]
    },
    {
     "name": "stderr",
     "output_type": "stream",
     "text": [
      "\r",
      "421it [01:49,  3.75it/s]"
     ]
    },
    {
     "name": "stdout",
     "output_type": "stream",
     "text": [
      "Loaded dictionary from cached file ./tmp/cached_biosyn-sapbert-ncbi-disease_test_dictionary.pk\n"
     ]
    },
    {
     "name": "stderr",
     "output_type": "stream",
     "text": [
      "\r",
      "422it [01:49,  3.73it/s]"
     ]
    },
    {
     "name": "stdout",
     "output_type": "stream",
     "text": [
      "Loaded dictionary from cached file ./tmp/cached_biosyn-sapbert-ncbi-disease_test_dictionary.pk\n"
     ]
    },
    {
     "name": "stderr",
     "output_type": "stream",
     "text": [
      "\r",
      "423it [01:49,  3.75it/s]"
     ]
    },
    {
     "name": "stdout",
     "output_type": "stream",
     "text": [
      "Loaded dictionary from cached file ./tmp/cached_biosyn-sapbert-ncbi-disease_test_dictionary.pk\n"
     ]
    },
    {
     "name": "stderr",
     "output_type": "stream",
     "text": [
      "\r",
      "424it [01:49,  3.75it/s]"
     ]
    },
    {
     "name": "stdout",
     "output_type": "stream",
     "text": [
      "Loaded dictionary from cached file ./tmp/cached_biosyn-sapbert-ncbi-disease_test_dictionary.pk\n"
     ]
    },
    {
     "name": "stderr",
     "output_type": "stream",
     "text": [
      "\r",
      "425it [01:50,  3.70it/s]"
     ]
    },
    {
     "name": "stdout",
     "output_type": "stream",
     "text": [
      "Loaded dictionary from cached file ./tmp/cached_biosyn-sapbert-ncbi-disease_test_dictionary.pk\n"
     ]
    },
    {
     "name": "stderr",
     "output_type": "stream",
     "text": [
      "\r",
      "426it [01:50,  3.63it/s]"
     ]
    },
    {
     "name": "stdout",
     "output_type": "stream",
     "text": [
      "Loaded dictionary from cached file ./tmp/cached_biosyn-sapbert-ncbi-disease_test_dictionary.pk\n"
     ]
    },
    {
     "name": "stderr",
     "output_type": "stream",
     "text": [
      "\r",
      "427it [01:50,  3.60it/s]"
     ]
    },
    {
     "name": "stdout",
     "output_type": "stream",
     "text": [
      "Loaded dictionary from cached file ./tmp/cached_biosyn-sapbert-ncbi-disease_test_dictionary.pk\n"
     ]
    },
    {
     "name": "stderr",
     "output_type": "stream",
     "text": [
      "\r",
      "428it [01:50,  3.61it/s]"
     ]
    },
    {
     "name": "stdout",
     "output_type": "stream",
     "text": [
      "Loaded dictionary from cached file ./tmp/cached_biosyn-sapbert-ncbi-disease_test_dictionary.pk\n"
     ]
    },
    {
     "name": "stderr",
     "output_type": "stream",
     "text": [
      "\r",
      "429it [01:51,  3.68it/s]"
     ]
    },
    {
     "name": "stdout",
     "output_type": "stream",
     "text": [
      "Loaded dictionary from cached file ./tmp/cached_biosyn-sapbert-ncbi-disease_test_dictionary.pk\n"
     ]
    },
    {
     "name": "stderr",
     "output_type": "stream",
     "text": [
      "\r",
      "430it [01:51,  3.70it/s]"
     ]
    },
    {
     "name": "stdout",
     "output_type": "stream",
     "text": [
      "Loaded dictionary from cached file ./tmp/cached_biosyn-sapbert-ncbi-disease_test_dictionary.pk\n"
     ]
    },
    {
     "name": "stderr",
     "output_type": "stream",
     "text": [
      "\r",
      "431it [01:51,  3.74it/s]"
     ]
    },
    {
     "name": "stdout",
     "output_type": "stream",
     "text": [
      "Loaded dictionary from cached file ./tmp/cached_biosyn-sapbert-ncbi-disease_test_dictionary.pk\n"
     ]
    },
    {
     "name": "stderr",
     "output_type": "stream",
     "text": [
      "\r",
      "432it [01:52,  3.78it/s]"
     ]
    },
    {
     "name": "stdout",
     "output_type": "stream",
     "text": [
      "Loaded dictionary from cached file ./tmp/cached_biosyn-sapbert-ncbi-disease_test_dictionary.pk\n"
     ]
    },
    {
     "name": "stderr",
     "output_type": "stream",
     "text": [
      "\r",
      "433it [01:52,  3.80it/s]"
     ]
    },
    {
     "name": "stdout",
     "output_type": "stream",
     "text": [
      "Loaded dictionary from cached file ./tmp/cached_biosyn-sapbert-ncbi-disease_test_dictionary.pk\n"
     ]
    },
    {
     "name": "stderr",
     "output_type": "stream",
     "text": [
      "\r",
      "434it [01:52,  3.81it/s]"
     ]
    },
    {
     "name": "stdout",
     "output_type": "stream",
     "text": [
      "Loaded dictionary from cached file ./tmp/cached_biosyn-sapbert-ncbi-disease_test_dictionary.pk\n"
     ]
    },
    {
     "name": "stderr",
     "output_type": "stream",
     "text": [
      "\r",
      "435it [01:52,  3.82it/s]"
     ]
    },
    {
     "name": "stdout",
     "output_type": "stream",
     "text": [
      "Loaded dictionary from cached file ./tmp/cached_biosyn-sapbert-ncbi-disease_test_dictionary.pk\n"
     ]
    },
    {
     "name": "stderr",
     "output_type": "stream",
     "text": [
      "\r",
      "436it [01:53,  3.83it/s]"
     ]
    },
    {
     "name": "stdout",
     "output_type": "stream",
     "text": [
      "Loaded dictionary from cached file ./tmp/cached_biosyn-sapbert-ncbi-disease_test_dictionary.pk\n"
     ]
    },
    {
     "name": "stderr",
     "output_type": "stream",
     "text": [
      "\r",
      "437it [01:53,  3.83it/s]"
     ]
    },
    {
     "name": "stdout",
     "output_type": "stream",
     "text": [
      "Loaded dictionary from cached file ./tmp/cached_biosyn-sapbert-ncbi-disease_test_dictionary.pk\n"
     ]
    },
    {
     "name": "stderr",
     "output_type": "stream",
     "text": [
      "\r",
      "438it [01:53,  3.83it/s]"
     ]
    },
    {
     "name": "stdout",
     "output_type": "stream",
     "text": [
      "Loaded dictionary from cached file ./tmp/cached_biosyn-sapbert-ncbi-disease_test_dictionary.pk\n"
     ]
    },
    {
     "name": "stderr",
     "output_type": "stream",
     "text": [
      "\r",
      "439it [01:53,  3.83it/s]"
     ]
    },
    {
     "name": "stdout",
     "output_type": "stream",
     "text": [
      "Loaded dictionary from cached file ./tmp/cached_biosyn-sapbert-ncbi-disease_test_dictionary.pk\n"
     ]
    },
    {
     "name": "stderr",
     "output_type": "stream",
     "text": [
      "\r",
      "440it [01:54,  3.82it/s]"
     ]
    },
    {
     "name": "stdout",
     "output_type": "stream",
     "text": [
      "Loaded dictionary from cached file ./tmp/cached_biosyn-sapbert-ncbi-disease_test_dictionary.pk\n"
     ]
    },
    {
     "name": "stderr",
     "output_type": "stream",
     "text": [
      "\r",
      "441it [01:54,  3.84it/s]"
     ]
    },
    {
     "name": "stdout",
     "output_type": "stream",
     "text": [
      "Loaded dictionary from cached file ./tmp/cached_biosyn-sapbert-ncbi-disease_test_dictionary.pk\n"
     ]
    },
    {
     "name": "stderr",
     "output_type": "stream",
     "text": [
      "\r",
      "442it [01:54,  3.83it/s]"
     ]
    },
    {
     "name": "stdout",
     "output_type": "stream",
     "text": [
      "Loaded dictionary from cached file ./tmp/cached_biosyn-sapbert-ncbi-disease_test_dictionary.pk\n"
     ]
    },
    {
     "name": "stderr",
     "output_type": "stream",
     "text": [
      "\r",
      "443it [01:54,  3.85it/s]"
     ]
    },
    {
     "name": "stdout",
     "output_type": "stream",
     "text": [
      "Loaded dictionary from cached file ./tmp/cached_biosyn-sapbert-ncbi-disease_test_dictionary.pk\n"
     ]
    },
    {
     "name": "stderr",
     "output_type": "stream",
     "text": [
      "\r",
      "444it [01:55,  3.85it/s]"
     ]
    },
    {
     "name": "stdout",
     "output_type": "stream",
     "text": [
      "Loaded dictionary from cached file ./tmp/cached_biosyn-sapbert-ncbi-disease_test_dictionary.pk\n"
     ]
    },
    {
     "name": "stderr",
     "output_type": "stream",
     "text": [
      "\r",
      "445it [01:55,  3.82it/s]"
     ]
    },
    {
     "name": "stdout",
     "output_type": "stream",
     "text": [
      "Loaded dictionary from cached file ./tmp/cached_biosyn-sapbert-ncbi-disease_test_dictionary.pk\n"
     ]
    },
    {
     "name": "stderr",
     "output_type": "stream",
     "text": [
      "\r",
      "446it [01:55,  3.82it/s]"
     ]
    },
    {
     "name": "stdout",
     "output_type": "stream",
     "text": [
      "Loaded dictionary from cached file ./tmp/cached_biosyn-sapbert-ncbi-disease_test_dictionary.pk\n"
     ]
    },
    {
     "name": "stderr",
     "output_type": "stream",
     "text": [
      "\r",
      "447it [01:55,  3.83it/s]"
     ]
    },
    {
     "name": "stdout",
     "output_type": "stream",
     "text": [
      "Loaded dictionary from cached file ./tmp/cached_biosyn-sapbert-ncbi-disease_test_dictionary.pk\n"
     ]
    },
    {
     "name": "stderr",
     "output_type": "stream",
     "text": [
      "\r",
      "448it [01:56,  3.82it/s]"
     ]
    },
    {
     "name": "stdout",
     "output_type": "stream",
     "text": [
      "Loaded dictionary from cached file ./tmp/cached_biosyn-sapbert-ncbi-disease_test_dictionary.pk\n"
     ]
    },
    {
     "name": "stderr",
     "output_type": "stream",
     "text": [
      "\r",
      "449it [01:56,  3.78it/s]"
     ]
    },
    {
     "name": "stdout",
     "output_type": "stream",
     "text": [
      "Loaded dictionary from cached file ./tmp/cached_biosyn-sapbert-ncbi-disease_test_dictionary.pk\n"
     ]
    },
    {
     "name": "stderr",
     "output_type": "stream",
     "text": [
      "\r",
      "450it [01:56,  3.81it/s]"
     ]
    },
    {
     "name": "stdout",
     "output_type": "stream",
     "text": [
      "Loaded dictionary from cached file ./tmp/cached_biosyn-sapbert-ncbi-disease_test_dictionary.pk\n"
     ]
    },
    {
     "name": "stderr",
     "output_type": "stream",
     "text": [
      "\r",
      "451it [01:57,  3.79it/s]"
     ]
    },
    {
     "name": "stdout",
     "output_type": "stream",
     "text": [
      "Loaded dictionary from cached file ./tmp/cached_biosyn-sapbert-ncbi-disease_test_dictionary.pk\n"
     ]
    },
    {
     "name": "stderr",
     "output_type": "stream",
     "text": [
      "\r",
      "452it [01:57,  3.79it/s]"
     ]
    },
    {
     "name": "stdout",
     "output_type": "stream",
     "text": [
      "Loaded dictionary from cached file ./tmp/cached_biosyn-sapbert-ncbi-disease_test_dictionary.pk\n"
     ]
    },
    {
     "name": "stderr",
     "output_type": "stream",
     "text": [
      "\r",
      "453it [01:57,  3.81it/s]"
     ]
    },
    {
     "name": "stdout",
     "output_type": "stream",
     "text": [
      "Loaded dictionary from cached file ./tmp/cached_biosyn-sapbert-ncbi-disease_test_dictionary.pk\n"
     ]
    },
    {
     "name": "stderr",
     "output_type": "stream",
     "text": [
      "\r",
      "454it [01:57,  3.84it/s]"
     ]
    },
    {
     "name": "stdout",
     "output_type": "stream",
     "text": [
      "Loaded dictionary from cached file ./tmp/cached_biosyn-sapbert-ncbi-disease_test_dictionary.pk\n"
     ]
    },
    {
     "name": "stderr",
     "output_type": "stream",
     "text": [
      "\r",
      "455it [01:58,  3.82it/s]"
     ]
    },
    {
     "name": "stdout",
     "output_type": "stream",
     "text": [
      "Loaded dictionary from cached file ./tmp/cached_biosyn-sapbert-ncbi-disease_test_dictionary.pk\n"
     ]
    },
    {
     "name": "stderr",
     "output_type": "stream",
     "text": [
      "\r",
      "456it [01:58,  3.82it/s]"
     ]
    },
    {
     "name": "stdout",
     "output_type": "stream",
     "text": [
      "Loaded dictionary from cached file ./tmp/cached_biosyn-sapbert-ncbi-disease_test_dictionary.pk\n"
     ]
    },
    {
     "name": "stderr",
     "output_type": "stream",
     "text": [
      "\r",
      "457it [01:58,  3.82it/s]"
     ]
    },
    {
     "name": "stdout",
     "output_type": "stream",
     "text": [
      "Loaded dictionary from cached file ./tmp/cached_biosyn-sapbert-ncbi-disease_test_dictionary.pk\n"
     ]
    },
    {
     "name": "stderr",
     "output_type": "stream",
     "text": [
      "\r",
      "458it [01:58,  3.83it/s]"
     ]
    },
    {
     "name": "stdout",
     "output_type": "stream",
     "text": [
      "Loaded dictionary from cached file ./tmp/cached_biosyn-sapbert-ncbi-disease_test_dictionary.pk\n"
     ]
    },
    {
     "name": "stderr",
     "output_type": "stream",
     "text": [
      "\r",
      "459it [01:59,  3.83it/s]"
     ]
    },
    {
     "name": "stdout",
     "output_type": "stream",
     "text": [
      "Loaded dictionary from cached file ./tmp/cached_biosyn-sapbert-ncbi-disease_test_dictionary.pk\n"
     ]
    },
    {
     "name": "stderr",
     "output_type": "stream",
     "text": [
      "\r",
      "460it [01:59,  3.85it/s]"
     ]
    },
    {
     "name": "stdout",
     "output_type": "stream",
     "text": [
      "Loaded dictionary from cached file ./tmp/cached_biosyn-sapbert-ncbi-disease_test_dictionary.pk\n"
     ]
    },
    {
     "name": "stderr",
     "output_type": "stream",
     "text": [
      "\r",
      "461it [01:59,  3.86it/s]"
     ]
    },
    {
     "name": "stdout",
     "output_type": "stream",
     "text": [
      "Loaded dictionary from cached file ./tmp/cached_biosyn-sapbert-ncbi-disease_test_dictionary.pk\n"
     ]
    },
    {
     "name": "stderr",
     "output_type": "stream",
     "text": [
      "\r",
      "462it [01:59,  3.88it/s]"
     ]
    },
    {
     "name": "stdout",
     "output_type": "stream",
     "text": [
      "Loaded dictionary from cached file ./tmp/cached_biosyn-sapbert-ncbi-disease_test_dictionary.pk\n"
     ]
    },
    {
     "name": "stderr",
     "output_type": "stream",
     "text": [
      "\r",
      "463it [02:00,  3.89it/s]"
     ]
    },
    {
     "name": "stdout",
     "output_type": "stream",
     "text": [
      "Loaded dictionary from cached file ./tmp/cached_biosyn-sapbert-ncbi-disease_test_dictionary.pk\n"
     ]
    },
    {
     "name": "stderr",
     "output_type": "stream",
     "text": [
      "\r",
      "464it [02:00,  3.90it/s]"
     ]
    },
    {
     "name": "stdout",
     "output_type": "stream",
     "text": [
      "Loaded dictionary from cached file ./tmp/cached_biosyn-sapbert-ncbi-disease_test_dictionary.pk\n"
     ]
    },
    {
     "name": "stderr",
     "output_type": "stream",
     "text": [
      "\r",
      "465it [02:00,  3.91it/s]"
     ]
    },
    {
     "name": "stdout",
     "output_type": "stream",
     "text": [
      "Loaded dictionary from cached file ./tmp/cached_biosyn-sapbert-ncbi-disease_test_dictionary.pk\n"
     ]
    },
    {
     "name": "stderr",
     "output_type": "stream",
     "text": [
      "\r",
      "466it [02:00,  3.91it/s]"
     ]
    },
    {
     "name": "stdout",
     "output_type": "stream",
     "text": [
      "Loaded dictionary from cached file ./tmp/cached_biosyn-sapbert-ncbi-disease_test_dictionary.pk\n"
     ]
    },
    {
     "name": "stderr",
     "output_type": "stream",
     "text": [
      "\r",
      "467it [02:01,  3.91it/s]"
     ]
    },
    {
     "name": "stdout",
     "output_type": "stream",
     "text": [
      "Loaded dictionary from cached file ./tmp/cached_biosyn-sapbert-ncbi-disease_test_dictionary.pk\n"
     ]
    },
    {
     "name": "stderr",
     "output_type": "stream",
     "text": [
      "\r",
      "468it [02:01,  3.90it/s]"
     ]
    },
    {
     "name": "stdout",
     "output_type": "stream",
     "text": [
      "Loaded dictionary from cached file ./tmp/cached_biosyn-sapbert-ncbi-disease_test_dictionary.pk\n"
     ]
    },
    {
     "name": "stderr",
     "output_type": "stream",
     "text": [
      "\r",
      "469it [02:01,  3.90it/s]"
     ]
    },
    {
     "name": "stdout",
     "output_type": "stream",
     "text": [
      "Loaded dictionary from cached file ./tmp/cached_biosyn-sapbert-ncbi-disease_test_dictionary.pk\n"
     ]
    },
    {
     "name": "stderr",
     "output_type": "stream",
     "text": [
      "\r",
      "470it [02:01,  3.91it/s]"
     ]
    },
    {
     "name": "stdout",
     "output_type": "stream",
     "text": [
      "Loaded dictionary from cached file ./tmp/cached_biosyn-sapbert-ncbi-disease_test_dictionary.pk\n"
     ]
    },
    {
     "name": "stderr",
     "output_type": "stream",
     "text": [
      "\r",
      "471it [02:02,  3.90it/s]"
     ]
    },
    {
     "name": "stdout",
     "output_type": "stream",
     "text": [
      "Loaded dictionary from cached file ./tmp/cached_biosyn-sapbert-ncbi-disease_test_dictionary.pk\n"
     ]
    },
    {
     "name": "stderr",
     "output_type": "stream",
     "text": [
      "\r",
      "472it [02:02,  3.90it/s]"
     ]
    },
    {
     "name": "stdout",
     "output_type": "stream",
     "text": [
      "Loaded dictionary from cached file ./tmp/cached_biosyn-sapbert-ncbi-disease_test_dictionary.pk\n"
     ]
    },
    {
     "name": "stderr",
     "output_type": "stream",
     "text": [
      "\r",
      "473it [02:02,  3.89it/s]"
     ]
    },
    {
     "name": "stdout",
     "output_type": "stream",
     "text": [
      "Loaded dictionary from cached file ./tmp/cached_biosyn-sapbert-ncbi-disease_test_dictionary.pk\n"
     ]
    },
    {
     "name": "stderr",
     "output_type": "stream",
     "text": [
      "\r",
      "474it [02:02,  3.87it/s]"
     ]
    },
    {
     "name": "stdout",
     "output_type": "stream",
     "text": [
      "Loaded dictionary from cached file ./tmp/cached_biosyn-sapbert-ncbi-disease_test_dictionary.pk\n"
     ]
    },
    {
     "name": "stderr",
     "output_type": "stream",
     "text": [
      "\r",
      "475it [02:03,  3.84it/s]"
     ]
    },
    {
     "name": "stdout",
     "output_type": "stream",
     "text": [
      "Loaded dictionary from cached file ./tmp/cached_biosyn-sapbert-ncbi-disease_test_dictionary.pk\n"
     ]
    },
    {
     "name": "stderr",
     "output_type": "stream",
     "text": [
      "\r",
      "476it [02:03,  3.85it/s]"
     ]
    },
    {
     "name": "stdout",
     "output_type": "stream",
     "text": [
      "Loaded dictionary from cached file ./tmp/cached_biosyn-sapbert-ncbi-disease_test_dictionary.pk\n"
     ]
    },
    {
     "name": "stderr",
     "output_type": "stream",
     "text": [
      "\r",
      "477it [02:03,  3.86it/s]"
     ]
    },
    {
     "name": "stdout",
     "output_type": "stream",
     "text": [
      "Loaded dictionary from cached file ./tmp/cached_biosyn-sapbert-ncbi-disease_test_dictionary.pk\n"
     ]
    },
    {
     "name": "stderr",
     "output_type": "stream",
     "text": [
      "\r",
      "478it [02:03,  3.84it/s]"
     ]
    },
    {
     "name": "stdout",
     "output_type": "stream",
     "text": [
      "Loaded dictionary from cached file ./tmp/cached_biosyn-sapbert-ncbi-disease_test_dictionary.pk\n"
     ]
    },
    {
     "name": "stderr",
     "output_type": "stream",
     "text": [
      "\r",
      "479it [02:04,  3.87it/s]"
     ]
    },
    {
     "name": "stdout",
     "output_type": "stream",
     "text": [
      "Loaded dictionary from cached file ./tmp/cached_biosyn-sapbert-ncbi-disease_test_dictionary.pk\n"
     ]
    },
    {
     "name": "stderr",
     "output_type": "stream",
     "text": [
      "\r",
      "480it [02:04,  3.88it/s]"
     ]
    },
    {
     "name": "stdout",
     "output_type": "stream",
     "text": [
      "Loaded dictionary from cached file ./tmp/cached_biosyn-sapbert-ncbi-disease_test_dictionary.pk\n"
     ]
    },
    {
     "name": "stderr",
     "output_type": "stream",
     "text": [
      "\r",
      "481it [02:04,  3.87it/s]"
     ]
    },
    {
     "name": "stdout",
     "output_type": "stream",
     "text": [
      "Loaded dictionary from cached file ./tmp/cached_biosyn-sapbert-ncbi-disease_test_dictionary.pk\n"
     ]
    },
    {
     "name": "stderr",
     "output_type": "stream",
     "text": [
      "\r",
      "482it [02:05,  3.88it/s]"
     ]
    },
    {
     "name": "stdout",
     "output_type": "stream",
     "text": [
      "Loaded dictionary from cached file ./tmp/cached_biosyn-sapbert-ncbi-disease_test_dictionary.pk\n"
     ]
    },
    {
     "name": "stderr",
     "output_type": "stream",
     "text": [
      "\r",
      "483it [02:05,  3.87it/s]"
     ]
    },
    {
     "name": "stdout",
     "output_type": "stream",
     "text": [
      "Loaded dictionary from cached file ./tmp/cached_biosyn-sapbert-ncbi-disease_test_dictionary.pk\n"
     ]
    },
    {
     "name": "stderr",
     "output_type": "stream",
     "text": [
      "\r",
      "484it [02:05,  3.88it/s]"
     ]
    },
    {
     "name": "stdout",
     "output_type": "stream",
     "text": [
      "Loaded dictionary from cached file ./tmp/cached_biosyn-sapbert-ncbi-disease_test_dictionary.pk\n"
     ]
    },
    {
     "name": "stderr",
     "output_type": "stream",
     "text": [
      "\r",
      "485it [02:05,  3.89it/s]"
     ]
    },
    {
     "name": "stdout",
     "output_type": "stream",
     "text": [
      "Loaded dictionary from cached file ./tmp/cached_biosyn-sapbert-ncbi-disease_test_dictionary.pk\n"
     ]
    },
    {
     "name": "stderr",
     "output_type": "stream",
     "text": [
      "\r",
      "486it [02:06,  3.90it/s]"
     ]
    },
    {
     "name": "stdout",
     "output_type": "stream",
     "text": [
      "Loaded dictionary from cached file ./tmp/cached_biosyn-sapbert-ncbi-disease_test_dictionary.pk\n"
     ]
    },
    {
     "name": "stderr",
     "output_type": "stream",
     "text": [
      "\r",
      "487it [02:06,  3.90it/s]"
     ]
    },
    {
     "name": "stdout",
     "output_type": "stream",
     "text": [
      "Loaded dictionary from cached file ./tmp/cached_biosyn-sapbert-ncbi-disease_test_dictionary.pk\n"
     ]
    },
    {
     "name": "stderr",
     "output_type": "stream",
     "text": [
      "\r",
      "488it [02:06,  3.90it/s]"
     ]
    },
    {
     "name": "stdout",
     "output_type": "stream",
     "text": [
      "Loaded dictionary from cached file ./tmp/cached_biosyn-sapbert-ncbi-disease_test_dictionary.pk\n"
     ]
    },
    {
     "name": "stderr",
     "output_type": "stream",
     "text": [
      "\r",
      "489it [02:06,  3.90it/s]"
     ]
    },
    {
     "name": "stdout",
     "output_type": "stream",
     "text": [
      "Loaded dictionary from cached file ./tmp/cached_biosyn-sapbert-ncbi-disease_test_dictionary.pk\n"
     ]
    },
    {
     "name": "stderr",
     "output_type": "stream",
     "text": [
      "\r",
      "490it [02:07,  3.90it/s]"
     ]
    },
    {
     "name": "stdout",
     "output_type": "stream",
     "text": [
      "Loaded dictionary from cached file ./tmp/cached_biosyn-sapbert-ncbi-disease_test_dictionary.pk\n"
     ]
    },
    {
     "name": "stderr",
     "output_type": "stream",
     "text": [
      "\r",
      "491it [02:07,  3.89it/s]"
     ]
    },
    {
     "name": "stdout",
     "output_type": "stream",
     "text": [
      "Loaded dictionary from cached file ./tmp/cached_biosyn-sapbert-ncbi-disease_test_dictionary.pk\n"
     ]
    },
    {
     "name": "stderr",
     "output_type": "stream",
     "text": [
      "\r",
      "492it [02:07,  3.86it/s]"
     ]
    },
    {
     "name": "stdout",
     "output_type": "stream",
     "text": [
      "Loaded dictionary from cached file ./tmp/cached_biosyn-sapbert-ncbi-disease_test_dictionary.pk\n"
     ]
    },
    {
     "name": "stderr",
     "output_type": "stream",
     "text": [
      "\r",
      "493it [02:07,  3.87it/s]"
     ]
    },
    {
     "name": "stdout",
     "output_type": "stream",
     "text": [
      "Loaded dictionary from cached file ./tmp/cached_biosyn-sapbert-ncbi-disease_test_dictionary.pk\n"
     ]
    },
    {
     "name": "stderr",
     "output_type": "stream",
     "text": [
      "\r",
      "494it [02:08,  3.88it/s]"
     ]
    },
    {
     "name": "stdout",
     "output_type": "stream",
     "text": [
      "Loaded dictionary from cached file ./tmp/cached_biosyn-sapbert-ncbi-disease_test_dictionary.pk\n"
     ]
    },
    {
     "name": "stderr",
     "output_type": "stream",
     "text": [
      "\r",
      "495it [02:08,  3.88it/s]"
     ]
    },
    {
     "name": "stdout",
     "output_type": "stream",
     "text": [
      "Loaded dictionary from cached file ./tmp/cached_biosyn-sapbert-ncbi-disease_test_dictionary.pk\n"
     ]
    },
    {
     "name": "stderr",
     "output_type": "stream",
     "text": [
      "\r",
      "496it [02:08,  3.87it/s]"
     ]
    },
    {
     "name": "stdout",
     "output_type": "stream",
     "text": [
      "Loaded dictionary from cached file ./tmp/cached_biosyn-sapbert-ncbi-disease_test_dictionary.pk\n"
     ]
    },
    {
     "name": "stderr",
     "output_type": "stream",
     "text": [
      "\r",
      "497it [02:08,  3.88it/s]"
     ]
    },
    {
     "name": "stdout",
     "output_type": "stream",
     "text": [
      "Loaded dictionary from cached file ./tmp/cached_biosyn-sapbert-ncbi-disease_test_dictionary.pk\n"
     ]
    },
    {
     "name": "stderr",
     "output_type": "stream",
     "text": [
      "\r",
      "498it [02:09,  3.86it/s]"
     ]
    },
    {
     "name": "stdout",
     "output_type": "stream",
     "text": [
      "Loaded dictionary from cached file ./tmp/cached_biosyn-sapbert-ncbi-disease_test_dictionary.pk\n"
     ]
    },
    {
     "name": "stderr",
     "output_type": "stream",
     "text": [
      "\r",
      "499it [02:09,  3.87it/s]"
     ]
    },
    {
     "name": "stdout",
     "output_type": "stream",
     "text": [
      "Loaded dictionary from cached file ./tmp/cached_biosyn-sapbert-ncbi-disease_test_dictionary.pk\n"
     ]
    },
    {
     "name": "stderr",
     "output_type": "stream",
     "text": [
      "\r",
      "500it [02:09,  3.87it/s]"
     ]
    },
    {
     "name": "stdout",
     "output_type": "stream",
     "text": [
      "Loaded dictionary from cached file ./tmp/cached_biosyn-sapbert-ncbi-disease_test_dictionary.pk\n"
     ]
    },
    {
     "name": "stderr",
     "output_type": "stream",
     "text": [
      "\r",
      "501it [02:09,  3.86it/s]"
     ]
    },
    {
     "name": "stdout",
     "output_type": "stream",
     "text": [
      "Loaded dictionary from cached file ./tmp/cached_biosyn-sapbert-ncbi-disease_test_dictionary.pk\n"
     ]
    },
    {
     "name": "stderr",
     "output_type": "stream",
     "text": [
      "\r",
      "502it [02:10,  3.87it/s]"
     ]
    },
    {
     "name": "stdout",
     "output_type": "stream",
     "text": [
      "Loaded dictionary from cached file ./tmp/cached_biosyn-sapbert-ncbi-disease_test_dictionary.pk\n"
     ]
    },
    {
     "name": "stderr",
     "output_type": "stream",
     "text": [
      "\r",
      "503it [02:10,  3.89it/s]"
     ]
    },
    {
     "name": "stdout",
     "output_type": "stream",
     "text": [
      "Loaded dictionary from cached file ./tmp/cached_biosyn-sapbert-ncbi-disease_test_dictionary.pk\n"
     ]
    },
    {
     "name": "stderr",
     "output_type": "stream",
     "text": [
      "\r",
      "504it [02:10,  3.88it/s]"
     ]
    },
    {
     "name": "stdout",
     "output_type": "stream",
     "text": [
      "Loaded dictionary from cached file ./tmp/cached_biosyn-sapbert-ncbi-disease_test_dictionary.pk\n"
     ]
    },
    {
     "name": "stderr",
     "output_type": "stream",
     "text": [
      "\r",
      "505it [02:10,  3.89it/s]"
     ]
    },
    {
     "name": "stdout",
     "output_type": "stream",
     "text": [
      "Loaded dictionary from cached file ./tmp/cached_biosyn-sapbert-ncbi-disease_test_dictionary.pk\n"
     ]
    },
    {
     "name": "stderr",
     "output_type": "stream",
     "text": [
      "\r",
      "506it [02:11,  3.88it/s]"
     ]
    },
    {
     "name": "stdout",
     "output_type": "stream",
     "text": [
      "Loaded dictionary from cached file ./tmp/cached_biosyn-sapbert-ncbi-disease_test_dictionary.pk\n"
     ]
    },
    {
     "name": "stderr",
     "output_type": "stream",
     "text": [
      "\r",
      "507it [02:11,  3.89it/s]"
     ]
    },
    {
     "name": "stdout",
     "output_type": "stream",
     "text": [
      "Loaded dictionary from cached file ./tmp/cached_biosyn-sapbert-ncbi-disease_test_dictionary.pk\n"
     ]
    },
    {
     "name": "stderr",
     "output_type": "stream",
     "text": [
      "\r",
      "508it [02:11,  3.89it/s]"
     ]
    },
    {
     "name": "stdout",
     "output_type": "stream",
     "text": [
      "Loaded dictionary from cached file ./tmp/cached_biosyn-sapbert-ncbi-disease_test_dictionary.pk\n"
     ]
    },
    {
     "name": "stderr",
     "output_type": "stream",
     "text": [
      "\r",
      "509it [02:11,  3.88it/s]"
     ]
    },
    {
     "name": "stdout",
     "output_type": "stream",
     "text": [
      "Loaded dictionary from cached file ./tmp/cached_biosyn-sapbert-ncbi-disease_test_dictionary.pk\n"
     ]
    },
    {
     "name": "stderr",
     "output_type": "stream",
     "text": [
      "\r",
      "510it [02:12,  3.86it/s]"
     ]
    },
    {
     "name": "stdout",
     "output_type": "stream",
     "text": [
      "Loaded dictionary from cached file ./tmp/cached_biosyn-sapbert-ncbi-disease_test_dictionary.pk\n"
     ]
    },
    {
     "name": "stderr",
     "output_type": "stream",
     "text": [
      "\r",
      "511it [02:12,  3.85it/s]"
     ]
    },
    {
     "name": "stdout",
     "output_type": "stream",
     "text": [
      "Loaded dictionary from cached file ./tmp/cached_biosyn-sapbert-ncbi-disease_test_dictionary.pk\n"
     ]
    },
    {
     "name": "stderr",
     "output_type": "stream",
     "text": [
      "\r",
      "512it [02:12,  3.84it/s]"
     ]
    },
    {
     "name": "stdout",
     "output_type": "stream",
     "text": [
      "Loaded dictionary from cached file ./tmp/cached_biosyn-sapbert-ncbi-disease_test_dictionary.pk\n"
     ]
    },
    {
     "name": "stderr",
     "output_type": "stream",
     "text": [
      "\r",
      "513it [02:13,  3.84it/s]"
     ]
    },
    {
     "name": "stdout",
     "output_type": "stream",
     "text": [
      "Loaded dictionary from cached file ./tmp/cached_biosyn-sapbert-ncbi-disease_test_dictionary.pk\n"
     ]
    },
    {
     "name": "stderr",
     "output_type": "stream",
     "text": [
      "\r",
      "514it [02:13,  3.85it/s]"
     ]
    },
    {
     "name": "stdout",
     "output_type": "stream",
     "text": [
      "Loaded dictionary from cached file ./tmp/cached_biosyn-sapbert-ncbi-disease_test_dictionary.pk\n"
     ]
    },
    {
     "name": "stderr",
     "output_type": "stream",
     "text": [
      "\r",
      "515it [02:13,  3.83it/s]"
     ]
    },
    {
     "name": "stdout",
     "output_type": "stream",
     "text": [
      "Loaded dictionary from cached file ./tmp/cached_biosyn-sapbert-ncbi-disease_test_dictionary.pk\n"
     ]
    },
    {
     "name": "stderr",
     "output_type": "stream",
     "text": [
      "\r",
      "516it [02:13,  3.79it/s]"
     ]
    },
    {
     "name": "stdout",
     "output_type": "stream",
     "text": [
      "Loaded dictionary from cached file ./tmp/cached_biosyn-sapbert-ncbi-disease_test_dictionary.pk\n"
     ]
    },
    {
     "name": "stderr",
     "output_type": "stream",
     "text": [
      "\r",
      "517it [02:14,  3.77it/s]"
     ]
    },
    {
     "name": "stdout",
     "output_type": "stream",
     "text": [
      "Loaded dictionary from cached file ./tmp/cached_biosyn-sapbert-ncbi-disease_test_dictionary.pk\n"
     ]
    },
    {
     "name": "stderr",
     "output_type": "stream",
     "text": [
      "\r",
      "518it [02:14,  3.77it/s]"
     ]
    },
    {
     "name": "stdout",
     "output_type": "stream",
     "text": [
      "Loaded dictionary from cached file ./tmp/cached_biosyn-sapbert-ncbi-disease_test_dictionary.pk\n"
     ]
    },
    {
     "name": "stderr",
     "output_type": "stream",
     "text": [
      "\r",
      "519it [02:14,  3.74it/s]"
     ]
    },
    {
     "name": "stdout",
     "output_type": "stream",
     "text": [
      "Loaded dictionary from cached file ./tmp/cached_biosyn-sapbert-ncbi-disease_test_dictionary.pk\n"
     ]
    },
    {
     "name": "stderr",
     "output_type": "stream",
     "text": [
      "\r",
      "520it [02:14,  3.77it/s]"
     ]
    },
    {
     "name": "stdout",
     "output_type": "stream",
     "text": [
      "Loaded dictionary from cached file ./tmp/cached_biosyn-sapbert-ncbi-disease_test_dictionary.pk\n"
     ]
    },
    {
     "name": "stderr",
     "output_type": "stream",
     "text": [
      "\r",
      "521it [02:15,  3.80it/s]"
     ]
    },
    {
     "name": "stdout",
     "output_type": "stream",
     "text": [
      "Loaded dictionary from cached file ./tmp/cached_biosyn-sapbert-ncbi-disease_test_dictionary.pk\n"
     ]
    },
    {
     "name": "stderr",
     "output_type": "stream",
     "text": [
      "\r",
      "522it [02:15,  3.83it/s]"
     ]
    },
    {
     "name": "stdout",
     "output_type": "stream",
     "text": [
      "Loaded dictionary from cached file ./tmp/cached_biosyn-sapbert-ncbi-disease_test_dictionary.pk\n"
     ]
    },
    {
     "name": "stderr",
     "output_type": "stream",
     "text": [
      "\r",
      "523it [02:15,  3.84it/s]"
     ]
    },
    {
     "name": "stdout",
     "output_type": "stream",
     "text": [
      "Loaded dictionary from cached file ./tmp/cached_biosyn-sapbert-ncbi-disease_test_dictionary.pk\n"
     ]
    },
    {
     "name": "stderr",
     "output_type": "stream",
     "text": [
      "\r",
      "524it [02:15,  3.85it/s]"
     ]
    },
    {
     "name": "stdout",
     "output_type": "stream",
     "text": [
      "Loaded dictionary from cached file ./tmp/cached_biosyn-sapbert-ncbi-disease_test_dictionary.pk\n"
     ]
    },
    {
     "name": "stderr",
     "output_type": "stream",
     "text": [
      "\r",
      "525it [02:16,  3.86it/s]"
     ]
    },
    {
     "name": "stdout",
     "output_type": "stream",
     "text": [
      "Loaded dictionary from cached file ./tmp/cached_biosyn-sapbert-ncbi-disease_test_dictionary.pk\n"
     ]
    },
    {
     "name": "stderr",
     "output_type": "stream",
     "text": [
      "\r",
      "526it [02:16,  3.88it/s]"
     ]
    },
    {
     "name": "stdout",
     "output_type": "stream",
     "text": [
      "Loaded dictionary from cached file ./tmp/cached_biosyn-sapbert-ncbi-disease_test_dictionary.pk\n"
     ]
    },
    {
     "name": "stderr",
     "output_type": "stream",
     "text": [
      "\r",
      "527it [02:16,  3.86it/s]"
     ]
    },
    {
     "name": "stdout",
     "output_type": "stream",
     "text": [
      "Loaded dictionary from cached file ./tmp/cached_biosyn-sapbert-ncbi-disease_test_dictionary.pk\n"
     ]
    },
    {
     "name": "stderr",
     "output_type": "stream",
     "text": [
      "\r",
      "528it [02:16,  3.87it/s]"
     ]
    },
    {
     "name": "stdout",
     "output_type": "stream",
     "text": [
      "Loaded dictionary from cached file ./tmp/cached_biosyn-sapbert-ncbi-disease_test_dictionary.pk\n"
     ]
    },
    {
     "name": "stderr",
     "output_type": "stream",
     "text": [
      "\r",
      "529it [02:17,  3.89it/s]"
     ]
    },
    {
     "name": "stdout",
     "output_type": "stream",
     "text": [
      "Loaded dictionary from cached file ./tmp/cached_biosyn-sapbert-ncbi-disease_test_dictionary.pk\n"
     ]
    },
    {
     "name": "stderr",
     "output_type": "stream",
     "text": [
      "\r",
      "530it [02:17,  3.88it/s]"
     ]
    },
    {
     "name": "stdout",
     "output_type": "stream",
     "text": [
      "Loaded dictionary from cached file ./tmp/cached_biosyn-sapbert-ncbi-disease_test_dictionary.pk\n"
     ]
    },
    {
     "name": "stderr",
     "output_type": "stream",
     "text": [
      "\r",
      "531it [02:17,  3.89it/s]"
     ]
    },
    {
     "name": "stdout",
     "output_type": "stream",
     "text": [
      "Loaded dictionary from cached file ./tmp/cached_biosyn-sapbert-ncbi-disease_test_dictionary.pk\n"
     ]
    },
    {
     "name": "stderr",
     "output_type": "stream",
     "text": [
      "\r",
      "532it [02:17,  3.89it/s]"
     ]
    },
    {
     "name": "stdout",
     "output_type": "stream",
     "text": [
      "Loaded dictionary from cached file ./tmp/cached_biosyn-sapbert-ncbi-disease_test_dictionary.pk\n"
     ]
    },
    {
     "name": "stderr",
     "output_type": "stream",
     "text": [
      "\r",
      "533it [02:18,  3.88it/s]"
     ]
    },
    {
     "name": "stdout",
     "output_type": "stream",
     "text": [
      "Loaded dictionary from cached file ./tmp/cached_biosyn-sapbert-ncbi-disease_test_dictionary.pk\n"
     ]
    },
    {
     "name": "stderr",
     "output_type": "stream",
     "text": [
      "\r",
      "534it [02:18,  3.89it/s]"
     ]
    },
    {
     "name": "stdout",
     "output_type": "stream",
     "text": [
      "Loaded dictionary from cached file ./tmp/cached_biosyn-sapbert-ncbi-disease_test_dictionary.pk\n"
     ]
    },
    {
     "name": "stderr",
     "output_type": "stream",
     "text": [
      "\r",
      "535it [02:18,  3.84it/s]"
     ]
    },
    {
     "name": "stdout",
     "output_type": "stream",
     "text": [
      "Loaded dictionary from cached file ./tmp/cached_biosyn-sapbert-ncbi-disease_test_dictionary.pk\n"
     ]
    },
    {
     "name": "stderr",
     "output_type": "stream",
     "text": [
      "\r",
      "536it [02:18,  3.86it/s]"
     ]
    },
    {
     "name": "stdout",
     "output_type": "stream",
     "text": [
      "Loaded dictionary from cached file ./tmp/cached_biosyn-sapbert-ncbi-disease_test_dictionary.pk\n"
     ]
    },
    {
     "name": "stderr",
     "output_type": "stream",
     "text": [
      "\r",
      "537it [02:19,  3.87it/s]"
     ]
    },
    {
     "name": "stdout",
     "output_type": "stream",
     "text": [
      "Loaded dictionary from cached file ./tmp/cached_biosyn-sapbert-ncbi-disease_test_dictionary.pk\n"
     ]
    },
    {
     "name": "stderr",
     "output_type": "stream",
     "text": [
      "\r",
      "538it [02:19,  3.88it/s]"
     ]
    },
    {
     "name": "stdout",
     "output_type": "stream",
     "text": [
      "Loaded dictionary from cached file ./tmp/cached_biosyn-sapbert-ncbi-disease_test_dictionary.pk\n"
     ]
    },
    {
     "name": "stderr",
     "output_type": "stream",
     "text": [
      "\r",
      "539it [02:19,  3.88it/s]"
     ]
    },
    {
     "name": "stdout",
     "output_type": "stream",
     "text": [
      "Loaded dictionary from cached file ./tmp/cached_biosyn-sapbert-ncbi-disease_test_dictionary.pk\n"
     ]
    },
    {
     "name": "stderr",
     "output_type": "stream",
     "text": [
      "\r",
      "540it [02:20,  3.87it/s]"
     ]
    },
    {
     "name": "stdout",
     "output_type": "stream",
     "text": [
      "Loaded dictionary from cached file ./tmp/cached_biosyn-sapbert-ncbi-disease_test_dictionary.pk\n"
     ]
    },
    {
     "name": "stderr",
     "output_type": "stream",
     "text": [
      "\r",
      "541it [02:20,  3.88it/s]"
     ]
    },
    {
     "name": "stdout",
     "output_type": "stream",
     "text": [
      "Loaded dictionary from cached file ./tmp/cached_biosyn-sapbert-ncbi-disease_test_dictionary.pk\n"
     ]
    },
    {
     "name": "stderr",
     "output_type": "stream",
     "text": [
      "\r",
      "542it [02:20,  3.88it/s]"
     ]
    },
    {
     "name": "stdout",
     "output_type": "stream",
     "text": [
      "Loaded dictionary from cached file ./tmp/cached_biosyn-sapbert-ncbi-disease_test_dictionary.pk\n"
     ]
    },
    {
     "name": "stderr",
     "output_type": "stream",
     "text": [
      "\r",
      "543it [02:20,  3.84it/s]"
     ]
    },
    {
     "name": "stdout",
     "output_type": "stream",
     "text": [
      "Loaded dictionary from cached file ./tmp/cached_biosyn-sapbert-ncbi-disease_test_dictionary.pk\n"
     ]
    },
    {
     "name": "stderr",
     "output_type": "stream",
     "text": [
      "\r",
      "544it [02:21,  3.86it/s]"
     ]
    },
    {
     "name": "stdout",
     "output_type": "stream",
     "text": [
      "Loaded dictionary from cached file ./tmp/cached_biosyn-sapbert-ncbi-disease_test_dictionary.pk\n"
     ]
    },
    {
     "name": "stderr",
     "output_type": "stream",
     "text": [
      "\r",
      "545it [02:21,  3.83it/s]"
     ]
    },
    {
     "name": "stdout",
     "output_type": "stream",
     "text": [
      "Loaded dictionary from cached file ./tmp/cached_biosyn-sapbert-ncbi-disease_test_dictionary.pk\n"
     ]
    },
    {
     "name": "stderr",
     "output_type": "stream",
     "text": [
      "\r",
      "546it [02:21,  3.85it/s]"
     ]
    },
    {
     "name": "stdout",
     "output_type": "stream",
     "text": [
      "Loaded dictionary from cached file ./tmp/cached_biosyn-sapbert-ncbi-disease_test_dictionary.pk\n"
     ]
    },
    {
     "name": "stderr",
     "output_type": "stream",
     "text": [
      "\r",
      "547it [02:21,  3.84it/s]"
     ]
    },
    {
     "name": "stdout",
     "output_type": "stream",
     "text": [
      "Loaded dictionary from cached file ./tmp/cached_biosyn-sapbert-ncbi-disease_test_dictionary.pk\n"
     ]
    },
    {
     "name": "stderr",
     "output_type": "stream",
     "text": [
      "\r",
      "548it [02:22,  3.86it/s]"
     ]
    },
    {
     "name": "stdout",
     "output_type": "stream",
     "text": [
      "Loaded dictionary from cached file ./tmp/cached_biosyn-sapbert-ncbi-disease_test_dictionary.pk\n"
     ]
    },
    {
     "name": "stderr",
     "output_type": "stream",
     "text": [
      "\r",
      "549it [02:22,  3.88it/s]"
     ]
    },
    {
     "name": "stdout",
     "output_type": "stream",
     "text": [
      "Loaded dictionary from cached file ./tmp/cached_biosyn-sapbert-ncbi-disease_test_dictionary.pk\n"
     ]
    },
    {
     "name": "stderr",
     "output_type": "stream",
     "text": [
      "\r",
      "550it [02:22,  3.88it/s]"
     ]
    },
    {
     "name": "stdout",
     "output_type": "stream",
     "text": [
      "Loaded dictionary from cached file ./tmp/cached_biosyn-sapbert-ncbi-disease_test_dictionary.pk\n"
     ]
    },
    {
     "name": "stderr",
     "output_type": "stream",
     "text": [
      "\r",
      "551it [02:22,  3.88it/s]"
     ]
    },
    {
     "name": "stdout",
     "output_type": "stream",
     "text": [
      "Loaded dictionary from cached file ./tmp/cached_biosyn-sapbert-ncbi-disease_test_dictionary.pk\n"
     ]
    },
    {
     "name": "stderr",
     "output_type": "stream",
     "text": [
      "\r",
      "552it [02:23,  3.87it/s]"
     ]
    },
    {
     "name": "stdout",
     "output_type": "stream",
     "text": [
      "Loaded dictionary from cached file ./tmp/cached_biosyn-sapbert-ncbi-disease_test_dictionary.pk\n"
     ]
    },
    {
     "name": "stderr",
     "output_type": "stream",
     "text": [
      "\r",
      "553it [02:23,  3.85it/s]"
     ]
    },
    {
     "name": "stdout",
     "output_type": "stream",
     "text": [
      "Loaded dictionary from cached file ./tmp/cached_biosyn-sapbert-ncbi-disease_test_dictionary.pk\n"
     ]
    },
    {
     "name": "stderr",
     "output_type": "stream",
     "text": [
      "\r",
      "554it [02:23,  3.85it/s]"
     ]
    },
    {
     "name": "stdout",
     "output_type": "stream",
     "text": [
      "Loaded dictionary from cached file ./tmp/cached_biosyn-sapbert-ncbi-disease_test_dictionary.pk\n"
     ]
    },
    {
     "name": "stderr",
     "output_type": "stream",
     "text": [
      "\r",
      "555it [02:23,  3.80it/s]"
     ]
    },
    {
     "name": "stdout",
     "output_type": "stream",
     "text": [
      "Loaded dictionary from cached file ./tmp/cached_biosyn-sapbert-ncbi-disease_test_dictionary.pk\n"
     ]
    },
    {
     "name": "stderr",
     "output_type": "stream",
     "text": [
      "\r",
      "556it [02:24,  3.82it/s]"
     ]
    },
    {
     "name": "stdout",
     "output_type": "stream",
     "text": [
      "Loaded dictionary from cached file ./tmp/cached_biosyn-sapbert-ncbi-disease_test_dictionary.pk\n"
     ]
    },
    {
     "name": "stderr",
     "output_type": "stream",
     "text": [
      "\r",
      "557it [02:24,  3.81it/s]"
     ]
    },
    {
     "name": "stdout",
     "output_type": "stream",
     "text": [
      "Loaded dictionary from cached file ./tmp/cached_biosyn-sapbert-ncbi-disease_test_dictionary.pk\n"
     ]
    },
    {
     "name": "stderr",
     "output_type": "stream",
     "text": [
      "\r",
      "558it [02:24,  3.81it/s]"
     ]
    },
    {
     "name": "stdout",
     "output_type": "stream",
     "text": [
      "Loaded dictionary from cached file ./tmp/cached_biosyn-sapbert-ncbi-disease_test_dictionary.pk\n"
     ]
    },
    {
     "name": "stderr",
     "output_type": "stream",
     "text": [
      "\r",
      "559it [02:24,  3.83it/s]"
     ]
    },
    {
     "name": "stdout",
     "output_type": "stream",
     "text": [
      "Loaded dictionary from cached file ./tmp/cached_biosyn-sapbert-ncbi-disease_test_dictionary.pk\n"
     ]
    },
    {
     "name": "stderr",
     "output_type": "stream",
     "text": [
      "\r",
      "560it [02:25,  3.84it/s]"
     ]
    },
    {
     "name": "stdout",
     "output_type": "stream",
     "text": [
      "Loaded dictionary from cached file ./tmp/cached_biosyn-sapbert-ncbi-disease_test_dictionary.pk\n"
     ]
    },
    {
     "name": "stderr",
     "output_type": "stream",
     "text": [
      "\r",
      "561it [02:25,  3.86it/s]"
     ]
    },
    {
     "name": "stdout",
     "output_type": "stream",
     "text": [
      "Loaded dictionary from cached file ./tmp/cached_biosyn-sapbert-ncbi-disease_test_dictionary.pk\n"
     ]
    },
    {
     "name": "stderr",
     "output_type": "stream",
     "text": [
      "\r",
      "562it [02:25,  3.85it/s]"
     ]
    },
    {
     "name": "stdout",
     "output_type": "stream",
     "text": [
      "Loaded dictionary from cached file ./tmp/cached_biosyn-sapbert-ncbi-disease_test_dictionary.pk\n"
     ]
    },
    {
     "name": "stderr",
     "output_type": "stream",
     "text": [
      "\r",
      "563it [02:26,  3.87it/s]"
     ]
    },
    {
     "name": "stdout",
     "output_type": "stream",
     "text": [
      "Loaded dictionary from cached file ./tmp/cached_biosyn-sapbert-ncbi-disease_test_dictionary.pk\n"
     ]
    },
    {
     "name": "stderr",
     "output_type": "stream",
     "text": [
      "\r",
      "564it [02:26,  3.89it/s]"
     ]
    },
    {
     "name": "stdout",
     "output_type": "stream",
     "text": [
      "Loaded dictionary from cached file ./tmp/cached_biosyn-sapbert-ncbi-disease_test_dictionary.pk\n"
     ]
    },
    {
     "name": "stderr",
     "output_type": "stream",
     "text": [
      "\r",
      "565it [02:26,  3.85it/s]"
     ]
    },
    {
     "name": "stdout",
     "output_type": "stream",
     "text": [
      "Loaded dictionary from cached file ./tmp/cached_biosyn-sapbert-ncbi-disease_test_dictionary.pk\n"
     ]
    },
    {
     "name": "stderr",
     "output_type": "stream",
     "text": [
      "\r",
      "566it [02:26,  3.86it/s]"
     ]
    },
    {
     "name": "stdout",
     "output_type": "stream",
     "text": [
      "Loaded dictionary from cached file ./tmp/cached_biosyn-sapbert-ncbi-disease_test_dictionary.pk\n"
     ]
    },
    {
     "name": "stderr",
     "output_type": "stream",
     "text": [
      "\r",
      "567it [02:27,  3.87it/s]"
     ]
    },
    {
     "name": "stdout",
     "output_type": "stream",
     "text": [
      "Loaded dictionary from cached file ./tmp/cached_biosyn-sapbert-ncbi-disease_test_dictionary.pk\n"
     ]
    },
    {
     "name": "stderr",
     "output_type": "stream",
     "text": [
      "\r",
      "568it [02:27,  3.86it/s]"
     ]
    },
    {
     "name": "stdout",
     "output_type": "stream",
     "text": [
      "Loaded dictionary from cached file ./tmp/cached_biosyn-sapbert-ncbi-disease_test_dictionary.pk\n"
     ]
    },
    {
     "name": "stderr",
     "output_type": "stream",
     "text": [
      "\r",
      "569it [02:27,  3.86it/s]"
     ]
    },
    {
     "name": "stdout",
     "output_type": "stream",
     "text": [
      "Loaded dictionary from cached file ./tmp/cached_biosyn-sapbert-ncbi-disease_test_dictionary.pk\n"
     ]
    },
    {
     "name": "stderr",
     "output_type": "stream",
     "text": [
      "\r",
      "570it [02:27,  3.85it/s]"
     ]
    },
    {
     "name": "stdout",
     "output_type": "stream",
     "text": [
      "Loaded dictionary from cached file ./tmp/cached_biosyn-sapbert-ncbi-disease_test_dictionary.pk\n"
     ]
    },
    {
     "name": "stderr",
     "output_type": "stream",
     "text": [
      "\r",
      "571it [02:28,  3.81it/s]"
     ]
    },
    {
     "name": "stdout",
     "output_type": "stream",
     "text": [
      "Loaded dictionary from cached file ./tmp/cached_biosyn-sapbert-ncbi-disease_test_dictionary.pk\n"
     ]
    },
    {
     "name": "stderr",
     "output_type": "stream",
     "text": [
      "\r",
      "572it [02:28,  3.80it/s]"
     ]
    },
    {
     "name": "stdout",
     "output_type": "stream",
     "text": [
      "Loaded dictionary from cached file ./tmp/cached_biosyn-sapbert-ncbi-disease_test_dictionary.pk\n"
     ]
    },
    {
     "name": "stderr",
     "output_type": "stream",
     "text": [
      "\r",
      "573it [02:28,  3.80it/s]"
     ]
    },
    {
     "name": "stdout",
     "output_type": "stream",
     "text": [
      "Loaded dictionary from cached file ./tmp/cached_biosyn-sapbert-ncbi-disease_test_dictionary.pk\n"
     ]
    },
    {
     "name": "stderr",
     "output_type": "stream",
     "text": [
      "\r",
      "574it [02:28,  3.80it/s]"
     ]
    },
    {
     "name": "stdout",
     "output_type": "stream",
     "text": [
      "Loaded dictionary from cached file ./tmp/cached_biosyn-sapbert-ncbi-disease_test_dictionary.pk\n"
     ]
    },
    {
     "name": "stderr",
     "output_type": "stream",
     "text": [
      "\r",
      "575it [02:29,  3.82it/s]"
     ]
    },
    {
     "name": "stdout",
     "output_type": "stream",
     "text": [
      "Loaded dictionary from cached file ./tmp/cached_biosyn-sapbert-ncbi-disease_test_dictionary.pk\n"
     ]
    },
    {
     "name": "stderr",
     "output_type": "stream",
     "text": [
      "\r",
      "576it [02:29,  3.84it/s]"
     ]
    },
    {
     "name": "stdout",
     "output_type": "stream",
     "text": [
      "Loaded dictionary from cached file ./tmp/cached_biosyn-sapbert-ncbi-disease_test_dictionary.pk\n"
     ]
    },
    {
     "name": "stderr",
     "output_type": "stream",
     "text": [
      "\r",
      "577it [02:29,  3.85it/s]"
     ]
    },
    {
     "name": "stdout",
     "output_type": "stream",
     "text": [
      "Loaded dictionary from cached file ./tmp/cached_biosyn-sapbert-ncbi-disease_test_dictionary.pk\n"
     ]
    },
    {
     "name": "stderr",
     "output_type": "stream",
     "text": [
      "\r",
      "578it [02:29,  3.86it/s]"
     ]
    },
    {
     "name": "stdout",
     "output_type": "stream",
     "text": [
      "Loaded dictionary from cached file ./tmp/cached_biosyn-sapbert-ncbi-disease_test_dictionary.pk\n"
     ]
    },
    {
     "name": "stderr",
     "output_type": "stream",
     "text": [
      "\r",
      "579it [02:30,  3.85it/s]"
     ]
    },
    {
     "name": "stdout",
     "output_type": "stream",
     "text": [
      "Loaded dictionary from cached file ./tmp/cached_biosyn-sapbert-ncbi-disease_test_dictionary.pk\n"
     ]
    },
    {
     "name": "stderr",
     "output_type": "stream",
     "text": [
      "\r",
      "580it [02:30,  3.85it/s]"
     ]
    },
    {
     "name": "stdout",
     "output_type": "stream",
     "text": [
      "Loaded dictionary from cached file ./tmp/cached_biosyn-sapbert-ncbi-disease_test_dictionary.pk\n"
     ]
    },
    {
     "name": "stderr",
     "output_type": "stream",
     "text": [
      "\r",
      "581it [02:30,  3.85it/s]"
     ]
    },
    {
     "name": "stdout",
     "output_type": "stream",
     "text": [
      "Loaded dictionary from cached file ./tmp/cached_biosyn-sapbert-ncbi-disease_test_dictionary.pk\n"
     ]
    },
    {
     "name": "stderr",
     "output_type": "stream",
     "text": [
      "\r",
      "582it [02:30,  3.85it/s]"
     ]
    },
    {
     "name": "stdout",
     "output_type": "stream",
     "text": [
      "Loaded dictionary from cached file ./tmp/cached_biosyn-sapbert-ncbi-disease_test_dictionary.pk\n"
     ]
    },
    {
     "name": "stderr",
     "output_type": "stream",
     "text": [
      "\r",
      "583it [02:31,  3.83it/s]"
     ]
    },
    {
     "name": "stdout",
     "output_type": "stream",
     "text": [
      "Loaded dictionary from cached file ./tmp/cached_biosyn-sapbert-ncbi-disease_test_dictionary.pk\n"
     ]
    },
    {
     "name": "stderr",
     "output_type": "stream",
     "text": [
      "\r",
      "584it [02:31,  3.83it/s]"
     ]
    },
    {
     "name": "stdout",
     "output_type": "stream",
     "text": [
      "Loaded dictionary from cached file ./tmp/cached_biosyn-sapbert-ncbi-disease_test_dictionary.pk\n"
     ]
    },
    {
     "name": "stderr",
     "output_type": "stream",
     "text": [
      "\r",
      "585it [02:31,  3.83it/s]"
     ]
    },
    {
     "name": "stdout",
     "output_type": "stream",
     "text": [
      "Loaded dictionary from cached file ./tmp/cached_biosyn-sapbert-ncbi-disease_test_dictionary.pk\n"
     ]
    },
    {
     "name": "stderr",
     "output_type": "stream",
     "text": [
      "\r",
      "586it [02:32,  3.78it/s]"
     ]
    },
    {
     "name": "stdout",
     "output_type": "stream",
     "text": [
      "Loaded dictionary from cached file ./tmp/cached_biosyn-sapbert-ncbi-disease_test_dictionary.pk\n"
     ]
    },
    {
     "name": "stderr",
     "output_type": "stream",
     "text": [
      "\r",
      "587it [02:32,  3.75it/s]"
     ]
    },
    {
     "name": "stdout",
     "output_type": "stream",
     "text": [
      "Loaded dictionary from cached file ./tmp/cached_biosyn-sapbert-ncbi-disease_test_dictionary.pk\n"
     ]
    },
    {
     "name": "stderr",
     "output_type": "stream",
     "text": [
      "\r",
      "588it [02:32,  3.78it/s]"
     ]
    },
    {
     "name": "stdout",
     "output_type": "stream",
     "text": [
      "Loaded dictionary from cached file ./tmp/cached_biosyn-sapbert-ncbi-disease_test_dictionary.pk\n"
     ]
    },
    {
     "name": "stderr",
     "output_type": "stream",
     "text": [
      "\r",
      "589it [02:32,  3.82it/s]"
     ]
    },
    {
     "name": "stdout",
     "output_type": "stream",
     "text": [
      "Loaded dictionary from cached file ./tmp/cached_biosyn-sapbert-ncbi-disease_test_dictionary.pk\n"
     ]
    },
    {
     "name": "stderr",
     "output_type": "stream",
     "text": [
      "\r",
      "590it [02:33,  3.84it/s]"
     ]
    },
    {
     "name": "stdout",
     "output_type": "stream",
     "text": [
      "Loaded dictionary from cached file ./tmp/cached_biosyn-sapbert-ncbi-disease_test_dictionary.pk\n"
     ]
    },
    {
     "name": "stderr",
     "output_type": "stream",
     "text": [
      "\r",
      "591it [02:33,  3.87it/s]"
     ]
    },
    {
     "name": "stdout",
     "output_type": "stream",
     "text": [
      "Loaded dictionary from cached file ./tmp/cached_biosyn-sapbert-ncbi-disease_test_dictionary.pk\n"
     ]
    },
    {
     "name": "stderr",
     "output_type": "stream",
     "text": [
      "\r",
      "592it [02:33,  3.87it/s]"
     ]
    },
    {
     "name": "stdout",
     "output_type": "stream",
     "text": [
      "Loaded dictionary from cached file ./tmp/cached_biosyn-sapbert-ncbi-disease_test_dictionary.pk\n"
     ]
    },
    {
     "name": "stderr",
     "output_type": "stream",
     "text": [
      "\r",
      "593it [02:33,  3.86it/s]"
     ]
    },
    {
     "name": "stdout",
     "output_type": "stream",
     "text": [
      "Loaded dictionary from cached file ./tmp/cached_biosyn-sapbert-ncbi-disease_test_dictionary.pk\n"
     ]
    },
    {
     "name": "stderr",
     "output_type": "stream",
     "text": [
      "\r",
      "594it [02:34,  3.88it/s]"
     ]
    },
    {
     "name": "stdout",
     "output_type": "stream",
     "text": [
      "Loaded dictionary from cached file ./tmp/cached_biosyn-sapbert-ncbi-disease_test_dictionary.pk\n"
     ]
    },
    {
     "name": "stderr",
     "output_type": "stream",
     "text": [
      "\r",
      "595it [02:34,  3.89it/s]"
     ]
    },
    {
     "name": "stdout",
     "output_type": "stream",
     "text": [
      "Loaded dictionary from cached file ./tmp/cached_biosyn-sapbert-ncbi-disease_test_dictionary.pk\n"
     ]
    },
    {
     "name": "stderr",
     "output_type": "stream",
     "text": [
      "\r",
      "596it [02:34,  3.86it/s]"
     ]
    },
    {
     "name": "stdout",
     "output_type": "stream",
     "text": [
      "Loaded dictionary from cached file ./tmp/cached_biosyn-sapbert-ncbi-disease_test_dictionary.pk\n"
     ]
    },
    {
     "name": "stderr",
     "output_type": "stream",
     "text": [
      "\r",
      "597it [02:34,  3.87it/s]"
     ]
    },
    {
     "name": "stdout",
     "output_type": "stream",
     "text": [
      "Loaded dictionary from cached file ./tmp/cached_biosyn-sapbert-ncbi-disease_test_dictionary.pk\n"
     ]
    },
    {
     "name": "stderr",
     "output_type": "stream",
     "text": [
      "\r",
      "598it [02:35,  3.89it/s]"
     ]
    },
    {
     "name": "stdout",
     "output_type": "stream",
     "text": [
      "Loaded dictionary from cached file ./tmp/cached_biosyn-sapbert-ncbi-disease_test_dictionary.pk\n"
     ]
    },
    {
     "name": "stderr",
     "output_type": "stream",
     "text": [
      "\r",
      "599it [02:35,  3.89it/s]"
     ]
    },
    {
     "name": "stdout",
     "output_type": "stream",
     "text": [
      "Loaded dictionary from cached file ./tmp/cached_biosyn-sapbert-ncbi-disease_test_dictionary.pk\n"
     ]
    },
    {
     "name": "stderr",
     "output_type": "stream",
     "text": [
      "\r",
      "600it [02:35,  3.89it/s]"
     ]
    },
    {
     "name": "stdout",
     "output_type": "stream",
     "text": [
      "Loaded dictionary from cached file ./tmp/cached_biosyn-sapbert-ncbi-disease_test_dictionary.pk\n"
     ]
    },
    {
     "name": "stderr",
     "output_type": "stream",
     "text": [
      "\r",
      "601it [02:35,  3.86it/s]"
     ]
    },
    {
     "name": "stdout",
     "output_type": "stream",
     "text": [
      "Loaded dictionary from cached file ./tmp/cached_biosyn-sapbert-ncbi-disease_test_dictionary.pk\n"
     ]
    },
    {
     "name": "stderr",
     "output_type": "stream",
     "text": [
      "\r",
      "602it [02:36,  3.86it/s]"
     ]
    },
    {
     "name": "stdout",
     "output_type": "stream",
     "text": [
      "Loaded dictionary from cached file ./tmp/cached_biosyn-sapbert-ncbi-disease_test_dictionary.pk\n"
     ]
    },
    {
     "name": "stderr",
     "output_type": "stream",
     "text": [
      "\r",
      "603it [02:36,  3.86it/s]"
     ]
    },
    {
     "name": "stdout",
     "output_type": "stream",
     "text": [
      "Loaded dictionary from cached file ./tmp/cached_biosyn-sapbert-ncbi-disease_test_dictionary.pk\n"
     ]
    },
    {
     "name": "stderr",
     "output_type": "stream",
     "text": [
      "\r",
      "604it [02:36,  3.86it/s]"
     ]
    },
    {
     "name": "stdout",
     "output_type": "stream",
     "text": [
      "Loaded dictionary from cached file ./tmp/cached_biosyn-sapbert-ncbi-disease_test_dictionary.pk\n"
     ]
    },
    {
     "name": "stderr",
     "output_type": "stream",
     "text": [
      "\r",
      "605it [02:36,  3.86it/s]"
     ]
    },
    {
     "name": "stdout",
     "output_type": "stream",
     "text": [
      "Loaded dictionary from cached file ./tmp/cached_biosyn-sapbert-ncbi-disease_test_dictionary.pk\n"
     ]
    },
    {
     "name": "stderr",
     "output_type": "stream",
     "text": [
      "\r",
      "606it [02:37,  3.81it/s]"
     ]
    },
    {
     "name": "stdout",
     "output_type": "stream",
     "text": [
      "Loaded dictionary from cached file ./tmp/cached_biosyn-sapbert-ncbi-disease_test_dictionary.pk\n"
     ]
    },
    {
     "name": "stderr",
     "output_type": "stream",
     "text": [
      "\r",
      "607it [02:37,  3.83it/s]"
     ]
    },
    {
     "name": "stdout",
     "output_type": "stream",
     "text": [
      "Loaded dictionary from cached file ./tmp/cached_biosyn-sapbert-ncbi-disease_test_dictionary.pk\n"
     ]
    },
    {
     "name": "stderr",
     "output_type": "stream",
     "text": [
      "\r",
      "608it [02:37,  3.85it/s]"
     ]
    },
    {
     "name": "stdout",
     "output_type": "stream",
     "text": [
      "Loaded dictionary from cached file ./tmp/cached_biosyn-sapbert-ncbi-disease_test_dictionary.pk\n"
     ]
    },
    {
     "name": "stderr",
     "output_type": "stream",
     "text": [
      "\r",
      "609it [02:37,  3.86it/s]"
     ]
    },
    {
     "name": "stdout",
     "output_type": "stream",
     "text": [
      "Loaded dictionary from cached file ./tmp/cached_biosyn-sapbert-ncbi-disease_test_dictionary.pk\n"
     ]
    },
    {
     "name": "stderr",
     "output_type": "stream",
     "text": [
      "\r",
      "610it [02:38,  3.87it/s]"
     ]
    },
    {
     "name": "stdout",
     "output_type": "stream",
     "text": [
      "Loaded dictionary from cached file ./tmp/cached_biosyn-sapbert-ncbi-disease_test_dictionary.pk\n"
     ]
    },
    {
     "name": "stderr",
     "output_type": "stream",
     "text": [
      "\r",
      "611it [02:38,  3.88it/s]"
     ]
    },
    {
     "name": "stdout",
     "output_type": "stream",
     "text": [
      "Loaded dictionary from cached file ./tmp/cached_biosyn-sapbert-ncbi-disease_test_dictionary.pk\n"
     ]
    },
    {
     "name": "stderr",
     "output_type": "stream",
     "text": [
      "\r",
      "612it [02:38,  3.88it/s]"
     ]
    },
    {
     "name": "stdout",
     "output_type": "stream",
     "text": [
      "Loaded dictionary from cached file ./tmp/cached_biosyn-sapbert-ncbi-disease_test_dictionary.pk\n"
     ]
    },
    {
     "name": "stderr",
     "output_type": "stream",
     "text": [
      "\r",
      "613it [02:38,  3.88it/s]"
     ]
    },
    {
     "name": "stdout",
     "output_type": "stream",
     "text": [
      "Loaded dictionary from cached file ./tmp/cached_biosyn-sapbert-ncbi-disease_test_dictionary.pk\n"
     ]
    },
    {
     "name": "stderr",
     "output_type": "stream",
     "text": [
      "\r",
      "614it [02:39,  3.89it/s]"
     ]
    },
    {
     "name": "stdout",
     "output_type": "stream",
     "text": [
      "Loaded dictionary from cached file ./tmp/cached_biosyn-sapbert-ncbi-disease_test_dictionary.pk\n"
     ]
    },
    {
     "name": "stderr",
     "output_type": "stream",
     "text": [
      "\r",
      "615it [02:39,  3.89it/s]"
     ]
    },
    {
     "name": "stdout",
     "output_type": "stream",
     "text": [
      "Loaded dictionary from cached file ./tmp/cached_biosyn-sapbert-ncbi-disease_test_dictionary.pk\n"
     ]
    },
    {
     "name": "stderr",
     "output_type": "stream",
     "text": [
      "\r",
      "616it [02:39,  3.87it/s]"
     ]
    },
    {
     "name": "stdout",
     "output_type": "stream",
     "text": [
      "Loaded dictionary from cached file ./tmp/cached_biosyn-sapbert-ncbi-disease_test_dictionary.pk\n"
     ]
    },
    {
     "name": "stderr",
     "output_type": "stream",
     "text": [
      "\r",
      "617it [02:40,  3.84it/s]"
     ]
    },
    {
     "name": "stdout",
     "output_type": "stream",
     "text": [
      "Loaded dictionary from cached file ./tmp/cached_biosyn-sapbert-ncbi-disease_test_dictionary.pk\n"
     ]
    },
    {
     "name": "stderr",
     "output_type": "stream",
     "text": [
      "\r",
      "618it [02:40,  3.84it/s]"
     ]
    },
    {
     "name": "stdout",
     "output_type": "stream",
     "text": [
      "Loaded dictionary from cached file ./tmp/cached_biosyn-sapbert-ncbi-disease_test_dictionary.pk\n"
     ]
    },
    {
     "name": "stderr",
     "output_type": "stream",
     "text": [
      "\r",
      "619it [02:40,  3.82it/s]"
     ]
    },
    {
     "name": "stdout",
     "output_type": "stream",
     "text": [
      "Loaded dictionary from cached file ./tmp/cached_biosyn-sapbert-ncbi-disease_test_dictionary.pk\n"
     ]
    },
    {
     "name": "stderr",
     "output_type": "stream",
     "text": [
      "\r",
      "620it [02:40,  3.84it/s]"
     ]
    },
    {
     "name": "stdout",
     "output_type": "stream",
     "text": [
      "Loaded dictionary from cached file ./tmp/cached_biosyn-sapbert-ncbi-disease_test_dictionary.pk\n"
     ]
    },
    {
     "name": "stderr",
     "output_type": "stream",
     "text": [
      "\r",
      "621it [02:41,  3.83it/s]"
     ]
    },
    {
     "name": "stdout",
     "output_type": "stream",
     "text": [
      "Loaded dictionary from cached file ./tmp/cached_biosyn-sapbert-ncbi-disease_test_dictionary.pk\n"
     ]
    },
    {
     "name": "stderr",
     "output_type": "stream",
     "text": [
      "\r",
      "622it [02:41,  3.84it/s]"
     ]
    },
    {
     "name": "stdout",
     "output_type": "stream",
     "text": [
      "Loaded dictionary from cached file ./tmp/cached_biosyn-sapbert-ncbi-disease_test_dictionary.pk\n"
     ]
    },
    {
     "name": "stderr",
     "output_type": "stream",
     "text": [
      "\r",
      "623it [02:41,  3.82it/s]"
     ]
    },
    {
     "name": "stdout",
     "output_type": "stream",
     "text": [
      "Loaded dictionary from cached file ./tmp/cached_biosyn-sapbert-ncbi-disease_test_dictionary.pk\n"
     ]
    },
    {
     "name": "stderr",
     "output_type": "stream",
     "text": [
      "\r",
      "624it [02:41,  3.82it/s]"
     ]
    },
    {
     "name": "stdout",
     "output_type": "stream",
     "text": [
      "Loaded dictionary from cached file ./tmp/cached_biosyn-sapbert-ncbi-disease_test_dictionary.pk\n"
     ]
    },
    {
     "name": "stderr",
     "output_type": "stream",
     "text": [
      "\r",
      "625it [02:42,  3.82it/s]"
     ]
    },
    {
     "name": "stdout",
     "output_type": "stream",
     "text": [
      "Loaded dictionary from cached file ./tmp/cached_biosyn-sapbert-ncbi-disease_test_dictionary.pk\n"
     ]
    },
    {
     "name": "stderr",
     "output_type": "stream",
     "text": [
      "\r",
      "626it [02:42,  3.84it/s]"
     ]
    },
    {
     "name": "stdout",
     "output_type": "stream",
     "text": [
      "Loaded dictionary from cached file ./tmp/cached_biosyn-sapbert-ncbi-disease_test_dictionary.pk\n"
     ]
    },
    {
     "name": "stderr",
     "output_type": "stream",
     "text": [
      "\r",
      "627it [02:42,  3.85it/s]"
     ]
    },
    {
     "name": "stdout",
     "output_type": "stream",
     "text": [
      "Loaded dictionary from cached file ./tmp/cached_biosyn-sapbert-ncbi-disease_test_dictionary.pk\n"
     ]
    },
    {
     "name": "stderr",
     "output_type": "stream",
     "text": [
      "\r",
      "628it [02:42,  3.88it/s]"
     ]
    },
    {
     "name": "stdout",
     "output_type": "stream",
     "text": [
      "Loaded dictionary from cached file ./tmp/cached_biosyn-sapbert-ncbi-disease_test_dictionary.pk\n"
     ]
    },
    {
     "name": "stderr",
     "output_type": "stream",
     "text": [
      "\r",
      "629it [02:43,  3.89it/s]"
     ]
    },
    {
     "name": "stdout",
     "output_type": "stream",
     "text": [
      "Loaded dictionary from cached file ./tmp/cached_biosyn-sapbert-ncbi-disease_test_dictionary.pk\n"
     ]
    },
    {
     "name": "stderr",
     "output_type": "stream",
     "text": [
      "\r",
      "630it [02:43,  3.87it/s]"
     ]
    },
    {
     "name": "stdout",
     "output_type": "stream",
     "text": [
      "Loaded dictionary from cached file ./tmp/cached_biosyn-sapbert-ncbi-disease_test_dictionary.pk\n"
     ]
    },
    {
     "name": "stderr",
     "output_type": "stream",
     "text": [
      "\r",
      "631it [02:43,  3.86it/s]"
     ]
    },
    {
     "name": "stdout",
     "output_type": "stream",
     "text": [
      "Loaded dictionary from cached file ./tmp/cached_biosyn-sapbert-ncbi-disease_test_dictionary.pk\n"
     ]
    },
    {
     "name": "stderr",
     "output_type": "stream",
     "text": [
      "\r",
      "632it [02:43,  3.85it/s]"
     ]
    },
    {
     "name": "stdout",
     "output_type": "stream",
     "text": [
      "Loaded dictionary from cached file ./tmp/cached_biosyn-sapbert-ncbi-disease_test_dictionary.pk\n"
     ]
    },
    {
     "name": "stderr",
     "output_type": "stream",
     "text": [
      "\r",
      "633it [02:44,  3.84it/s]"
     ]
    },
    {
     "name": "stdout",
     "output_type": "stream",
     "text": [
      "Loaded dictionary from cached file ./tmp/cached_biosyn-sapbert-ncbi-disease_test_dictionary.pk\n"
     ]
    },
    {
     "name": "stderr",
     "output_type": "stream",
     "text": [
      "\r",
      "634it [02:44,  3.85it/s]"
     ]
    },
    {
     "name": "stdout",
     "output_type": "stream",
     "text": [
      "Loaded dictionary from cached file ./tmp/cached_biosyn-sapbert-ncbi-disease_test_dictionary.pk\n"
     ]
    },
    {
     "name": "stderr",
     "output_type": "stream",
     "text": [
      "\r",
      "635it [02:44,  3.84it/s]"
     ]
    },
    {
     "name": "stdout",
     "output_type": "stream",
     "text": [
      "Loaded dictionary from cached file ./tmp/cached_biosyn-sapbert-ncbi-disease_test_dictionary.pk\n"
     ]
    },
    {
     "name": "stderr",
     "output_type": "stream",
     "text": [
      "\r",
      "636it [02:44,  3.80it/s]"
     ]
    },
    {
     "name": "stdout",
     "output_type": "stream",
     "text": [
      "Loaded dictionary from cached file ./tmp/cached_biosyn-sapbert-ncbi-disease_test_dictionary.pk\n"
     ]
    },
    {
     "name": "stderr",
     "output_type": "stream",
     "text": [
      "\r",
      "637it [02:45,  3.80it/s]"
     ]
    },
    {
     "name": "stdout",
     "output_type": "stream",
     "text": [
      "Loaded dictionary from cached file ./tmp/cached_biosyn-sapbert-ncbi-disease_test_dictionary.pk\n"
     ]
    },
    {
     "name": "stderr",
     "output_type": "stream",
     "text": [
      "\r",
      "638it [02:45,  3.77it/s]"
     ]
    },
    {
     "name": "stdout",
     "output_type": "stream",
     "text": [
      "Loaded dictionary from cached file ./tmp/cached_biosyn-sapbert-ncbi-disease_test_dictionary.pk\n"
     ]
    },
    {
     "name": "stderr",
     "output_type": "stream",
     "text": [
      "\r",
      "639it [02:45,  3.75it/s]"
     ]
    },
    {
     "name": "stdout",
     "output_type": "stream",
     "text": [
      "Loaded dictionary from cached file ./tmp/cached_biosyn-sapbert-ncbi-disease_test_dictionary.pk\n"
     ]
    },
    {
     "name": "stderr",
     "output_type": "stream",
     "text": [
      "\r",
      "640it [02:46,  3.72it/s]"
     ]
    },
    {
     "name": "stdout",
     "output_type": "stream",
     "text": [
      "Loaded dictionary from cached file ./tmp/cached_biosyn-sapbert-ncbi-disease_test_dictionary.pk\n"
     ]
    },
    {
     "name": "stderr",
     "output_type": "stream",
     "text": [
      "\r",
      "641it [02:46,  3.71it/s]"
     ]
    },
    {
     "name": "stdout",
     "output_type": "stream",
     "text": [
      "Loaded dictionary from cached file ./tmp/cached_biosyn-sapbert-ncbi-disease_test_dictionary.pk\n"
     ]
    },
    {
     "name": "stderr",
     "output_type": "stream",
     "text": [
      "\r",
      "642it [02:46,  3.76it/s]"
     ]
    },
    {
     "name": "stdout",
     "output_type": "stream",
     "text": [
      "Loaded dictionary from cached file ./tmp/cached_biosyn-sapbert-ncbi-disease_test_dictionary.pk\n"
     ]
    },
    {
     "name": "stderr",
     "output_type": "stream",
     "text": [
      "\r",
      "643it [02:46,  3.77it/s]"
     ]
    },
    {
     "name": "stdout",
     "output_type": "stream",
     "text": [
      "Loaded dictionary from cached file ./tmp/cached_biosyn-sapbert-ncbi-disease_test_dictionary.pk\n"
     ]
    },
    {
     "name": "stderr",
     "output_type": "stream",
     "text": [
      "\r",
      "644it [02:47,  3.79it/s]"
     ]
    },
    {
     "name": "stdout",
     "output_type": "stream",
     "text": [
      "Loaded dictionary from cached file ./tmp/cached_biosyn-sapbert-ncbi-disease_test_dictionary.pk\n"
     ]
    },
    {
     "name": "stderr",
     "output_type": "stream",
     "text": [
      "\r",
      "645it [02:47,  3.76it/s]"
     ]
    },
    {
     "name": "stdout",
     "output_type": "stream",
     "text": [
      "Loaded dictionary from cached file ./tmp/cached_biosyn-sapbert-ncbi-disease_test_dictionary.pk\n"
     ]
    },
    {
     "name": "stderr",
     "output_type": "stream",
     "text": [
      "\r",
      "646it [02:47,  3.77it/s]"
     ]
    },
    {
     "name": "stdout",
     "output_type": "stream",
     "text": [
      "Loaded dictionary from cached file ./tmp/cached_biosyn-sapbert-ncbi-disease_test_dictionary.pk\n"
     ]
    },
    {
     "name": "stderr",
     "output_type": "stream",
     "text": [
      "\r",
      "647it [02:47,  3.81it/s]"
     ]
    },
    {
     "name": "stdout",
     "output_type": "stream",
     "text": [
      "Loaded dictionary from cached file ./tmp/cached_biosyn-sapbert-ncbi-disease_test_dictionary.pk\n"
     ]
    },
    {
     "name": "stderr",
     "output_type": "stream",
     "text": [
      "\r",
      "648it [02:48,  3.84it/s]"
     ]
    },
    {
     "name": "stdout",
     "output_type": "stream",
     "text": [
      "Loaded dictionary from cached file ./tmp/cached_biosyn-sapbert-ncbi-disease_test_dictionary.pk\n"
     ]
    },
    {
     "name": "stderr",
     "output_type": "stream",
     "text": [
      "\r",
      "649it [02:48,  3.87it/s]"
     ]
    },
    {
     "name": "stdout",
     "output_type": "stream",
     "text": [
      "Loaded dictionary from cached file ./tmp/cached_biosyn-sapbert-ncbi-disease_test_dictionary.pk\n"
     ]
    },
    {
     "name": "stderr",
     "output_type": "stream",
     "text": [
      "\r",
      "650it [02:48,  3.87it/s]"
     ]
    },
    {
     "name": "stdout",
     "output_type": "stream",
     "text": [
      "Loaded dictionary from cached file ./tmp/cached_biosyn-sapbert-ncbi-disease_test_dictionary.pk\n"
     ]
    },
    {
     "name": "stderr",
     "output_type": "stream",
     "text": [
      "\r",
      "651it [02:48,  3.88it/s]"
     ]
    },
    {
     "name": "stdout",
     "output_type": "stream",
     "text": [
      "Loaded dictionary from cached file ./tmp/cached_biosyn-sapbert-ncbi-disease_test_dictionary.pk\n"
     ]
    },
    {
     "name": "stderr",
     "output_type": "stream",
     "text": [
      "\r",
      "652it [02:49,  3.89it/s]"
     ]
    },
    {
     "name": "stdout",
     "output_type": "stream",
     "text": [
      "Loaded dictionary from cached file ./tmp/cached_biosyn-sapbert-ncbi-disease_test_dictionary.pk\n"
     ]
    },
    {
     "name": "stderr",
     "output_type": "stream",
     "text": [
      "\r",
      "653it [02:49,  3.90it/s]"
     ]
    },
    {
     "name": "stdout",
     "output_type": "stream",
     "text": [
      "Loaded dictionary from cached file ./tmp/cached_biosyn-sapbert-ncbi-disease_test_dictionary.pk\n"
     ]
    },
    {
     "name": "stderr",
     "output_type": "stream",
     "text": [
      "\r",
      "654it [02:49,  3.89it/s]"
     ]
    },
    {
     "name": "stdout",
     "output_type": "stream",
     "text": [
      "Loaded dictionary from cached file ./tmp/cached_biosyn-sapbert-ncbi-disease_test_dictionary.pk\n"
     ]
    },
    {
     "name": "stderr",
     "output_type": "stream",
     "text": [
      "\r",
      "655it [02:49,  3.86it/s]"
     ]
    },
    {
     "name": "stdout",
     "output_type": "stream",
     "text": [
      "Loaded dictionary from cached file ./tmp/cached_biosyn-sapbert-ncbi-disease_test_dictionary.pk\n"
     ]
    },
    {
     "name": "stderr",
     "output_type": "stream",
     "text": [
      "\r",
      "656it [02:50,  3.85it/s]"
     ]
    },
    {
     "name": "stdout",
     "output_type": "stream",
     "text": [
      "Loaded dictionary from cached file ./tmp/cached_biosyn-sapbert-ncbi-disease_test_dictionary.pk\n"
     ]
    },
    {
     "name": "stderr",
     "output_type": "stream",
     "text": [
      "\r",
      "657it [02:50,  3.85it/s]"
     ]
    },
    {
     "name": "stdout",
     "output_type": "stream",
     "text": [
      "Loaded dictionary from cached file ./tmp/cached_biosyn-sapbert-ncbi-disease_test_dictionary.pk\n"
     ]
    },
    {
     "name": "stderr",
     "output_type": "stream",
     "text": [
      "\r",
      "658it [02:50,  3.84it/s]"
     ]
    },
    {
     "name": "stdout",
     "output_type": "stream",
     "text": [
      "Loaded dictionary from cached file ./tmp/cached_biosyn-sapbert-ncbi-disease_test_dictionary.pk\n"
     ]
    },
    {
     "name": "stderr",
     "output_type": "stream",
     "text": [
      "\r",
      "659it [02:51,  3.82it/s]"
     ]
    },
    {
     "name": "stdout",
     "output_type": "stream",
     "text": [
      "Loaded dictionary from cached file ./tmp/cached_biosyn-sapbert-ncbi-disease_test_dictionary.pk\n"
     ]
    },
    {
     "name": "stderr",
     "output_type": "stream",
     "text": [
      "\r",
      "660it [02:51,  3.82it/s]"
     ]
    },
    {
     "name": "stdout",
     "output_type": "stream",
     "text": [
      "Loaded dictionary from cached file ./tmp/cached_biosyn-sapbert-ncbi-disease_test_dictionary.pk\n"
     ]
    },
    {
     "name": "stderr",
     "output_type": "stream",
     "text": [
      "\r",
      "661it [02:51,  3.84it/s]"
     ]
    },
    {
     "name": "stdout",
     "output_type": "stream",
     "text": [
      "Loaded dictionary from cached file ./tmp/cached_biosyn-sapbert-ncbi-disease_test_dictionary.pk\n"
     ]
    },
    {
     "name": "stderr",
     "output_type": "stream",
     "text": [
      "\r",
      "662it [02:51,  3.86it/s]"
     ]
    },
    {
     "name": "stdout",
     "output_type": "stream",
     "text": [
      "Loaded dictionary from cached file ./tmp/cached_biosyn-sapbert-ncbi-disease_test_dictionary.pk\n"
     ]
    },
    {
     "name": "stderr",
     "output_type": "stream",
     "text": [
      "\r",
      "663it [02:52,  3.88it/s]"
     ]
    },
    {
     "name": "stdout",
     "output_type": "stream",
     "text": [
      "Loaded dictionary from cached file ./tmp/cached_biosyn-sapbert-ncbi-disease_test_dictionary.pk\n"
     ]
    },
    {
     "name": "stderr",
     "output_type": "stream",
     "text": [
      "\r",
      "664it [02:52,  3.88it/s]"
     ]
    },
    {
     "name": "stdout",
     "output_type": "stream",
     "text": [
      "Loaded dictionary from cached file ./tmp/cached_biosyn-sapbert-ncbi-disease_test_dictionary.pk\n"
     ]
    },
    {
     "name": "stderr",
     "output_type": "stream",
     "text": [
      "\r",
      "665it [02:52,  3.83it/s]"
     ]
    },
    {
     "name": "stdout",
     "output_type": "stream",
     "text": [
      "Loaded dictionary from cached file ./tmp/cached_biosyn-sapbert-ncbi-disease_test_dictionary.pk\n"
     ]
    },
    {
     "name": "stderr",
     "output_type": "stream",
     "text": [
      "\r",
      "666it [02:52,  3.85it/s]"
     ]
    },
    {
     "name": "stdout",
     "output_type": "stream",
     "text": [
      "Loaded dictionary from cached file ./tmp/cached_biosyn-sapbert-ncbi-disease_test_dictionary.pk\n"
     ]
    },
    {
     "name": "stderr",
     "output_type": "stream",
     "text": [
      "\r",
      "667it [02:53,  3.86it/s]"
     ]
    },
    {
     "name": "stdout",
     "output_type": "stream",
     "text": [
      "Loaded dictionary from cached file ./tmp/cached_biosyn-sapbert-ncbi-disease_test_dictionary.pk\n"
     ]
    },
    {
     "name": "stderr",
     "output_type": "stream",
     "text": [
      "\r",
      "668it [02:53,  3.88it/s]"
     ]
    },
    {
     "name": "stdout",
     "output_type": "stream",
     "text": [
      "Loaded dictionary from cached file ./tmp/cached_biosyn-sapbert-ncbi-disease_test_dictionary.pk\n"
     ]
    },
    {
     "name": "stderr",
     "output_type": "stream",
     "text": [
      "\r",
      "669it [02:53,  3.86it/s]"
     ]
    },
    {
     "name": "stdout",
     "output_type": "stream",
     "text": [
      "Loaded dictionary from cached file ./tmp/cached_biosyn-sapbert-ncbi-disease_test_dictionary.pk\n"
     ]
    },
    {
     "name": "stderr",
     "output_type": "stream",
     "text": [
      "\r",
      "670it [02:53,  3.85it/s]"
     ]
    },
    {
     "name": "stdout",
     "output_type": "stream",
     "text": [
      "Loaded dictionary from cached file ./tmp/cached_biosyn-sapbert-ncbi-disease_test_dictionary.pk\n"
     ]
    },
    {
     "name": "stderr",
     "output_type": "stream",
     "text": [
      "\r",
      "671it [02:54,  3.85it/s]"
     ]
    },
    {
     "name": "stdout",
     "output_type": "stream",
     "text": [
      "Loaded dictionary from cached file ./tmp/cached_biosyn-sapbert-ncbi-disease_test_dictionary.pk\n"
     ]
    },
    {
     "name": "stderr",
     "output_type": "stream",
     "text": [
      "\r",
      "672it [02:54,  3.85it/s]"
     ]
    },
    {
     "name": "stdout",
     "output_type": "stream",
     "text": [
      "Loaded dictionary from cached file ./tmp/cached_biosyn-sapbert-ncbi-disease_test_dictionary.pk\n"
     ]
    },
    {
     "name": "stderr",
     "output_type": "stream",
     "text": [
      "\r",
      "673it [02:54,  3.84it/s]"
     ]
    },
    {
     "name": "stdout",
     "output_type": "stream",
     "text": [
      "Loaded dictionary from cached file ./tmp/cached_biosyn-sapbert-ncbi-disease_test_dictionary.pk\n"
     ]
    },
    {
     "name": "stderr",
     "output_type": "stream",
     "text": [
      "\r",
      "674it [02:54,  3.79it/s]"
     ]
    },
    {
     "name": "stdout",
     "output_type": "stream",
     "text": [
      "Loaded dictionary from cached file ./tmp/cached_biosyn-sapbert-ncbi-disease_test_dictionary.pk\n"
     ]
    },
    {
     "name": "stderr",
     "output_type": "stream",
     "text": [
      "\r",
      "675it [02:55,  3.79it/s]"
     ]
    },
    {
     "name": "stdout",
     "output_type": "stream",
     "text": [
      "Loaded dictionary from cached file ./tmp/cached_biosyn-sapbert-ncbi-disease_test_dictionary.pk\n"
     ]
    },
    {
     "name": "stderr",
     "output_type": "stream",
     "text": [
      "\r",
      "676it [02:55,  3.79it/s]"
     ]
    },
    {
     "name": "stdout",
     "output_type": "stream",
     "text": [
      "Loaded dictionary from cached file ./tmp/cached_biosyn-sapbert-ncbi-disease_test_dictionary.pk\n"
     ]
    },
    {
     "name": "stderr",
     "output_type": "stream",
     "text": [
      "\r",
      "677it [02:55,  3.77it/s]"
     ]
    },
    {
     "name": "stdout",
     "output_type": "stream",
     "text": [
      "Loaded dictionary from cached file ./tmp/cached_biosyn-sapbert-ncbi-disease_test_dictionary.pk\n"
     ]
    },
    {
     "name": "stderr",
     "output_type": "stream",
     "text": [
      "\r",
      "678it [02:55,  3.78it/s]"
     ]
    },
    {
     "name": "stdout",
     "output_type": "stream",
     "text": [
      "Loaded dictionary from cached file ./tmp/cached_biosyn-sapbert-ncbi-disease_test_dictionary.pk\n"
     ]
    },
    {
     "name": "stderr",
     "output_type": "stream",
     "text": [
      "\r",
      "679it [02:56,  3.78it/s]"
     ]
    },
    {
     "name": "stdout",
     "output_type": "stream",
     "text": [
      "Loaded dictionary from cached file ./tmp/cached_biosyn-sapbert-ncbi-disease_test_dictionary.pk\n"
     ]
    },
    {
     "name": "stderr",
     "output_type": "stream",
     "text": [
      "\r",
      "680it [02:56,  3.76it/s]"
     ]
    },
    {
     "name": "stdout",
     "output_type": "stream",
     "text": [
      "Loaded dictionary from cached file ./tmp/cached_biosyn-sapbert-ncbi-disease_test_dictionary.pk\n"
     ]
    },
    {
     "name": "stderr",
     "output_type": "stream",
     "text": [
      "\r",
      "681it [02:56,  3.78it/s]"
     ]
    },
    {
     "name": "stdout",
     "output_type": "stream",
     "text": [
      "Loaded dictionary from cached file ./tmp/cached_biosyn-sapbert-ncbi-disease_test_dictionary.pk\n"
     ]
    },
    {
     "name": "stderr",
     "output_type": "stream",
     "text": [
      "\r",
      "682it [02:57,  3.77it/s]"
     ]
    },
    {
     "name": "stdout",
     "output_type": "stream",
     "text": [
      "Loaded dictionary from cached file ./tmp/cached_biosyn-sapbert-ncbi-disease_test_dictionary.pk\n"
     ]
    },
    {
     "name": "stderr",
     "output_type": "stream",
     "text": [
      "\r",
      "683it [02:57,  3.80it/s]"
     ]
    },
    {
     "name": "stdout",
     "output_type": "stream",
     "text": [
      "Loaded dictionary from cached file ./tmp/cached_biosyn-sapbert-ncbi-disease_test_dictionary.pk\n"
     ]
    },
    {
     "name": "stderr",
     "output_type": "stream",
     "text": [
      "\r",
      "684it [02:57,  3.79it/s]"
     ]
    },
    {
     "name": "stdout",
     "output_type": "stream",
     "text": [
      "Loaded dictionary from cached file ./tmp/cached_biosyn-sapbert-ncbi-disease_test_dictionary.pk\n"
     ]
    },
    {
     "name": "stderr",
     "output_type": "stream",
     "text": [
      "\r",
      "685it [02:57,  3.83it/s]"
     ]
    },
    {
     "name": "stdout",
     "output_type": "stream",
     "text": [
      "Loaded dictionary from cached file ./tmp/cached_biosyn-sapbert-ncbi-disease_test_dictionary.pk\n"
     ]
    },
    {
     "name": "stderr",
     "output_type": "stream",
     "text": [
      "\r",
      "686it [02:58,  3.80it/s]"
     ]
    },
    {
     "name": "stdout",
     "output_type": "stream",
     "text": [
      "Loaded dictionary from cached file ./tmp/cached_biosyn-sapbert-ncbi-disease_test_dictionary.pk\n"
     ]
    },
    {
     "name": "stderr",
     "output_type": "stream",
     "text": [
      "\r",
      "687it [02:58,  3.75it/s]"
     ]
    },
    {
     "name": "stdout",
     "output_type": "stream",
     "text": [
      "Loaded dictionary from cached file ./tmp/cached_biosyn-sapbert-ncbi-disease_test_dictionary.pk\n"
     ]
    },
    {
     "name": "stderr",
     "output_type": "stream",
     "text": [
      "\r",
      "688it [02:58,  3.73it/s]"
     ]
    },
    {
     "name": "stdout",
     "output_type": "stream",
     "text": [
      "Loaded dictionary from cached file ./tmp/cached_biosyn-sapbert-ncbi-disease_test_dictionary.pk\n"
     ]
    },
    {
     "name": "stderr",
     "output_type": "stream",
     "text": [
      "\r",
      "689it [02:58,  3.67it/s]"
     ]
    },
    {
     "name": "stdout",
     "output_type": "stream",
     "text": [
      "Loaded dictionary from cached file ./tmp/cached_biosyn-sapbert-ncbi-disease_test_dictionary.pk\n"
     ]
    },
    {
     "name": "stderr",
     "output_type": "stream",
     "text": [
      "\r",
      "690it [02:59,  3.60it/s]"
     ]
    },
    {
     "name": "stdout",
     "output_type": "stream",
     "text": [
      "Loaded dictionary from cached file ./tmp/cached_biosyn-sapbert-ncbi-disease_test_dictionary.pk\n"
     ]
    },
    {
     "name": "stderr",
     "output_type": "stream",
     "text": [
      "\r",
      "691it [02:59,  3.66it/s]"
     ]
    },
    {
     "name": "stdout",
     "output_type": "stream",
     "text": [
      "Loaded dictionary from cached file ./tmp/cached_biosyn-sapbert-ncbi-disease_test_dictionary.pk\n"
     ]
    },
    {
     "name": "stderr",
     "output_type": "stream",
     "text": [
      "\r",
      "692it [02:59,  3.64it/s]"
     ]
    },
    {
     "name": "stdout",
     "output_type": "stream",
     "text": [
      "Loaded dictionary from cached file ./tmp/cached_biosyn-sapbert-ncbi-disease_test_dictionary.pk\n"
     ]
    },
    {
     "name": "stderr",
     "output_type": "stream",
     "text": [
      "\r",
      "693it [03:00,  3.64it/s]"
     ]
    },
    {
     "name": "stdout",
     "output_type": "stream",
     "text": [
      "Loaded dictionary from cached file ./tmp/cached_biosyn-sapbert-ncbi-disease_test_dictionary.pk\n"
     ]
    },
    {
     "name": "stderr",
     "output_type": "stream",
     "text": [
      "\r",
      "694it [03:00,  3.63it/s]"
     ]
    },
    {
     "name": "stdout",
     "output_type": "stream",
     "text": [
      "Loaded dictionary from cached file ./tmp/cached_biosyn-sapbert-ncbi-disease_test_dictionary.pk\n"
     ]
    },
    {
     "name": "stderr",
     "output_type": "stream",
     "text": [
      "\r",
      "695it [03:00,  3.68it/s]"
     ]
    },
    {
     "name": "stdout",
     "output_type": "stream",
     "text": [
      "Loaded dictionary from cached file ./tmp/cached_biosyn-sapbert-ncbi-disease_test_dictionary.pk\n"
     ]
    },
    {
     "name": "stderr",
     "output_type": "stream",
     "text": [
      "\r",
      "696it [03:00,  3.74it/s]"
     ]
    },
    {
     "name": "stdout",
     "output_type": "stream",
     "text": [
      "Loaded dictionary from cached file ./tmp/cached_biosyn-sapbert-ncbi-disease_test_dictionary.pk\n"
     ]
    },
    {
     "name": "stderr",
     "output_type": "stream",
     "text": [
      "\r",
      "697it [03:01,  3.79it/s]"
     ]
    },
    {
     "name": "stdout",
     "output_type": "stream",
     "text": [
      "Loaded dictionary from cached file ./tmp/cached_biosyn-sapbert-ncbi-disease_test_dictionary.pk\n"
     ]
    },
    {
     "name": "stderr",
     "output_type": "stream",
     "text": [
      "\r",
      "698it [03:01,  3.81it/s]"
     ]
    },
    {
     "name": "stdout",
     "output_type": "stream",
     "text": [
      "Loaded dictionary from cached file ./tmp/cached_biosyn-sapbert-ncbi-disease_test_dictionary.pk\n"
     ]
    },
    {
     "name": "stderr",
     "output_type": "stream",
     "text": [
      "\r",
      "699it [03:01,  3.82it/s]"
     ]
    },
    {
     "name": "stdout",
     "output_type": "stream",
     "text": [
      "Loaded dictionary from cached file ./tmp/cached_biosyn-sapbert-ncbi-disease_test_dictionary.pk\n"
     ]
    },
    {
     "name": "stderr",
     "output_type": "stream",
     "text": [
      "\r",
      "700it [03:01,  3.83it/s]"
     ]
    },
    {
     "name": "stdout",
     "output_type": "stream",
     "text": [
      "Loaded dictionary from cached file ./tmp/cached_biosyn-sapbert-ncbi-disease_test_dictionary.pk\n"
     ]
    },
    {
     "name": "stderr",
     "output_type": "stream",
     "text": [
      "\r",
      "701it [03:02,  3.82it/s]"
     ]
    },
    {
     "name": "stdout",
     "output_type": "stream",
     "text": [
      "Loaded dictionary from cached file ./tmp/cached_biosyn-sapbert-ncbi-disease_test_dictionary.pk\n"
     ]
    },
    {
     "name": "stderr",
     "output_type": "stream",
     "text": [
      "\r",
      "702it [03:02,  3.80it/s]"
     ]
    },
    {
     "name": "stdout",
     "output_type": "stream",
     "text": [
      "Loaded dictionary from cached file ./tmp/cached_biosyn-sapbert-ncbi-disease_test_dictionary.pk\n"
     ]
    },
    {
     "name": "stderr",
     "output_type": "stream",
     "text": [
      "\r",
      "703it [03:02,  3.82it/s]"
     ]
    },
    {
     "name": "stdout",
     "output_type": "stream",
     "text": [
      "Loaded dictionary from cached file ./tmp/cached_biosyn-sapbert-ncbi-disease_test_dictionary.pk\n"
     ]
    },
    {
     "name": "stderr",
     "output_type": "stream",
     "text": [
      "\r",
      "704it [03:02,  3.82it/s]"
     ]
    },
    {
     "name": "stdout",
     "output_type": "stream",
     "text": [
      "Loaded dictionary from cached file ./tmp/cached_biosyn-sapbert-ncbi-disease_test_dictionary.pk\n"
     ]
    },
    {
     "name": "stderr",
     "output_type": "stream",
     "text": [
      "705it [03:03,  3.85it/s]"
     ]
    },
    {
     "name": "stdout",
     "output_type": "stream",
     "text": [
      "Loaded dictionary from cached file ./tmp/cached_biosyn-sapbert-ncbi-disease_test_dictionary.pk\n"
     ]
    },
    {
     "name": "stderr",
     "output_type": "stream",
     "text": [
      "\n"
     ]
    }
   ],
   "source": [
    "EL_DATA = []\n",
    "\n",
    "for disease_object, vi_disease, en_disease in tqdm(zip(data,DISEASE,EN_DISEASE)):\n",
    "    d_object = {}\n",
    "    d_object['key'] = get_unique_key(disease_object)\n",
    "\n",
    "    for k,v in disease_object.items():\n",
    "        d_object[k] = v\n",
    "                \n",
    "    en_entities = Entity_Linker(en_disease,dictionary_path)\n",
    "    \n",
    "    synonym_disease = []\n",
    "    en_entities = [item['name'] for item in en_entities['predictions']]\n",
    "    synonym_disease.extend(d_object['disease'])\n",
    "    synonym_disease.extend(en_entities)\n",
    "    synonym_disease.extend([vi_disease])\n",
    "    \n",
    "    synonym_diseas = list(set(synonym_disease))\n",
    "    \n",
    "    d_object['synonyms'] = synonym_disease\n",
    "    \n",
    "    EL_DATA.append(d_object)"
   ]
  },
  {
   "cell_type": "code",
   "execution_count": 106,
   "metadata": {},
   "outputs": [],
   "source": [
    "with open('el_data.json', 'w') as f:\n",
    "    json.dump(EL_DATA, f, ensure_ascii=False)"
   ]
  },
  {
   "cell_type": "code",
   "execution_count": null,
   "metadata": {},
   "outputs": [],
   "source": []
  }
 ],
 "metadata": {
  "kernelspec": {
   "display_name": "Python 3",
   "language": "python",
   "name": "python3"
  },
  "language_info": {
   "codemirror_mode": {
    "name": "ipython",
    "version": 3
   },
   "file_extension": ".py",
   "mimetype": "text/x-python",
   "name": "python",
   "nbconvert_exporter": "python",
   "pygments_lexer": "ipython3",
   "version": "3.8.3"
  }
 },
 "nbformat": 4,
 "nbformat_minor": 4
}
